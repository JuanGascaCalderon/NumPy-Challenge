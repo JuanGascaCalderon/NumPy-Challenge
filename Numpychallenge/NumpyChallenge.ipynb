{
 "cells": [
  {
   "cell_type": "code",
   "execution_count": 1,
   "id": "ddfcbf6a",
   "metadata": {},
   "outputs": [
    {
     "name": "stdout",
     "output_type": "stream",
     "text": [
      "1.23.5\n"
     ]
    }
   ],
   "source": [
    "#Question 1 - Print the version of numpy\n",
    "import numpy as np\n",
    "print(np.__version__)"
   ]
  },
  {
   "cell_type": "code",
   "execution_count": 14,
   "id": "68e6fb39",
   "metadata": {},
   "outputs": [
    {
     "name": "stdout",
     "output_type": "stream",
     "text": [
      "[[0 0 0 0 0]\n",
      " [0 0 0 0 0]\n",
      " [0 0 0 0 0]\n",
      " [0 0 0 0 0]\n",
      " [0 0 0 0 0]]\n",
      "int16\n",
      "[[0 0 0 0 0]\n",
      " [0 0 0 0 0]\n",
      " [0 0 0 0 0]\n",
      " [0 0 0 0 0]\n",
      " [0 0 0 0 0]]\n"
     ]
    }
   ],
   "source": [
    "#Question 2\n",
    "\"\"\"\n",
    "Using NumPy create a 5x5 array filled with zeros (set data type to int16) \n",
    "and assign it to a variable named arr. In response, print this array to the console.\n",
    "\"\"\"\n",
    "import numpy as np\n",
    "arr = np.zeros((5,5))\n",
    "arr = np.int16(arr)\n",
    "print(arr)\n",
    "print(arr.dtype)\n",
    "\n",
    "#Another Way\n",
    "import numpy as np\n",
    "arr3 = np.zeros(shape=(5, 5), dtype='int16')\n",
    "print(arr3)\n"
   ]
  },
  {
   "cell_type": "code",
   "execution_count": 16,
   "id": "85d45164",
   "metadata": {},
   "outputs": [
    {
     "name": "stdout",
     "output_type": "stream",
     "text": [
      "[[8. 8. 8. 8. 8. 8. 8. 8. 8. 8.]\n",
      " [8. 8. 8. 8. 8. 8. 8. 8. 8. 8.]\n",
      " [8. 8. 8. 8. 8. 8. 8. 8. 8. 8.]\n",
      " [8. 8. 8. 8. 8. 8. 8. 8. 8. 8.]\n",
      " [8. 8. 8. 8. 8. 8. 8. 8. 8. 8.]\n",
      " [8. 8. 8. 8. 8. 8. 8. 8. 8. 8.]\n",
      " [8. 8. 8. 8. 8. 8. 8. 8. 8. 8.]\n",
      " [8. 8. 8. 8. 8. 8. 8. 8. 8. 8.]\n",
      " [8. 8. 8. 8. 8. 8. 8. 8. 8. 8.]\n",
      " [8. 8. 8. 8. 8. 8. 8. 8. 8. 8.]]\n"
     ]
    }
   ],
   "source": [
    "#Question 2\n",
    "\"\"\"\n",
    "Using NumPy, create a 10x10 array filled with number 8 (set the data type to float32) \n",
    "and assign it to a variable named arr. In response, print this array to the console as shown below.\n",
    "\"\"\"\n",
    "import numpy as np\n",
    "\n",
    "arr = np.full(shape=(10,10), dtype='float32', fill_value=(8))\n",
    "print(arr)"
   ]
  },
  {
   "cell_type": "code",
   "execution_count": 17,
   "id": "2358707b",
   "metadata": {},
   "outputs": [
    {
     "name": "stdout",
     "output_type": "stream",
     "text": [
      "[[8. 8. 8. 8. 8. 8. 8. 8. 8. 8.]\n",
      " [8. 8. 8. 8. 8. 8. 8. 8. 8. 8.]\n",
      " [8. 8. 8. 8. 8. 8. 8. 8. 8. 8.]\n",
      " [8. 8. 8. 8. 8. 8. 8. 8. 8. 8.]\n",
      " [8. 8. 8. 8. 8. 8. 8. 8. 8. 8.]\n",
      " [8. 8. 8. 8. 8. 8. 8. 8. 8. 8.]\n",
      " [8. 8. 8. 8. 8. 8. 8. 8. 8. 8.]\n",
      " [8. 8. 8. 8. 8. 8. 8. 8. 8. 8.]\n",
      " [8. 8. 8. 8. 8. 8. 8. 8. 8. 8.]\n",
      " [8. 8. 8. 8. 8. 8. 8. 8. 8. 8.]]\n"
     ]
    }
   ],
   "source": [
    "#Another solution of question 2\n",
    "import numpy as np\n",
    "arr = np.ones(shape=(10, 10), dtype='float32') * 8\n",
    "print(arr)"
   ]
  },
  {
   "cell_type": "code",
   "execution_count": 23,
   "id": "89975efb",
   "metadata": {},
   "outputs": [
    {
     "name": "stdout",
     "output_type": "stream",
     "text": [
      "[10 11 12 13 14 15 16 17 18 19 20 21 22 23 24 25 26 27 28 29 30 31 32 33\n",
      " 34 35 36 37 38 39 40 41 42 43 44 45 46 47 48 49 50 51 52 53 54 55 56 57\n",
      " 58 59 60 61 62 63 64 65 66 67 68 69 70 71 72 73 74 75 76 77 78 79 80 81\n",
      " 82 83 84 85 86 87 88 89 90 91 92 93 94 95 96 97 98 99]\n"
     ]
    }
   ],
   "source": [
    "#Question 3\n",
    "\"\"\"\n",
    "Using NumPy, create a one-dimensional array of all two-digit numbers, assign it to a variable \n",
    "named arr and print this array to the console as shown below.\n",
    "\"\"\"\n",
    "import numpy as np\n",
    "arr = np.arange(10,100,1)\n",
    "print(arr)"
   ]
  },
  {
   "cell_type": "code",
   "execution_count": 50,
   "id": "d2090320",
   "metadata": {},
   "outputs": [
    {
     "name": "stdout",
     "output_type": "stream",
     "text": [
      "[[10 11 12 13 14 15 16 17 18 19]\n",
      " [20 21 22 23 24 25 26 27 28 29]\n",
      " [30 31 32 33 34 35 36 37 38 39]\n",
      " [40 41 42 43 44 45 46 47 48 49]\n",
      " [50 51 52 53 54 55 56 57 58 59]\n",
      " [60 61 62 63 64 65 66 67 68 69]\n",
      " [70 71 72 73 74 75 76 77 78 79]\n",
      " [80 81 82 83 84 85 86 87 88 89]\n",
      " [90 91 92 93 94 95 96 97 98 99]]\n"
     ]
    }
   ],
   "source": [
    "#Question 4\n",
    "import numpy as np\n",
    "\"\"\"\n",
    "Using NumPy create the following array:\n",
    "[[10 11 12 13 14 15 16 17 18 19]\n",
    " [20 21 22 23 24 25 26 27 28 29]\n",
    " [30 31 32 33 34 35 36 37 38 39]\n",
    " [40 41 42 43 44 45 46 47 48 49]\n",
    " [50 51 52 53 54 55 56 57 58 59]\n",
    " [60 61 62 63 64 65 66 67 68 69]\n",
    " [70 71 72 73 74 75 76 77 78 79]\n",
    " [80 81 82 83 84 85 86 87 88 89]\n",
    " [90 91 92 93 94 95 96 97 98 99]]\n",
    "Note that the shape of this array is (9, 10). In response, print this array to the console.\n",
    "\"\"\"\n",
    "arr = np.arange(10,100)\n",
    "arr = arr.reshape((9,10))\n",
    "print(arr)"
   ]
  },
  {
   "cell_type": "code",
   "execution_count": 52,
   "id": "929e40cf",
   "metadata": {},
   "outputs": [
    {
     "name": "stdout",
     "output_type": "stream",
     "text": [
      "[[10 11 12 13 14 15 16 17 18 19]\n",
      " [20 21 22 23 24 25 26 27 28 29]\n",
      " [30 31 32 33 34 35 36 37 38 39]\n",
      " [40 41 42 43 44 45 46 47 48 49]\n",
      " [50 51 52 53 54 55 56 57 58 59]\n",
      " [60 61 62 63 64 65 66 67 68 69]\n",
      " [70 71 72 73 74 75 76 77 78 79]\n",
      " [80 81 82 83 84 85 86 87 88 89]\n",
      " [90 91 92 93 94 95 96 97 98 99]]\n",
      "[[10 11 12 13 14 15 16 17 18 19]\n",
      " [20 21 22 23 24 25 26 27 28 29]\n",
      " [30 31 32 33 34 35 36 37 38 39]\n",
      " [40 41 42 43 44 45 46 47 48 49]\n",
      " [50 51 52 53 54 55 56 57 58 59]\n",
      " [60 61 62 63 64 65 66 67 68 69]\n",
      " [70 71 72 73 74 75 76 77 78 79]\n",
      " [80 81 82 83 84 85 86 87 88 89]\n",
      " [90 91 92 93 94 95 96 97 98 99]]\n"
     ]
    }
   ],
   "source": [
    "#Another solutions of question 4\n",
    "import numpy as np\n",
    "#Solution1\n",
    "arr1 = np.arange(10, 100).reshape(-1, 10)\n",
    "print(arr1)\n",
    "#Solution2\n",
    "arr = np.arange(10, 100).reshape(9, -1)\n",
    "print(arr)\n"
   ]
  },
  {
   "cell_type": "code",
   "execution_count": 53,
   "id": "21b19eb6",
   "metadata": {},
   "outputs": [
    {
     "name": "stdout",
     "output_type": "stream",
     "text": [
      "[[1 0 0 0 0 0 0 0]\n",
      " [0 1 0 0 0 0 0 0]\n",
      " [0 0 1 0 0 0 0 0]\n",
      " [0 0 0 1 0 0 0 0]\n",
      " [0 0 0 0 1 0 0 0]\n",
      " [0 0 0 0 0 1 0 0]\n",
      " [0 0 0 0 0 0 1 0]\n",
      " [0 0 0 0 0 0 0 1]]\n"
     ]
    }
   ],
   "source": [
    "#Question 5\n",
    "\"\"\"\n",
    "Using NumPy, create a 8x8 two-dimensional array - identity matrix with int16 data type and \n",
    "assign it to a variable named arr. In response, print this array to the console as shown below.\n",
    "Expected output:\n",
    "[[1 0 0 0 0 0 0 0]\n",
    " [0 1 0 0 0 0 0 0]\n",
    " [0 0 1 0 0 0 0 0]\n",
    " [0 0 0 1 0 0 0 0]\n",
    " [0 0 0 0 1 0 0 0]\n",
    " [0 0 0 0 0 1 0 0]\n",
    " [0 0 0 0 0 0 1 0]\n",
    " [0 0 0 0 0 0 0 1]]\n",
    "Tip: Use the np.eye() function\n",
    "\"\"\"\n",
    "import numpy as np\n",
    "\n",
    "arr = np.eye(8,dtype='int16')\n",
    "print(arr)"
   ]
  },
  {
   "cell_type": "code",
   "execution_count": 59,
   "id": "ec21f2c1",
   "metadata": {},
   "outputs": [
    {
     "name": "stdout",
     "output_type": "stream",
     "text": [
      "[[[4 5 4 2]\n",
      "  [6 3 5 1]\n",
      "  [5 2 1 2]]\n",
      "\n",
      " [[7 2 3 1]\n",
      "  [6 2 0 9]\n",
      "  [0 1 9 1]]]\n"
     ]
    }
   ],
   "source": [
    "#Question 6\n",
    "\"\"\"\n",
    "Using NumPy create any 3-dimensional array of the shape (2, 3, 4) and assign it to variable arr\n",
    "\"\"\"\n",
    "import numpy as np\n",
    "arr = np.arrayarr = np.array([[[4, 5, 4, 2], [6, 3, 5, 1], [5, 2, 1, 2]],\n",
    "    [[7, 2, 3, 1], [6, 2, 0, 9], [0, 1, 9, 1]]])\n",
    "print(arr)"
   ]
  },
  {
   "cell_type": "code",
   "execution_count": 70,
   "id": "a4ae135d",
   "metadata": {},
   "outputs": [
    {
     "name": "stdout",
     "output_type": "stream",
     "text": [
      "[[4. 3. 6. 2. 1.]\n",
      " [7. 2. 1. 2. 6.]]\n"
     ]
    }
   ],
   "source": [
    "#Question 7\n",
    "\"\"\"\n",
    "Suppose you have the following NumPy array:\n",
    "arr = np.array(\n",
    "    [\n",
    "        ['4', '3', '6', '2', '1'],\n",
    "        ['7', '2', '1', '2', '6'],\n",
    "    ],\n",
    "    dtype='<U1',\n",
    ")\n",
    "Change the data type of this array to float16. In response print this array to the console.\n",
    "Expected output:\n",
    "[[4. 3. 6. 2. 1.]\n",
    " [7. 2. 1. 2. 6.]]\n",
    "\"\"\"\n",
    "import numpy as np\n",
    "arr = np.array(\n",
    "    [\n",
    "        ['4', '3', '6', '2', '1'],\n",
    "        ['7', '2', '1', '2', '6'],\n",
    "    ],\n",
    "    dtype='<U1',\n",
    ")\n",
    "arr = arr.astype('float16')\n",
    "print(arr)"
   ]
  },
  {
   "cell_type": "code",
   "execution_count": 74,
   "id": "a3606da1",
   "metadata": {},
   "outputs": [
    {
     "name": "stdout",
     "output_type": "stream",
     "text": [
      "[1 2 3 4 5]\n",
      "(5,)\n"
     ]
    }
   ],
   "source": [
    "#Question 8\n",
    "\"\"\"\n",
    "Create any one-dimensional NumPy array of the shape (5,) and assign it to variable named arr.\n",
    "\"\"\"\n",
    "import numpy as np\n",
    "\n",
    "arr = np.array([1,2,3,4,5])\n",
    "print(arr)\n",
    "print(arr.shape)"
   ]
  },
  {
   "cell_type": "markdown",
   "id": "23e5ccdd",
   "metadata": {},
   "source": [
    "***SECCIÓN 4***"
   ]
  },
  {
   "cell_type": "code",
   "execution_count": 80,
   "id": "59918954",
   "metadata": {},
   "outputs": [
    {
     "name": "stdout",
     "output_type": "stream",
     "text": [
      "[[0 0 0 0 0 0 0 0 0 0]\n",
      " [0 1 0 0 0 0 0 0 0 0]\n",
      " [0 0 2 0 0 0 0 0 0 0]\n",
      " [0 0 0 3 0 0 0 0 0 0]\n",
      " [0 0 0 0 4 0 0 0 0 0]\n",
      " [0 0 0 0 0 5 0 0 0 0]\n",
      " [0 0 0 0 0 0 6 0 0 0]\n",
      " [0 0 0 0 0 0 0 7 0 0]\n",
      " [0 0 0 0 0 0 0 0 8 0]\n",
      " [0 0 0 0 0 0 0 0 0 9]]\n",
      "ANOTHER WAY \n",
      " [[0 0 0 0 0 0 0 0 0 0]\n",
      " [0 1 0 0 0 0 0 0 0 0]\n",
      " [0 0 2 0 0 0 0 0 0 0]\n",
      " [0 0 0 3 0 0 0 0 0 0]\n",
      " [0 0 0 0 4 0 0 0 0 0]\n",
      " [0 0 0 0 0 5 0 0 0 0]\n",
      " [0 0 0 0 0 0 6 0 0 0]\n",
      " [0 0 0 0 0 0 0 7 0 0]\n",
      " [0 0 0 0 0 0 0 0 8 0]\n",
      " [0 0 0 0 0 0 0 0 0 9]]\n"
     ]
    }
   ],
   "source": [
    "#Question 1\n",
    "\"\"\"\n",
    "Using NumPy create the following 2-dimensional array:\n",
    "array([[0, 0, 0, 0, 0, 0, 0, 0, 0, 0],\n",
    "       [0, 1, 0, 0, 0, 0, 0, 0, 0, 0],\n",
    "       [0, 0, 2, 0, 0, 0, 0, 0, 0, 0],\n",
    "       [0, 0, 0, 3, 0, 0, 0, 0, 0, 0],\n",
    "       [0, 0, 0, 0, 4, 0, 0, 0, 0, 0],\n",
    "       [0, 0, 0, 0, 0, 5, 0, 0, 0, 0],\n",
    "       [0, 0, 0, 0, 0, 0, 6, 0, 0, 0],\n",
    "       [0, 0, 0, 0, 0, 0, 0, 7, 0, 0],\n",
    "       [0, 0, 0, 0, 0, 0, 0, 0, 8, 0],\n",
    "       [0, 0, 0, 0, 0, 0, 0, 0, 0, 9]])\n",
    "\n",
    "In response, print this array to the console.\n",
    "Expected output:\n",
    "[[0 0 0 0 0 0 0 0 0 0]\n",
    " [0 1 0 0 0 0 0 0 0 0]\n",
    " [0 0 2 0 0 0 0 0 0 0]\n",
    " [0 0 0 3 0 0 0 0 0 0]\n",
    " [0 0 0 0 4 0 0 0 0 0]\n",
    " [0 0 0 0 0 5 0 0 0 0]\n",
    " [0 0 0 0 0 0 6 0 0 0]\n",
    " [0 0 0 0 0 0 0 7 0 0]\n",
    " [0 0 0 0 0 0 0 0 8 0]\n",
    " [0 0 0 0 0 0 0 0 0 9]]\n",
    "Tip: Use the np.diag() function.\n",
    "\"\"\"\n",
    "import numpy as np\n",
    "arr = np.diag([0,1,2,3,4,5,6,7,8,9])\n",
    "print(arr)\n",
    "\n",
    "#Another way\n",
    "import numpy as np\n",
    "arr2 = np.diag(np.arange(10))\n",
    "print(\"ANOTHER WAY \\n\", arr2)"
   ]
  },
  {
   "cell_type": "code",
   "execution_count": 85,
   "id": "27ee6c4d",
   "metadata": {},
   "outputs": [
    {
     "name": "stdout",
     "output_type": "stream",
     "text": [
      "[[0 0 0 0 0 0]\n",
      " [0 5 5 5 5 0]\n",
      " [0 5 5 5 5 0]\n",
      " [0 5 5 5 5 0]\n",
      " [0 5 5 5 5 0]\n",
      " [0 0 0 0 0 0]]\n"
     ]
    }
   ],
   "source": [
    "#Question 2\n",
    "\"\"\"\n",
    "The following NumPy array:\n",
    "array([[1, 1, 1, 1],\n",
    "       [1, 1, 1, 1],\n",
    "       [1, 1, 1, 1],\n",
    "       [1, 1, 1, 1]])\n",
    "\n",
    "transform into this array:\n",
    "array([[0, 0, 0, 0, 0, 0],\n",
    "       [0, 5, 5, 5, 5, 0],\n",
    "       [0, 5, 5, 5, 5, 0],\n",
    "       [0, 5, 5, 5, 5, 0],\n",
    "       [0, 5, 5, 5, 5, 0],\n",
    "       [0, 0, 0, 0, 0, 0]])\n",
    "\n",
    "In response, print the transformed array to the console.\n",
    "\n",
    "Expected output:\n",
    "[[0 0 0 0 0 0]\n",
    " [0 5 5 5 5 0]\n",
    " [0 5 5 5 5 0]\n",
    " [0 5 5 5 5 0]\n",
    " [0 5 5 5 5 0]\n",
    " [0 0 0 0 0 0]]\n",
    "\n",
    "Tip: Use the np.pad() function.\n",
    "\"\"\"\n",
    "import numpy as np\n",
    "\n",
    "arr = np.ones(shape=(4, 4), dtype='int')\n",
    "arr = np.pad(arr*5, pad_width = 1, mode='constant')\n",
    "print(arr)"
   ]
  },
  {
   "cell_type": "code",
   "execution_count": 109,
   "id": "c981c804",
   "metadata": {},
   "outputs": [
    {
     "name": "stdout",
     "output_type": "stream",
     "text": [
      "[[2 0 2 0 2 0]\n",
      " [4 0 4 0 4 0]\n",
      " [2 0 2 0 2 0]\n",
      " [0 0 0 0 0 0]\n",
      " [2 0 2 0 2 0]\n",
      " [4 0 4 0 4 0]]\n",
      "ANOTHER WAY \n",
      " [[2 0 2 0 2 0]\n",
      " [0 0 0 0 0 0]\n",
      " [2 0 2 0 2 0]\n",
      " [0 0 0 0 0 0]\n",
      " [2 0 2 0 2 0]\n",
      " [0 0 0 0 0 0]]\n"
     ]
    }
   ],
   "source": [
    "#Question 3\n",
    "\"\"\"\n",
    "The following NumPy array:\n",
    "array([[0, 0, 0, 0, 0, 0],\n",
    "       [0, 0, 0, 0, 0, 0],\n",
    "       [0, 0, 0, 0, 0, 0],\n",
    "       [0, 0, 0, 0, 0, 0],\n",
    "       [0, 0, 0, 0, 0, 0],\n",
    "       [0, 0, 0, 0, 0, 0]])\n",
    "transform into the following:\n",
    "\n",
    "array([[2, 0, 2, 0, 2, 0],\n",
    "       [4, 0, 4, 0, 4, 0],\n",
    "       [2, 0, 2, 0, 2, 0],\n",
    "       [4, 0, 4, 0, 4, 0],\n",
    "       [2, 0, 2, 0, 2, 0],\n",
    "       [4, 0, 4, 0, 4, 0]])\n",
    "\n",
    "In response, print the transformed array to the console.\n",
    "Expected output:\n",
    "\n",
    "[[2 0 2 0 2 0]\n",
    " [4 0 4 0 4 0]\n",
    " [2 0 2 0 2 0]\n",
    " [4 0 4 0 4 0]\n",
    " [2 0 2 0 2 0]\n",
    " [4 0 4 0 4 0]]\n",
    "\n",
    "Tip: Use the slice operator and assign the appropriate values.\n",
    "\"\"\"\n",
    "import numpy as np\n",
    "\n",
    "arr = np.zeros(shape=(6, 6), dtype='int')\n",
    "arr[::2] = [2,0,2,0,2,0]\n",
    "arr[1::4] = [4,0,4,0,4,0]\n",
    "print(arr)\n",
    "#ANOTHER WAY\n",
    "arr2 = np.zeros(shape=(6, 6), dtype='int')\n",
    "arr2[::2, ::2] = 2\n",
    "arr[1::2, ::2] = 4\n",
    " \n",
    "print(\"ANOTHER WAY \\n\",arr2)"
   ]
  },
  {
   "cell_type": "code",
   "execution_count": 8,
   "id": "b3b92c47",
   "metadata": {},
   "outputs": [
    {
     "name": "stdout",
     "output_type": "stream",
     "text": [
      "[[0. 0. 0.]\n",
      " [0. 0. 0.]\n",
      " [0. 0. 0.]]\n"
     ]
    }
   ],
   "source": [
    "#Question 4\n",
    "\"\"\"\n",
    "The following array is given:\n",
    "arr = np.array(\n",
    "    [\n",
    "        [4.99, 3.49, 9.99],\n",
    "        [1.99, 9.99, 14.99],\n",
    "        [14.99, 2.39, 7.29],\n",
    "    ]\n",
    ")\n",
    "Using NumPy, create an array of the same shape and data type as the given array and fill it with zeros. In response, print this array to the console.\n",
    "Expected output:\n",
    "[[0. 0. 0.]\n",
    " [0. 0. 0.]\n",
    " [0. 0. 0.]]\n",
    "Tip: Use the np.zeros_like() function.\n",
    "\"\"\"\n",
    "import numpy as np\n",
    "arr = np.array(\n",
    "    [\n",
    "        [4.99, 3.49, 9.99],\n",
    "        [1.99, 9.99, 14.99],\n",
    "        [14.99, 2.39, 7.29],\n",
    "    ]\n",
    ")\n",
    "\n",
    "arr = np.zeros_like(arr, shape=(3,3))\n",
    "print(arr)"
   ]
  },
  {
   "cell_type": "code",
   "execution_count": 9,
   "id": "fba8b2e2",
   "metadata": {},
   "outputs": [
    {
     "name": "stdout",
     "output_type": "stream",
     "text": [
      "[[9.99 9.99 9.99]\n",
      " [9.99 9.99 9.99]\n",
      " [9.99 9.99 9.99]]\n"
     ]
    }
   ],
   "source": [
    "#Question #5\n",
    "\"\"\"\n",
    "The following array is given:\n",
    "A = np.array(\n",
    "    [\n",
    "        [4.99, 3.49, 9.99],\n",
    "        [1.99, 9.99, 14.99],\n",
    "        [14.99, 2.39, 7.29],\n",
    "    ]\n",
    ")\n",
    "Using NumPy, create an array of the same shape and data type as the given array and fill it with a constant value 9.99. In response, print this array to the console.\n",
    "Expected output:\n",
    "[[9.99 9.99 9.99]\n",
    " [9.99 9.99 9.99]\n",
    " [9.99 9.99 9.99]]\n",
    "Tip: Use the np.full_like() function.\n",
    "\"\"\"\n",
    "import numpy as np\n",
    "arr = np.array(\n",
    "    [\n",
    "        [4.99, 3.49, 9.99],\n",
    "        [1.99, 9.99, 14.99],\n",
    "        [14.99, 2.39, 7.29],\n",
    "    ]\n",
    ")\n",
    "\n",
    "arr = np.full_like(arr,fill_value = 9.99)\n",
    "print(arr)"
   ]
  },
  {
   "cell_type": "code",
   "execution_count": 11,
   "id": "468024f4",
   "metadata": {},
   "outputs": [
    {
     "name": "stdout",
     "output_type": "stream",
     "text": [
      "[[1. 0. 0. 0. 0. 0.]\n",
      " [1. 1. 0. 0. 0. 0.]\n",
      " [1. 1. 1. 0. 0. 0.]\n",
      " [1. 1. 1. 1. 0. 0.]\n",
      " [1. 1. 1. 1. 1. 0.]\n",
      " [1. 1. 1. 1. 1. 1.]]\n"
     ]
    }
   ],
   "source": [
    "#Question 6\n",
    "\"\"\"\n",
    "Using NumPy create the following two-dimensional array - lower triangular matrix:\n",
    "array([[1., 0., 0., 0., 0., 0.],\n",
    "       [1., 1., 0., 0., 0., 0.],\n",
    "       [1., 1., 1., 0., 0., 0.],\n",
    "       [1., 1., 1., 1., 0., 0.],\n",
    "       [1., 1., 1., 1., 1., 0.],\n",
    "       [1., 1., 1., 1., 1., 1.]])\n",
    "In response, print this array to the console.\n",
    "Expected output:\n",
    "[[1. 0. 0. 0. 0. 0.]\n",
    " [1. 1. 0. 0. 0. 0.]\n",
    " [1. 1. 1. 0. 0. 0.]\n",
    " [1. 1. 1. 1. 0. 0.]\n",
    " [1. 1. 1. 1. 1. 0.]\n",
    " [1. 1. 1. 1. 1. 1.]]\n",
    "Tip: Use the np.tri() function.\n",
    "\"\"\"\n",
    "import numpy as np\n",
    "\n",
    "arr = np.tri(6,6)\n",
    "print(arr)"
   ]
  },
  {
   "cell_type": "code",
   "execution_count": 12,
   "id": "cec4f18d",
   "metadata": {},
   "outputs": [
    {
     "name": "stdout",
     "output_type": "stream",
     "text": [
      "[[1. 0. 0. 0. 0. 0.]\n",
      " [1. 1. 0. 0. 0. 0.]\n",
      " [1. 1. 1. 0. 0. 0.]\n",
      " [1. 1. 1. 1. 0. 0.]\n",
      " [1. 1. 1. 1. 1. 0.]\n",
      " [1. 1. 1. 1. 1. 1.]]\n"
     ]
    }
   ],
   "source": [
    "#Another way of question number 5\n",
    "import numpy as np\n",
    "\n",
    "arr = np.tri(N=6)\n",
    "print(arr)"
   ]
  },
  {
   "cell_type": "code",
   "execution_count": 14,
   "id": "ce36016a",
   "metadata": {},
   "outputs": [
    {
     "name": "stdout",
     "output_type": "stream",
     "text": [
      "[[0 1 1 0 1]\n",
      " [0 0 1 1 1]]\n"
     ]
    }
   ],
   "source": [
    "#Question 6\n",
    "\"\"\"\n",
    "Suppose you have the following NumPy array:\n",
    "\n",
    "arr = np.array(\n",
    "    [\n",
    "        [False, True, True, False, True],\n",
    "        [False, False, True, True, True],\n",
    "    ]\n",
    ")\n",
    "\n",
    "Change the data type of this array to int8. In response print this array to the console.\n",
    "\n",
    "Expected output:\n",
    "\n",
    "[[0 1 1 0 1]\n",
    " [0 0 1 1 1]]\n",
    "\"\"\"\n",
    "import numpy as np\n",
    "arr = np.array(\n",
    "    [\n",
    "        [False, True, True, False, True],\n",
    "         [False, False, True, True, True],\n",
    "    ]\n",
    ")\n",
    "\n",
    "arr =  arr.astype('int8')\n",
    "print(arr)"
   ]
  },
  {
   "cell_type": "code",
   "execution_count": 24,
   "id": "a70addb5",
   "metadata": {},
   "outputs": [
    {
     "name": "stdout",
     "output_type": "stream",
     "text": [
      "[[ 1  2  3  4  5  6]\n",
      " [ 7  8  9 10 11 12]]\n",
      "[[ 1  2  3  4  5  6]\n",
      " [ 7  8  9 10 11 12]]\n"
     ]
    }
   ],
   "source": [
    "#Question 8\n",
    "\"\"\"\n",
    "Create any two-dimensional NumPy array of the shape (2,6) and int32 \n",
    "type and assign it to variable named arr.\n",
    "\"\"\"\n",
    "import numpy as np\n",
    "\n",
    "arr = np.array([[1,2,3,4,5,6],[7,8,9,10,11,12]])\n",
    "print(arr.astype('int32'))\n",
    "\n",
    "#Another way\n",
    "arr2 = np.array([[1,2,3,4,5,6],[7,8,9,10,11,12]], dtype='int32')\n",
    "print(arr2)"
   ]
  },
  {
   "cell_type": "markdown",
   "id": "f61676e8",
   "metadata": {},
   "source": [
    "***SECCIÓN 5***"
   ]
  },
  {
   "cell_type": "code",
   "execution_count": 25,
   "id": "c16aee50",
   "metadata": {},
   "outputs": [
    {
     "name": "stdout",
     "output_type": "stream",
     "text": [
      "[[1.97 1.04 1.35 2.17 2.29 4.38]\n",
      " [1.34 2.04 1.37 2.09 1.29 3.38]]\n"
     ]
    }
   ],
   "source": [
    "#Question 1\n",
    "\"\"\"\n",
    "Exercise 1\n",
    "Suppose you have the following list:\n",
    "rates = [\n",
    "    [1.97, 1.04, 1.35, 2.17, 2.29, 4.38],\n",
    "    [1.34, 2.04, 1.37, 2.09, 1.29, 3.38],\n",
    "]\n",
    "Convert this list into a NumPy array and print it ot the console.\n",
    "Expected output:\n",
    "\n",
    "[[1.97 1.04 1.35 2.17 2.29 4.38]\n",
    " [1.34 2.04 1.37 2.09 1.29 3.38]]\n",
    "\"\"\"\n",
    "\n",
    "import numpy as np\n",
    "rates = [\n",
    "    [1.97, 1.04, 1.35, 2.17, 2.29, 4.38],\n",
    "    [1.34, 2.04, 1.37, 2.09, 1.29, 3.38],\n",
    "]\n",
    "\n",
    "arr = np.array((rates))\n",
    "print(arr)\n",
    "#Antoher way\n",
    "#arr = np.asarray(rates)\n",
    "#print(arr)"
   ]
  },
  {
   "cell_type": "code",
   "execution_count": 57,
   "id": "3ec2c69d",
   "metadata": {},
   "outputs": [
    {
     "name": "stdout",
     "output_type": "stream",
     "text": [
      "[['30' 'Days' 'of' 'Python']\n",
      " ['Code' '-' 'Numpy' 'Challange']]\n"
     ]
    }
   ],
   "source": [
    "#Question 2\n",
    "\"\"\"\n",
    "Suppose you have the following string:\n",
    "title = '30 Days of Python Code - Numpy Challange'\n",
    "Convert this string to the following NumPy array:\n",
    "array([['30', 'Days', 'of', 'Python'],\n",
    "       ['Code', '-', 'Numpy', 'Challange']], dtype='<U9')\n",
    "In response, print this array to the console.\n",
    "Expected output:\n",
    "[['30' 'Days' 'of' 'Python']\n",
    " ['Code' '-' 'Numpy' 'Challange'\n",
    "\"\"\"\n",
    "import numpy as np\n",
    "title = '30 Days of Python Code - Numpy Challange'\n",
    "arr = str.split(title, ' ')\n",
    "\n",
    "arr = np.asarray(arr).reshape(2,-1)\n",
    "print(arr)"
   ]
  },
  {
   "cell_type": "code",
   "execution_count": 69,
   "id": "b0a89b2b",
   "metadata": {},
   "outputs": [
    {
     "name": "stdout",
     "output_type": "stream",
     "text": [
      "[[0 1 2 3 4 5 6 7 8 9]\n",
      " [0 1 2 3 4 5 6 7 8 9]\n",
      " [0 1 2 3 4 5 6 7 8 9]\n",
      " [0 1 2 3 4 5 6 7 8 9]\n",
      " [0 1 2 3 4 5 6 7 8 9]]\n",
      "[[0 1 2 3 4 5 6 7 8 9]\n",
      " [0 1 2 3 4 5 6 7 8 9]\n",
      " [0 1 2 3 4 5 6 7 8 9]\n",
      " [0 1 2 3 4 5 6 7 8 9]\n",
      " [0 1 2 3 4 5 6 7 8 9]]\n"
     ]
    }
   ],
   "source": [
    "#Question 3\n",
    "\"\"\"\n",
    "Create the following array using only functions implemented in NumPy:\n",
    "array([[0, 1, 2, 3, 4, 5, 6, 7, 8, 9],\n",
    "       [0, 1, 2, 3, 4, 5, 6, 7, 8, 9],\n",
    "       [0, 1, 2, 3, 4, 5, 6, 7, 8, 9],\n",
    "       [0, 1, 2, 3, 4, 5, 6, 7, 8, 9],\n",
    "       [0, 1, 2, 3, 4, 5, 6, 7, 8, 9]])\n",
    "In response, print this array to the console.\n",
    "Expected output:\n",
    "[[0 1 2 3 4 5 6 7 8 9]\n",
    " [0 1 2 3 4 5 6 7 8 9]\n",
    " [0 1 2 3 4 5 6 7 8 9]\n",
    " [0 1 2 3 4 5 6 7 8 9]\n",
    " [0 1 2 3 4 5 6 7 8 9]]\n",
    "Tip: Use the np.tile() function.\n",
    "\"\"\"\n",
    "import numpy as np\n",
    "from numpy import random\n",
    "\n",
    "arr = np.array([0,1,2,3,4,5,6,7,8,9])\n",
    "arr = np.tile(A=arr ,reps = (5,1))\n",
    "print(arr)\n",
    "\n",
    "#Another way\n",
    "arr2= np.tile(np.arange(10), (5,1))\n",
    "print(arr2)"
   ]
  },
  {
   "cell_type": "code",
   "execution_count": 71,
   "id": "7bd7edb6",
   "metadata": {},
   "outputs": [
    {
     "name": "stdout",
     "output_type": "stream",
     "text": [
      "[[[1 1 1 1 1 1]\n",
      "  [1 1 1 1 1 1]\n",
      "  [1 1 1 1 1 1]]\n",
      "\n",
      " [[1 1 1 1 1 1]\n",
      "  [1 1 1 1 1 1]\n",
      "  [1 1 1 1 1 1]]]\n"
     ]
    }
   ],
   "source": [
    "#Question 4\n",
    "\"\"\"\n",
    "Suppose you have the following 3-dimensional 2x3x6 NumPy array:\n",
    "arr = np.array(\n",
    "    [\n",
    "        [[3, 2, 4, 0, 1, 3], [5, 0, 4, 4, 4, 1], [3, 2, 4, 1, 1, 4]],\n",
    "        [[5, 5, 4, 5, 1, 3], [2, 2, 5, 2, 4, 0], [5, 1, 3, 4, 2, 3]],\n",
    "    ]\n",
    ")\n",
    "Construct an array of the same shape filled with the number 1 and print it to the console.\n",
    "Expected output:\n",
    "[[[1 1 1 1 1 1]\n",
    "  [1 1 1 1 1 1]\n",
    "  [1 1 1 1 1 1]]\n",
    " \n",
    " [[1 1 1 1 1 1]\n",
    "  [1 1 1 1 1 1]\n",
    "  [1 1 1 1 1 1]]]\n",
    "\"\"\"\n",
    "import numpy as np\n",
    "\n",
    "\n",
    "arr = np.array(\n",
    "    [\n",
    "        [[3, 2, 4, 0, 1, 3], [5, 0, 4, 4, 4, 1], [3, 2, 4, 1, 1, 4]],\n",
    "        [[5, 5, 4, 5, 1, 3], [2, 2, 5, 2, 4, 0], [5, 1, 3, 4, 2, 3]],\n",
    "    ]\n",
    ")\n",
    "arr = np.ones_like(arr)\n",
    "print(arr)"
   ]
  },
  {
   "cell_type": "code",
   "execution_count": 91,
   "id": "c49bf372",
   "metadata": {},
   "outputs": [
    {
     "name": "stdout",
     "output_type": "stream",
     "text": [
      "[[0.  0.1 0.2 0.3 0.4 0.5 0.6 0.7 0.8 0.9 1. ]\n",
      " [0.  0.  0.  0.  0.  0.  0.  0.  0.  0.  0. ]\n",
      " [0.  0.  0.  0.  0.  0.  0.  0.  0.  0.  0. ]\n",
      " [0.  0.  0.  0.  0.  0.  0.  0.  0.  0.  0. ]\n",
      " [0.  0.  0.  0.  0.  0.  0.  0.  0.  0.  0. ]]\n"
     ]
    }
   ],
   "source": [
    "#Question 5\n",
    "\"\"\"\n",
    "Create the following array using only functions implemented in NumPy:\n",
    "array([[0. , 0.1, 0.2, 0.3, 0.4, 0.5, 0.6, 0.7, 0.8, 0.9, 1. ],\n",
    "       [0. , 0. , 0. , 0. , 0. , 0. , 0. , 0. , 0. , 0. , 0. ],\n",
    "       [0. , 0. , 0. , 0. , 0. , 0. , 0. , 0. , 0. , 0. , 0. ],\n",
    "       [0. , 0. , 0. , 0. , 0. , 0. , 0. , 0. , 0. , 0. , 0. ],\n",
    "       [0. , 0. , 0. , 0. , 0. , 0. , 0. , 0. , 0. , 0. , 0. ]])\n",
    "In response, print this array to the console.\n",
    "Expected output:\n",
    "[[0.  0.1 0.2 0.3 0.4 0.5 0.6 0.7 0.8 0.9 1. ]\n",
    " [0.  0.  0.  0.  0.  0.  0.  0.  0.  0.  0. ]\n",
    " [0.  0.  0.  0.  0.  0.  0.  0.  0.  0.  0. ]\n",
    " [0.  0.  0.  0.  0.  0.  0.  0.  0.  0.  0. ]\n",
    " [0.  0.  0.  0.  0.  0.  0.  0.  0.  0.  0. ]]\n",
    "Tip: Please note that the first row contains evenly spaced numbers over the interval [0, 1].\n",
    "\"\"\"\n",
    "\n",
    "import numpy as np\n",
    "\n",
    "arr = np.zeros((5,11))\n",
    "arr[0] = np.arange(0,1.1,0.1)\n",
    "print(arr)\n",
    "\n",
    "#Another way\n",
    "arr2 = np.concatenate(\n",
    "    (\n",
    "        np.linspace(0, 1, 11).reshape(1, -1),\n",
    "        np.zeros((4, 11)),\n",
    "    ),\n",
    "    axis=0,\n",
    ")\n",
    "print(arr2)"
   ]
  },
  {
   "cell_type": "code",
   "execution_count": 92,
   "id": "355e7020",
   "metadata": {},
   "outputs": [
    {
     "name": "stdout",
     "output_type": "stream",
     "text": [
      "[[0.  0.1 0.2 0.3 0.4 0.5 0.6 0.7 0.8 0.9 1. ]\n",
      " [0.  0.1 0.2 0.3 0.4 0.5 0.6 0.7 0.8 0.9 1. ]\n",
      " [0.  0.1 0.2 0.3 0.4 0.5 0.6 0.7 0.8 0.9 1. ]\n",
      " [0.  0.1 0.2 0.3 0.4 0.5 0.6 0.7 0.8 0.9 1. ]\n",
      " [0.  0.1 0.2 0.3 0.4 0.5 0.6 0.7 0.8 0.9 1. ]\n",
      " [0.  0.1 0.2 0.3 0.4 0.5 0.6 0.7 0.8 0.9 1. ]\n",
      " [0.  0.1 0.2 0.3 0.4 0.5 0.6 0.7 0.8 0.9 1. ]\n",
      " [0.  0.1 0.2 0.3 0.4 0.5 0.6 0.7 0.8 0.9 1. ]\n",
      " [0.  0.1 0.2 0.3 0.4 0.5 0.6 0.7 0.8 0.9 1. ]\n",
      " [0.  0.1 0.2 0.3 0.4 0.5 0.6 0.7 0.8 0.9 1. ]\n",
      " [0.  0.1 0.2 0.3 0.4 0.5 0.6 0.7 0.8 0.9 1. ]]\n",
      "[[0.  0.  0.  0.  0.  0.  0.  0.  0.  0.  0. ]\n",
      " [0.1 0.1 0.1 0.1 0.1 0.1 0.1 0.1 0.1 0.1 0.1]\n",
      " [0.2 0.2 0.2 0.2 0.2 0.2 0.2 0.2 0.2 0.2 0.2]\n",
      " [0.3 0.3 0.3 0.3 0.3 0.3 0.3 0.3 0.3 0.3 0.3]\n",
      " [0.4 0.4 0.4 0.4 0.4 0.4 0.4 0.4 0.4 0.4 0.4]\n",
      " [0.5 0.5 0.5 0.5 0.5 0.5 0.5 0.5 0.5 0.5 0.5]\n",
      " [0.6 0.6 0.6 0.6 0.6 0.6 0.6 0.6 0.6 0.6 0.6]\n",
      " [0.7 0.7 0.7 0.7 0.7 0.7 0.7 0.7 0.7 0.7 0.7]\n",
      " [0.8 0.8 0.8 0.8 0.8 0.8 0.8 0.8 0.8 0.8 0.8]\n",
      " [0.9 0.9 0.9 0.9 0.9 0.9 0.9 0.9 0.9 0.9 0.9]\n",
      " [1.  1.  1.  1.  1.  1.  1.  1.  1.  1.  1. ]]\n"
     ]
    }
   ],
   "source": [
    "#Question 6\n",
    "\"\"\"\n",
    "Suppose you have the following NumPy arrays:\n",
    "x = np.linspace(0, 1, 11)\n",
    "y = np.linspace(0, 1, 11)\n",
    "that look like this:\n",
    "array([0. , 0.1, 0.2, 0.3, 0.4, 0.5, 0.6, 0.7, 0.8, 0.9, 1. ])\n",
    "Return the coordinate arrays (meshgrid) from these vectors and assign to the variables xx and yy.\n",
    "\"\"\"\n",
    "\n",
    "import numpy as np\n",
    "\n",
    "x = np.linspace(0, 1, 11)\n",
    "y = np.linspace(0, 1, 11)\n",
    "\n",
    "xx,yy = np.meshgrid(x,y)\n",
    "print(xx)\n",
    "print(yy)"
   ]
  },
  {
   "cell_type": "code",
   "execution_count": 109,
   "id": "ab88f020",
   "metadata": {},
   "outputs": [
    {
     "name": "stdout",
     "output_type": "stream",
     "text": [
      "[ 4  2  6  2  7 10  6  2 14]\n",
      "[ 4  2  6  2  7 10  6  2 14]\n"
     ]
    }
   ],
   "source": [
    "#Question 7\n",
    "\"\"\"\n",
    "Suppose you have the following string of data:\n",
    "string_data = '4 2 6 2 7 10 6 2 14'\n",
    "Create a NumPy array with int16 data type from this string and print it to the console as shown below.\n",
    "\"\"\"\n",
    "import numpy as np\n",
    "\n",
    "string_data = '4 2 6 2 7 10 6 2 14'\n",
    "arr = np.fromstring(string_data,  dtype='int16', sep=' ')\n",
    "print(arr)\n",
    "\n",
    "#ANOTHER WAY\n",
    "string_data = '4 2 6 2 7 10 6 2 14'\n",
    "arr2 = np.array([int(num) for num in string_data.split()], dtype='int16')\n",
    " \n",
    "print(arr2)"
   ]
  },
  {
   "cell_type": "code",
   "execution_count": 114,
   "id": "d2de48e9",
   "metadata": {},
   "outputs": [
    {
     "name": "stdout",
     "output_type": "stream",
     "text": [
      "[[[2. 4. 6. 4.]\n",
      "  [0. 9. 0. 1.]\n",
      "  [4. 2. 4. 5.]]\n",
      "\n",
      " [[2. 1. 9. 7.]\n",
      "  [2. 6. 1. 4.]\n",
      "  [1. 3. 3. 0.]]]\n",
      "3 float32\n"
     ]
    }
   ],
   "source": [
    "#Question 8\n",
    "\"\"\"\n",
    "Create any 3-dimensional NumPy array of the shape (2,3,4) \n",
    "and float32 data type and assign it to variable named arr.\n",
    "\"\"\"\n",
    "import numpy as np\n",
    "from numpy import random\n",
    "\n",
    "arr = np.random.randint(10, size = (2,3,4))\n",
    "arr = arr.astype('float32')\n",
    "print(arr)\n",
    "print(arr.ndim, arr.dtype)"
   ]
  },
  {
   "cell_type": "markdown",
   "id": "99634fa2",
   "metadata": {},
   "source": [
    "***SECCIÓN 6***"
   ]
  },
  {
   "cell_type": "code",
   "execution_count": 119,
   "id": "b74a6040",
   "metadata": {},
   "outputs": [
    {
     "name": "stdout",
     "output_type": "stream",
     "text": [
      "(3, 5)\n",
      "(1, 3, 5)\n",
      "(3, 1, 5)\n"
     ]
    }
   ],
   "source": [
    "#Question 1\n",
    "import numpy as np\n",
    "\n",
    "\"\"\"\n",
    "Print the shape of these arrays\n",
    "\"\"\"\n",
    "A = np.array(\n",
    "    [\n",
    "        [False, True, True, False, True],\n",
    "        [False, False, True, True, True],\n",
    "        [True, False, False, True, False],\n",
    "    ]\n",
    ")\n",
    "B = np.array(\n",
    "    [\n",
    "        [\n",
    "            [False, True, True, False, True],\n",
    "            [False, False, True, True, True],\n",
    "            [True, False, False, True, False],\n",
    "        ]\n",
    "    ]\n",
    ")\n",
    "C = np.array(\n",
    "    [\n",
    "        [[False, True, True, False, True]],\n",
    "        [[False, False, True, True, True]],\n",
    "        [[True, False, False, True, False]],\n",
    "    ]\n",
    ")\n",
    "\n",
    "print(A.shape)\n",
    "print(B.shape)\n",
    "print(C.shape)"
   ]
  },
  {
   "cell_type": "code",
   "execution_count": 120,
   "id": "dd26114c",
   "metadata": {},
   "outputs": [
    {
     "name": "stdout",
     "output_type": "stream",
     "text": [
      "2\n",
      "3\n",
      "3\n",
      "1\n"
     ]
    }
   ],
   "source": [
    "#Question 2\n",
    "\"\"\"\n",
    "According to the previous arrays, print their dimentions\n",
    "\"\"\"\n",
    "A = np.array(\n",
    "    [\n",
    "        [False, True, True, False, True],\n",
    "        [False, False, True, True, True],\n",
    "        [True, False, False, True, False],\n",
    "    ]\n",
    ")\n",
    "B = np.array(\n",
    "    [\n",
    "        [\n",
    "            [False, True, True, False, True],\n",
    "            [False, False, True, True, True],\n",
    "            [True, False, False, True, False],\n",
    "        ]\n",
    "    ]\n",
    ")\n",
    "C = np.array(\n",
    "    [\n",
    "        [[False, True, True, False, True]],\n",
    "        [[False, False, True, True, True]],\n",
    "        [[True, False, False, True, False]],\n",
    "    ]\n",
    ")\n",
    "D = np.array([True, False])\n",
    "print(A.ndim)\n",
    "print(B.ndim)\n",
    "print(C.ndim)\n",
    "print(D.ndim)"
   ]
  },
  {
   "cell_type": "code",
   "execution_count": 129,
   "id": "1a33e35b",
   "metadata": {},
   "outputs": [
    {
     "name": "stdout",
     "output_type": "stream",
     "text": [
      "20\n"
     ]
    }
   ],
   "source": [
    "#Question 3\n",
    "\"\"\"\n",
    "Suppose you have the following NumPy array:\n",
    "\n",
    "Print the number of elements of this array to the console.\n",
    "\"\"\"\n",
    "import numpy as np\n",
    "\n",
    "\n",
    "arr = np.array(\n",
    "    [\n",
    "        [6, 7, 7, 3, 9],\n",
    "        [7, 4, 8, 4, 0],\n",
    "        [1, 5, 3, 2, 4],\n",
    "        [7, 8, 9, 8, 2],\n",
    "    ]\n",
    ")\n",
    "\n",
    "print(arr.size)"
   ]
  },
  {
   "cell_type": "code",
   "execution_count": 139,
   "id": "13d428df",
   "metadata": {},
   "outputs": [
    {
     "name": "stdout",
     "output_type": "stream",
     "text": [
      "4\n",
      "1\n",
      "2\n",
      "8\n"
     ]
    }
   ],
   "source": [
    "#Question 4\n",
    "\"\"\"\n",
    "Suppose you have the following NumPy arrays:\n",
    "A1 = np.array([3, 5, 1])\n",
    "A2 = np.array([3, 5, 1], dtype=np.int8)\n",
    "A3 = np.array([3, 5, 1], dtype=np.int16)\n",
    "A4 = np.array([3, 5, 1], dtype='float')\n",
    "For each of these arrays, print the length of one array element in bytes to the console (in the same order as they are given).\n",
    "Expected output:\n",
    "8\n",
    "1\n",
    "2\n",
    "8\n",
    "\"\"\"\n",
    "import numpy as np\n",
    "\n",
    "A1 = np.array([3, 5, 1])\n",
    "A2 = np.array([3, 5, 1], dtype=np.int8)\n",
    "A3 = np.array([3, 5, 1], dtype=np.int16)\n",
    "A4 = np.array([3, 5, 1], dtype='float')\n",
    "\n",
    "print(A1.itemsize)\n",
    "print(A2.itemsize)\n",
    "print(A3.itemsize)\n",
    "print(A4.itemsize)"
   ]
  },
  {
   "cell_type": "code",
   "execution_count": 143,
   "id": "9acabf51",
   "metadata": {},
   "outputs": [
    {
     "name": "stdout",
     "output_type": "stream",
     "text": [
      "12\n",
      "3\n",
      "6\n",
      "24\n"
     ]
    }
   ],
   "source": [
    "#Question 5\n",
    "\"\"\"\n",
    "Suppose you have the following NumPy arrays:\n",
    "A1 = np.array([3, 5, 1])\n",
    "A2 = np.array([3, 5, 1], dtype=np.int8)\n",
    "A3 = np.array([3, 5, 1], dtype=np.int16)\n",
    "A4 = np.array([3, 5, 1], dtype='float')\n",
    "For each of these arrays, print the total bytes consumed by the elements of the array to the console (in the same order as they are given)\n",
    "\"\"\"\n",
    "import numpy as np\n",
    "\n",
    "A1 = np.array([3, 5, 1])\n",
    "A2 = np.array([3, 5, 1], dtype=np.int8)\n",
    "A3 = np.array([3, 5, 1], dtype=np.int16)\n",
    "A4 = np.array([3, 5, 1], dtype='float')\n",
    "\n",
    "print(A1.nbytes)\n",
    "print(A2.nbytes)\n",
    "print(A3.nbytes)\n",
    "print(A4.nbytes)"
   ]
  },
  {
   "cell_type": "code",
   "execution_count": 149,
   "id": "1d73e17f",
   "metadata": {},
   "outputs": [
    {
     "name": "stdout",
     "output_type": "stream",
     "text": [
      "[4, 1, 2]\n",
      "4\n",
      "1\n",
      "2\n"
     ]
    }
   ],
   "source": [
    "#Question 6\n",
    "\"\"\"\n",
    "Suppose you have the following NumPy arrays:\n",
    "A1 = np.array([3, 5, 1, 2, 5, 4])\n",
    "A2 = np.array([3, 5, 1, 4, 7, 3, 8, 24], dtype=np.int8)\n",
    "A3 = np.array([3, 5, 1, 6, 2], dtype=np.int16)\n",
    "\n",
    "Write a program that selects the name of an array that consumes the lowest number \n",
    "of bytes by its elements. In response, print the name of this array to the console.\n",
    "\"\"\"\n",
    "import numpy as np\n",
    " \n",
    " \n",
    "A1 = np.array([3, 5, 1, 2, 5, 4])\n",
    "A2 = np.array([3, 5, 1, 4, 7, 3, 8, 24], dtype=np.int8)\n",
    "A3 = np.array([3, 5, 1, 6, 2], dtype=np.int16)\n",
    " \n",
    "total = {'A1': A1.nbytes, 'A2': A2.nbytes, 'A3': A3.nbytes}\n",
    " \n",
    "print(min(total, key=total.get))\n",
    "        "
   ]
  },
  {
   "cell_type": "code",
   "execution_count": 186,
   "id": "6e24901e",
   "metadata": {},
   "outputs": [
    {
     "name": "stdout",
     "output_type": "stream",
     "text": [
      "float64: 320\n",
      "float32: 160\n",
      "int16: 80\n",
      "----Another Way----\n",
      "float64: 320\n",
      "float32: 160\n",
      "int16: 80\n"
     ]
    }
   ],
   "source": [
    "#Question 7\n",
    "\"\"\"\n",
    "Suppose you need to store the following NumPy array in your application:\n",
    "arr = np.array(\n",
    "    [\n",
    "        [3, 4, 0, 5, 6],\n",
    "        [9, 7, 4, 0, 6],\n",
    "        [1, 9, 6, 7, 9],\n",
    "        [7, 6, 9, 8, 8],\n",
    "        [2, 2, 1, 5, 2],\n",
    "        [9, 7, 5, 5, 9],\n",
    "        [6, 9, 9, 5, 2],\n",
    "        [9, 6, 1, 8, 1],\n",
    "    ],\n",
    "    dtype='float64',\n",
    ")\n",
    "\n",
    "Check the total number of bytes consumed by this array in the following scenarios:\n",
    "-with the same data type as given\n",
    "-with float32 data type\n",
    "-with int16 data type\n",
    "In response print these values to the console as shown below.\n",
    "\"\"\"\n",
    "import numpy as np\n",
    "\n",
    "np.random.seed(20)\n",
    "arr = np.array(\n",
    "    [\n",
    "        [3, 4, 0, 5, 6],\n",
    "        [9, 7, 4, 0, 6],\n",
    "        [1, 9, 6, 7, 9],\n",
    "        [7, 6, 9, 8, 8],\n",
    "        [2, 2, 1, 5, 2],\n",
    "        [9, 7, 5, 5, 9],\n",
    "        [6, 9, 9, 5, 2],\n",
    "        [9, 6, 1, 8, 1],\n",
    "    ],\n",
    "    dtype='float64',\n",
    ")\n",
    "\n",
    "A1 = arr.nbytes\n",
    "A2 = np.array(arr, dtype=np.float32)\n",
    "A3 = np.array(arr, dtype=np.int16)\n",
    "print('float64:',A1)\n",
    "print('float32:',A2.nbytes)\n",
    "print('int16:',A3.nbytes)\n",
    "\n",
    "#ANOTHER WAY\n",
    "print('----Another Way----')\n",
    "print('float64:', arr.nbytes)\n",
    "print('float32:', arr.astype('float32').nbytes)\n",
    "print('int16:', arr.astype('int16').nbytes)"
   ]
  },
  {
   "cell_type": "code",
   "execution_count": 189,
   "id": "cc9c402e",
   "metadata": {},
   "outputs": [
    {
     "name": "stdout",
     "output_type": "stream",
     "text": [
      "[[0 0 0 0]\n",
      " [0 0 0 0]\n",
      " [0 0 0 0]\n",
      " [0 0 0 0]\n",
      " [0 0 0 0]\n",
      " [0 0 0 0]\n",
      " [0 0 0 0]\n",
      " [0 0 0 0]\n",
      " [0 0 0 0]\n",
      " [0 0 0 0]\n",
      " [0 0 0 0]\n",
      " [0 0 0 0]\n",
      " [0 0 0 0]\n",
      " [0 0 0 0]\n",
      " [0 0 0 0]\n",
      " [0 0 0 0]\n",
      " [0 0 0 0]\n",
      " [0 0 0 0]\n",
      " [0 0 0 0]\n",
      " [0 0 0 0]\n",
      " [0 0 0 0]\n",
      " [0 0 0 0]\n",
      " [0 0 0 0]\n",
      " [0 0 0 0]]\n",
      "---Another way---\n",
      "[[0 0 0 0]\n",
      " [0 0 0 0]\n",
      " [0 0 0 0]\n",
      " [0 0 0 0]\n",
      " [0 0 0 0]\n",
      " [0 0 0 0]\n",
      " [0 0 0 0]\n",
      " [0 0 0 0]\n",
      " [0 0 0 0]\n",
      " [0 0 0 0]\n",
      " [0 0 0 0]\n",
      " [0 0 0 0]\n",
      " [0 0 0 0]\n",
      " [0 0 0 0]\n",
      " [0 0 0 0]\n",
      " [0 0 0 0]\n",
      " [0 0 0 0]\n",
      " [0 0 0 0]\n",
      " [0 0 0 0]\n",
      " [0 0 0 0]\n",
      " [0 0 0 0]\n",
      " [0 0 0 0]\n",
      " [0 0 0 0]\n",
      " [0 0 0 0]]\n"
     ]
    }
   ],
   "source": [
    "#Question 8\n",
    "import numpy as np\n",
    "\n",
    "\n",
    "arr = np.zeros((3, 8, 4), dtype='int')\n",
    "\n",
    "arr = arr.reshape(24,4)\n",
    "print(arr)\n",
    "\n",
    "print('---Another way---')\n",
    "arr2 = np.zeros((3, 8, 4), dtype='int')\n",
    "arr2 = arr.reshape(-1, arr2.shape[2])\n",
    "print(arr2)"
   ]
  },
  {
   "cell_type": "markdown",
   "id": "599d9acf",
   "metadata": {},
   "source": [
    "***SECCIÓN 7***"
   ]
  },
  {
   "cell_type": "code",
   "execution_count": 7,
   "id": "0bfd12b9",
   "metadata": {},
   "outputs": [
    {
     "name": "stdout",
     "output_type": "stream",
     "text": [
      "[[[4 2 1]\n",
      "  [6 4 2]]]\n"
     ]
    }
   ],
   "source": [
    "#Exercise 1\n",
    "\"\"\"\n",
    "The following array is given:\n",
    "arr = np.array([[4, 2, 1], [6, 4, 2]])\n",
    "Expand this array by one dimension (add a new dimension at the beginning). \n",
    "Expected shape of the output array: (1, 2, 3).  In response, print this array to the console.\n",
    "\"\"\"\n",
    "import numpy as np\n",
    "\n",
    "arr = np.array([[4, 2, 1], [6, 4, 2]])\n",
    "arr = np.expand_dims(arr, axis = 0)\n",
    "print(arr)"
   ]
  },
  {
   "cell_type": "code",
   "execution_count": 12,
   "id": "7494bf3e",
   "metadata": {},
   "outputs": [
    {
     "name": "stdout",
     "output_type": "stream",
     "text": [
      "[[[[205 200  64]\n",
      "   [ 54 108  62]\n",
      "   [145 240 168]\n",
      "   ...\n",
      "   [152 228  39]\n",
      "   [253  92  68]\n",
      "   [129  11  65]]\n",
      "\n",
      "  [[231 248 224]\n",
      "   [ 44 251 120]\n",
      "   [ 78  31 146]\n",
      "   ...\n",
      "   [160 193  70]\n",
      "   [ 86 121  34]\n",
      "   [110 155 147]]\n",
      "\n",
      "  [[229 236 155]\n",
      "   [ 19  62 123]\n",
      "   [ 52 229  23]\n",
      "   ...\n",
      "   [ 63 155 122]\n",
      "   [194 227  21]\n",
      "   [  2  88 236]]\n",
      "\n",
      "  ...\n",
      "\n",
      "  [[191  18  40]\n",
      "   [ 77  76 199]\n",
      "   [123 174  51]\n",
      "   ...\n",
      "   [117   8   2]\n",
      "   [116  44 247]\n",
      "   [ 47  24  10]]\n",
      "\n",
      "  [[196 247  88]\n",
      "   [214   1  85]\n",
      "   [ 61 154 133]\n",
      "   ...\n",
      "   [161 143  92]\n",
      "   [120  17 238]\n",
      "   [118 201 252]]\n",
      "\n",
      "  [[124  83  11]\n",
      "   [  3 190  93]\n",
      "   [ 32  85  47]\n",
      "   ...\n",
      "   [147 149 199]\n",
      "   [ 28  71 138]\n",
      "   [247 184 220]]]]\n"
     ]
    }
   ],
   "source": [
    "#Exercise 2\n",
    "\"\"\"\n",
    "The following array is given:\n",
    "image = np.random.randint(\n",
    "    low=0,\n",
    "    high=256,\n",
    "    size=(200, 300, 3),\n",
    "    dtype=np.uint8,\n",
    ")\n",
    "Extend this array by one dimension (add a new dimension at the beginning) and assign to image_extended variable. \n",
    "The expected shape of this array is (1, 200, 300, 3).\n",
    "\"\"\"\n",
    "import numpy as np\n",
    "\n",
    "\n",
    "image = np.random.randint(\n",
    "    low=0,\n",
    "    high=256,\n",
    "    size=(200, 300, 3),\n",
    "    dtype=np.uint8,\n",
    ")\n",
    "image_extended = np.expand_dims(image, axis=0)\n",
    "print(image_extended)\n"
   ]
  },
  {
   "cell_type": "code",
   "execution_count": 16,
   "id": "f7eb3cc3",
   "metadata": {},
   "outputs": [
    {
     "name": "stdout",
     "output_type": "stream",
     "text": [
      "Another Way\n"
     ]
    }
   ],
   "source": [
    "#Exercise 3\n",
    "\"\"\"\n",
    "Two randomly generated arrays are given:\n",
    "image1 = np.random.randint(\n",
    "    low=0,\n",
    "    high=256,\n",
    "    size=(200, 300, 3),\n",
    "    dtype=np.uint8,\n",
    ")\n",
    "image2 = np.random.randint(\n",
    "    low=0,\n",
    "    high=256,\n",
    "    size=(200, 300, 3),\n",
    "    dtype=np.uint8,\n",
    ")\n",
    "Expand each of these arrays by adding one dimension at the beginning and then combine these arrays into one called images. The expected shape of images array is (2, 200, 300, 3).\n",
    "\"\"\"\n",
    "import numpy as np\n",
    "\n",
    "image1 = np.random.randint(\n",
    "    low=0,\n",
    "    high=256,\n",
    "    size=(200, 300, 3),\n",
    "    dtype=np.uint8,\n",
    ")\n",
    "image2 = np.random.randint(\n",
    "    low=0,\n",
    "    high=256,\n",
    "    size=(200, 300, 3),\n",
    "    dtype=np.uint8,\n",
    ")\n",
    "\n",
    "image1 = np.expand_dims(image1, axis = 0)\n",
    "image2 = np.expand_dims(image2, axis = 0)\n",
    "images = np.concatenate((image1, image2))\n",
    "print('Another Way')\n",
    "images = np.append(image1, image2, axis = 0)"
   ]
  },
  {
   "cell_type": "code",
   "execution_count": 19,
   "id": "25e2d70a",
   "metadata": {},
   "outputs": [
    {
     "name": "stdout",
     "output_type": "stream",
     "text": [
      "[[1 2 3]\n",
      " [6 3 2]]\n"
     ]
    }
   ],
   "source": [
    "#Exercise 4\n",
    "\"\"\"\n",
    "The following array is given:\n",
    "arr = np.array([[[1, 2, 3], [6, 3, 2]]])\n",
    "Shape of this array is (1, 2, 3). Remove the unnecessary first dimension and extract (2, 3) \n",
    "array and print it to the console as shown below.\n",
    "\"\"\"\n",
    "import numpy as np\n",
    "arr = np.array([[[1, 2, 3], [6, 3, 2]]])\n",
    "arr = np.squeeze(arr) #Remove the first dimension of an array\n",
    "print(arr) "
   ]
  },
  {
   "cell_type": "code",
   "execution_count": 21,
   "id": "3860f12d",
   "metadata": {},
   "outputs": [
    {
     "name": "stdout",
     "output_type": "stream",
     "text": [
      "[0.4 0.9 0.5 0.6]\n"
     ]
    }
   ],
   "source": [
    "#Exercise 5\n",
    "\"\"\"\n",
    "The following 2D array with the shape (4, 1) is given:\n",
    "A = np.array([[0.4], [0.9], [0.5], [0.6]])\n",
    "Convert this array to a one-dimensional array and print it to the console\n",
    "\"\"\"\n",
    "\n",
    "import numpy as np\n",
    "\n",
    "\n",
    "arr = np.array([[0.4], [0.9], [0.5], [0.6]])\n",
    "arr = np.squeeze(arr)\n",
    "print(arr)"
   ]
  },
  {
   "cell_type": "code",
   "execution_count": 23,
   "id": "9706afbe",
   "metadata": {},
   "outputs": [
    {
     "name": "stdout",
     "output_type": "stream",
     "text": [
      "[ 4.99  3.49  9.99  1.99  9.99 14.99 14.99  2.39  7.29]\n"
     ]
    }
   ],
   "source": [
    "#Exercise 6\n",
    "\"\"\"\n",
    "Present the following 2-dimensional array as a flattened 1-dimensional \n",
    "array and print the result to the console.\n",
    "arr = np.array(\n",
    "    [\n",
    "        [4.99, 3.49, 9.99],\n",
    "        [1.99, 9.99, 14.99],\n",
    "        [14.99, 2.39, 7.29],\n",
    "    ]\n",
    ")\n",
    "\"\"\"\n",
    "import numpy as np\n",
    "arr = np.array(\n",
    "    [\n",
    "        [4.99, 3.49, 9.99],\n",
    "        [1.99, 9.99, 14.99],\n",
    "        [14.99, 2.39, 7.29],\n",
    "    ]\n",
    ")\n",
    "arr = np.ravel(arr) #Flatten an array into 1D dimensional array\n",
    "print(arr)"
   ]
  },
  {
   "cell_type": "code",
   "execution_count": 29,
   "id": "88d7db3a",
   "metadata": {},
   "outputs": [
    {
     "name": "stdout",
     "output_type": "stream",
     "text": [
      "[[0 1 2 3 4 5 6 7 8 9]]\n",
      "[[0]\n",
      " [1]\n",
      " [2]\n",
      " [3]\n",
      " [4]\n",
      " [5]\n",
      " [6]\n",
      " [7]\n",
      " [8]\n",
      " [9]]\n"
     ]
    }
   ],
   "source": [
    "#Exercise 7\n",
    "\"\"\"\n",
    "Suppose you have the following 1-dimensional NumPy array:\n",
    "arr = np.array([0, 1, 2, 3, 4, 5, 6, 7, 8, 9])\n",
    "Perform the following operations:\n",
    "-convert this array into the following 2-dimensional NumPy array and assign to the variable named row:\n",
    "array([[0, 1, 2, 3, 4, 5, 6, 7, 8, 9]])\n",
    "-convert this array into the following 2-dimensional NumPy array and assign to the variable named column:\n",
    "array([[0],\n",
    "       [1],\n",
    "       [2],\n",
    "       [3],\n",
    "       [4],\n",
    "       [5],\n",
    "       [6],\n",
    "       [7],\n",
    "       [8],\n",
    "       [9]])\n",
    "\n",
    "In response. print these arrays to the console as shown below.\n",
    "\"\"\"\n",
    "import numpy as np\n",
    "\n",
    "\n",
    "arr = np.array([0, 1, 2, 3, 4, 5, 6, 7, 8, 9])\n",
    "row = np.expand_dims(arr, axis=0)\n",
    "column = np.expand_dims(arr, axis=1)\n",
    "print(row)\n",
    "print(column)"
   ]
  },
  {
   "cell_type": "code",
   "execution_count": 30,
   "id": "1bc1741b",
   "metadata": {},
   "outputs": [
    {
     "name": "stdout",
     "output_type": "stream",
     "text": [
      "[[0 1 2 3 4 5 6 7 8 9]]\n",
      "[[0]\n",
      " [1]\n",
      " [2]\n",
      " [3]\n",
      " [4]\n",
      " [5]\n",
      " [6]\n",
      " [7]\n",
      " [8]\n",
      " [9]]\n"
     ]
    }
   ],
   "source": [
    "#Exercise 7 - Another way\n",
    "import numpy as np\n",
    " \n",
    " \n",
    "arr = np.array([0, 1, 2, 3, 4, 5, 6, 7, 8, 9])\n",
    " \n",
    "row = arr[np.newaxis, :] #Another fuction to add axis and dimension\n",
    "column = arr[:, np.newaxis]\n",
    " \n",
    "print(row)\n",
    "print(column)"
   ]
  },
  {
   "cell_type": "code",
   "execution_count": 34,
   "id": "5bc899c1",
   "metadata": {},
   "outputs": [
    {
     "name": "stdout",
     "output_type": "stream",
     "text": [
      "[[[False False False False]\n",
      "  [False False False False]]\n",
      "\n",
      " [[False False False False]\n",
      "  [False False False False]]\n",
      "\n",
      " [[False False False False]\n",
      "  [False False False False]]\n",
      "\n",
      " [[False False False False]\n",
      "  [False False False False]]\n",
      "\n",
      " [[False False False False]\n",
      "  [False False False False]]]\n"
     ]
    }
   ],
   "source": [
    "#Exercise 8\n",
    "\"\"\"\n",
    "Suppose you have the following NumPy array:\n",
    "array([[False, False, False, False],\n",
    "       [False, False, False, False],\n",
    "       [False, False, False, False],\n",
    "       [False, False, False, False],\n",
    "       [False, False, False, False],\n",
    "       [False, False, False, False],\n",
    "       [False, False, False, False],\n",
    "       [False, False, False, False],\n",
    "       [False, False, False, False],\n",
    "       [False, False, False, False]])\n",
    "Convert this 2-dimensional array into a 3-dimensional 5x2x4 array and print it to the console.\n",
    "\"\"\"\n",
    "import numpy as np\n",
    "\n",
    "arr = np.full((10, 4), fill_value=False)\n",
    "arr = np.expand_dims(arr, axis = 0).reshape(5,2,4)\n",
    "print(arr)"
   ]
  },
  {
   "cell_type": "markdown",
   "id": "0c1dc2cb",
   "metadata": {},
   "source": [
    "***SECCION 8 - INDEXING AND SLICING***"
   ]
  },
  {
   "cell_type": "code",
   "execution_count": 75,
   "id": "e6b5e826",
   "metadata": {},
   "outputs": [
    {
     "name": "stdout",
     "output_type": "stream",
     "text": [
      "[[   283.5    310.   64081. ]\n",
      " [   320.     340.5  55496. ]\n",
      " [   315.     330.   36152. ]\n",
      " [   310.     315.   35992. ]\n",
      " [   291.     305.   32539. ]\n",
      " [   250.     258.   79402. ]\n",
      " [   256.     264.   35700. ]\n",
      " [   238.5    245.   60445. ]\n",
      " [   196.     197.   94031. ]\n",
      " [   198.8    211.  100412. ]\n",
      " [   197.8    240.5  50659. ]\n",
      " [   232.5    264.   99480. ]\n",
      " [   251.     270.   70136. ]\n",
      " [   267.     279.5  30732. ]\n",
      " [   280.     280.5  43426. ]\n",
      " [   258.     285.   37098. ]\n",
      " [   296.5    309.   31939. ]\n",
      " [   295.     304.   46724. ]\n",
      " [   295.5    300.   27213. ]\n",
      " [   290.     296.   13466. ]\n",
      " [   287.     300.   10316. ]\n",
      " [   302.     306.5  15698. ]]\n"
     ]
    }
   ],
   "source": [
    "#Exercise 1\n",
    "#From the following NumPy array:\n",
    "import numpy as np\n",
    "\n",
    "\n",
    "playway = np.array(\n",
    "    [\n",
    "        [305.0, 324.5, 283.5, 310.0, 64081.0],\n",
    "        [325.5, 340.5, 320.0, 340.5, 55496.0],\n",
    "        [324.0, 340.5, 315.0, 330.0, 36152.0],\n",
    "        [344.0, 344.0, 310.0, 315.0, 35992.0],\n",
    "        [306.5, 307.0, 291.0, 305.0, 32539.0],\n",
    "        [274.0, 291.0, 250.0, 258.0, 79402.0],\n",
    "        [278.0, 284.5, 256.0, 264.0, 35700.0],\n",
    "        [270.0, 270.0, 238.5, 245.0, 60445.0],\n",
    "        [218.0, 228.0, 196.0, 197.0, 94031.0],\n",
    "        [210.0, 229.0, 198.8, 211.0, 100412.0],\n",
    "        [205.0, 248.0, 197.8, 240.5, 50659.0],\n",
    "        [245.0, 269.0, 232.5, 264.0, 99480.0],\n",
    "        [264.0, 280.0, 251.0, 270.0, 70136.0],\n",
    "        [267.0, 280.0, 267.0, 279.5, 30732.0],\n",
    "        [297.5, 307.0, 280.0, 280.5, 43426.0],\n",
    "        [274.0, 289.0, 258.0, 285.0, 37098.0],\n",
    "        [305.0, 309.0, 296.5, 309.0, 31939.0],\n",
    "        [313.0, 330.0, 295.0, 304.0, 46724.0],\n",
    "        [300.0, 309.0, 295.5, 300.0, 27213.0],\n",
    "        [302.0, 306.5, 290.0, 296.0, 13466.0],\n",
    "        [299.0, 300.0, 287.0, 300.0, 10316.0],\n",
    "        [302.5, 309.0, 302.0, 306.5, 15698.0],\n",
    "    ]\n",
    ")\n",
    "#extract last three columns and print it to the console.\n",
    "playway = playway[0:,2:] #Another way :  [0:,-3:]\n",
    "print(playway)"
   ]
  },
  {
   "cell_type": "code",
   "execution_count": 121,
   "id": "6aafba13",
   "metadata": {},
   "outputs": [
    {
     "name": "stdout",
     "output_type": "stream",
     "text": [
      "[[  305.    324.5   283.5   310.  64081. ]\n",
      " [  324.    340.5   315.    330.  36152. ]\n",
      " [  306.5   307.    291.    305.  32539. ]\n",
      " [  278.    284.5   256.    264.  35700. ]\n",
      " [  218.    228.    196.    197.  94031. ]\n",
      " [  205.    248.    197.8   240.5 50659. ]\n",
      " [  264.    280.    251.    270.  70136. ]\n",
      " [  297.5   307.    280.    280.5 43426. ]\n",
      " [  305.    309.    296.5   309.  31939. ]\n",
      " [  300.    309.    295.5   300.  27213. ]\n",
      " [  299.    300.    287.    300.  10316. ]]\n"
     ]
    }
   ],
   "source": [
    "#Exercise 2\n",
    "#Exercise 1\n",
    "#From the following NumPy array:\n",
    "import numpy as np\n",
    "\n",
    "\n",
    "playway = np.array(\n",
    "    [\n",
    "        [305.0, 324.5, 283.5, 310.0, 64081.0],\n",
    "        [325.5, 340.5, 320.0, 340.5, 55496.0],\n",
    "        [324.0, 340.5, 315.0, 330.0, 36152.0],\n",
    "        [344.0, 344.0, 310.0, 315.0, 35992.0],\n",
    "        [306.5, 307.0, 291.0, 305.0, 32539.0],\n",
    "        [274.0, 291.0, 250.0, 258.0, 79402.0],\n",
    "        [278.0, 284.5, 256.0, 264.0, 35700.0],\n",
    "        [270.0, 270.0, 238.5, 245.0, 60445.0],\n",
    "        [218.0, 228.0, 196.0, 197.0, 94031.0],\n",
    "        [210.0, 229.0, 198.8, 211.0, 100412.0],\n",
    "        [205.0, 248.0, 197.8, 240.5, 50659.0],\n",
    "        [245.0, 269.0, 232.5, 264.0, 99480.0],\n",
    "        [264.0, 280.0, 251.0, 270.0, 70136.0],\n",
    "        [267.0, 280.0, 267.0, 279.5, 30732.0],\n",
    "        [297.5, 307.0, 280.0, 280.5, 43426.0],\n",
    "        [274.0, 289.0, 258.0, 285.0, 37098.0],\n",
    "        [305.0, 309.0, 296.5, 309.0, 31939.0],\n",
    "        [313.0, 330.0, 295.0, 304.0, 46724.0],\n",
    "        [300.0, 309.0, 295.5, 300.0, 27213.0],\n",
    "        [302.0, 306.5, 290.0, 296.0, 13466.0],\n",
    "        [299.0, 300.0, 287.0, 300.0, 10316.0],\n",
    "        [302.5, 309.0, 302.0, 306.5, 15698.0],\n",
    "    ]\n",
    ")\n",
    "#extract every second row and print it to the console.\n",
    "playway = playway[0::2]\n",
    "#print(playway[::2, :]) #Another way\n",
    "print(playway)"
   ]
  },
  {
   "cell_type": "code",
   "execution_count": 149,
   "id": "6f71deb4",
   "metadata": {},
   "outputs": [
    {
     "name": "stdout",
     "output_type": "stream",
     "text": [
      "[[325.5 340.5 320.  340.5]\n",
      " [324.  340.5 315.  330. ]\n",
      " [344.  344.  310.  315. ]\n",
      " [306.5 307.  291.  305. ]\n",
      " [274.  291.  250.  258. ]\n",
      " [278.  284.5 256.  264. ]\n",
      " [270.  270.  238.5 245. ]\n",
      " [218.  228.  196.  197. ]\n",
      " [210.  229.  198.8 211. ]\n",
      " [205.  248.  197.8 240.5]]\n"
     ]
    }
   ],
   "source": [
    "#Exercise 3\n",
    "#From the following NumPy array:\n",
    "import numpy as np\n",
    "\n",
    "playway = np.array(\n",
    "    [\n",
    "        [305.0, 324.5, 283.5, 310.0, 64081.0],\n",
    "        [325.5, 340.5, 320.0, 340.5, 55496.0],\n",
    "        [324.0, 340.5, 315.0, 330.0, 36152.0],\n",
    "        [344.0, 344.0, 310.0, 315.0, 35992.0],\n",
    "        [306.5, 307.0, 291.0, 305.0, 32539.0],\n",
    "        [274.0, 291.0, 250.0, 258.0, 79402.0],\n",
    "        [278.0, 284.5, 256.0, 264.0, 35700.0],\n",
    "        [270.0, 270.0, 238.5, 245.0, 60445.0],\n",
    "        [218.0, 228.0, 196.0, 197.0, 94031.0],\n",
    "        [210.0, 229.0, 198.8, 211.0, 100412.0],\n",
    "        [205.0, 248.0, 197.8, 240.5, 50659.0],\n",
    "    ]\n",
    ")\n",
    "#exclude the first row and last column. In response, print the rest of the array to the console.\n",
    "playway = playway[1:,0:4]\n",
    "print(playway)"
   ]
  },
  {
   "cell_type": "code",
   "execution_count": 155,
   "id": "24378bfd",
   "metadata": {},
   "outputs": [
    {
     "name": "stdout",
     "output_type": "stream",
     "text": [
      "[[325.5 340.5 320.  340.5]\n",
      " [324.  340.5 315.  330. ]\n",
      " [344.  344.  310.  315. ]\n",
      " [306.5 307.  291.  305. ]\n",
      " [274.  291.  250.  258. ]\n",
      " [278.  284.5 256.  264. ]\n",
      " [270.  270.  238.5 245. ]\n",
      " [218.  228.  196.  197. ]\n",
      " [210.  229.  198.8 211. ]\n",
      " [205.  248.  197.8 240.5]]\n"
     ]
    }
   ],
   "source": [
    "#Another way\n",
    "playway = np.array(\n",
    "    [\n",
    "        [305.0, 324.5, 283.5, 310.0, 64081.0],\n",
    "        [325.5, 340.5, 320.0, 340.5, 55496.0],\n",
    "        [324.0, 340.5, 315.0, 330.0, 36152.0],\n",
    "        [344.0, 344.0, 310.0, 315.0, 35992.0],\n",
    "        [306.5, 307.0, 291.0, 305.0, 32539.0],\n",
    "        [274.0, 291.0, 250.0, 258.0, 79402.0],\n",
    "        [278.0, 284.5, 256.0, 264.0, 35700.0],\n",
    "        [270.0, 270.0, 238.5, 245.0, 60445.0],\n",
    "        [218.0, 228.0, 196.0, 197.0, 94031.0],\n",
    "        [210.0, 229.0, 198.8, 211.0, 100412.0],\n",
    "        [205.0, 248.0, 197.8, 240.5, 50659.0],\n",
    "    ]\n",
    ")\n",
    "\n",
    "playway = playway[1:, :4]\n",
    "print(playway)"
   ]
  },
  {
   "cell_type": "code",
   "execution_count": 205,
   "id": "4d49d1c9",
   "metadata": {},
   "outputs": [
    {
     "name": "stdout",
     "output_type": "stream",
     "text": [
      "[[0.  2.  0.  3. ]\n",
      " [0.  0.4 0.  5. ]]\n"
     ]
    }
   ],
   "source": [
    "#Exercise 4\n",
    "\"\"\"\n",
    "Suppose you have the following 2x3x4 NumPy array:\n",
    "arr = np.array(\n",
    "    [\n",
    "        [\n",
    "            [0.0, 2.0, 0.5, 1.0],\n",
    "            [0.0, 2.0, 0.0, 3.0],\n",
    "            [0.0, 4.0, 0.0, 0.0],\n",
    "        ],\n",
    "        [\n",
    "            [0.0, 0.5, 0.0, 0.2],\n",
    "            [0.0, 0.4, 0.0, 5.0],\n",
    "            [0.0, 0.0, 1.0, 0.0],\n",
    "        ],\n",
    "    ]\n",
    ")\n",
    "Using slicing, from the given 3D array extract the middle rows of interior arrays - \n",
    "as a 2D 2x4 array - and print them to the console.\n",
    "\"\"\"\n",
    "import numpy as np\n",
    "arr = np.array(\n",
    "    [\n",
    "        [\n",
    "            [0.0, 2.0, 0.5, 1.0],\n",
    "            [0.0, 2.0, 0.0, 3.0],\n",
    "            [0.0, 4.0, 0.0, 0.0],\n",
    "        ],\n",
    "        [\n",
    "            [0.0, 0.5, 0.0, 0.2],\n",
    "            [0.0, 0.4, 0.0, 5.0],\n",
    "            [0.0, 0.0, 1.0, 0.0],\n",
    "        ],\n",
    "    ]\n",
    ")\n",
    "\n",
    "arr = arr[0:,1]\n",
    "print(arr)\n",
    "#Another way :print(arr[:, 1, :])"
   ]
  },
  {
   "cell_type": "code",
   "execution_count": 207,
   "id": "f5b2c40b",
   "metadata": {},
   "outputs": [
    {
     "name": "stdout",
     "output_type": "stream",
     "text": [
      "[[[0.  2.  0.  3. ]]\n",
      "\n",
      " [[0.  0.4 0.  5. ]]]\n"
     ]
    }
   ],
   "source": [
    "#Exercise 5\n",
    "import numpy as np\n",
    "\"\"\"\n",
    "Using slicing, from the given 3D array extract the middle rows of interior arrays -\n",
    "as a 3D 2x1x4 array - and print them to the console.\n",
    "\"\"\"\n",
    "arr = np.array(\n",
    "    [\n",
    "        [\n",
    "            [0.0, 2.0, 0.5, 1.0],\n",
    "            [0.0, 2.0, 0.0, 3.0],\n",
    "            [0.0, 4.0, 0.0, 0.0],\n",
    "        ],\n",
    "        [\n",
    "            [0.0, 0.5, 0.0, 0.2],\n",
    "            [0.0, 0.4, 0.0, 5.0],\n",
    "            [0.0, 0.0, 1.0, 0.0],\n",
    "        ],\n",
    "    ]\n",
    ")\n",
    "arr = arr[:,1].reshape(2,1,4)\n",
    "print(arr)\n",
    "#Another way print(arr[:, [1], :])"
   ]
  },
  {
   "cell_type": "code",
   "execution_count": 214,
   "id": "42f86385",
   "metadata": {},
   "outputs": [
    {
     "name": "stdout",
     "output_type": "stream",
     "text": [
      "[(0, 1), (0, 3), (2, 0), (4, 2), (5, 0), (6, 0), (8, 0), (8, 3)]\n"
     ]
    },
    {
     "data": {
      "text/plain": [
       "<zip at 0x1e7a4315ec0>"
      ]
     },
     "execution_count": 214,
     "metadata": {},
     "output_type": "execute_result"
    }
   ],
   "source": [
    "#Exercise 6\n",
    "#Suppose you have the following 3x8x4 NumPy array:\n",
    "import numpy as np\n",
    "\n",
    "arr = np.array(\n",
    "    [\n",
    "        [1, 0, 5, 0],\n",
    "        [6, 6, 6, 6],\n",
    "        [0, 1, 4, 1],\n",
    "        [5, 6, 3, 5],\n",
    "        [2, 3, 0, 6],\n",
    "        [0, 1, 4, 5],\n",
    "        [0, 4, 5, 3],\n",
    "        [6, 2, 1, 1],\n",
    "        [0, 5, 5, 0],\n",
    "        [4, 2, 6, 6],\n",
    "    ]\n",
    ")\n",
    "#Find all coordinates where the following array is \n",
    "#0 and print to the console as shown below (note that the answer is a list of tuples).\n",
    "\n",
    "arr = np.where(arr==0) #Find the scalar with the condition \n",
    "arr = list(zip(arr[0],arr[1])) #zip = takes list, tuples or strings and combine in an tuples iterator\n",
    "print(arr)\n"
   ]
  },
  {
   "cell_type": "markdown",
   "id": "f9a886dd",
   "metadata": {},
   "source": [
    "***SECCION 9- ARRAYS MANIPULATION***"
   ]
  },
  {
   "cell_type": "code",
   "execution_count": 283,
   "id": "a1ff95c3",
   "metadata": {},
   "outputs": [
    {
     "name": "stdout",
     "output_type": "stream",
     "text": [
      "[[11 10  9  8]\n",
      " [ 7  6  5  4]\n",
      " [ 3  2  1  0]]\n"
     ]
    }
   ],
   "source": [
    "#Exercise 1\n",
    "\"\"\"\n",
    "The following NumPy array is given:\n",
    "array([[ 0,  1,  2,  3],\n",
    "       [ 4,  5,  6,  7],\n",
    "       [ 8,  9, 10, 11]])\n",
    "Using the slice operator, transform this array into the following:\n",
    "array([[11, 10,  9,  8],\n",
    "       [ 7,  6,  5,  4],\n",
    "       [ 3,  2,  1,  0]])\n",
    "In response, print the transformed array to the console.\n",
    "\"\"\"\n",
    "import numpy as np\n",
    "\n",
    "arr = np.arange(12, dtype='int').reshape(-1, 4)\n",
    "arr = arr[::-1,::-1]\n",
    "print(arr)"
   ]
  },
  {
   "cell_type": "code",
   "execution_count": 295,
   "id": "75dc809e",
   "metadata": {},
   "outputs": [
    {
     "name": "stdout",
     "output_type": "stream",
     "text": [
      "[[102  95 234   3  14  46  99 212 188 153]\n",
      " [203 214 121 114 239 244  74  14 145 184]\n",
      " [116  85 226 235 151 181 160   6  52  14]\n",
      " [ 76 233 235 213  68 219 129   0 140 147]\n",
      " [ 20  46  19 209  57 156  86  24 235 110]\n",
      " [231 254 218 134 162  73 169  35 242 253]\n",
      " [187 249 201 231 189 116  49  74 189 158]\n",
      " [ 29   7  54 131 181 123 248 119 228  13]\n",
      " [ 50 155  40 120  72 115 167  85 131 242]\n",
      " [ 52 169  13 144 243 167   8  77  22  10]]\n"
     ]
    }
   ],
   "source": [
    "#Exercise 2\n",
    "\"\"\"\n",
    "Random seed is set to 42. The following array is given:\n",
    "image = np.random.randint(\n",
    "    low=0,\n",
    "    high=256,\n",
    "    size=(10, 10, 3),\n",
    "    dtype=np.uint8,\n",
    ")\n",
    "Extract the first channel (index 0) of this image array and print it to the console.\n",
    "\"\"\"\n",
    "import numpy as np\n",
    "np.random.seed(42)\n",
    "image = np.random.randint(\n",
    "    low=0,\n",
    "    high=256,\n",
    "    size=(10, 10, 3),\n",
    "    dtype=np.uint8,\n",
    ")\n",
    "\n",
    "image = image[:,:,0] #Acceding to channels of an 3D array\n",
    "print(image)"
   ]
  },
  {
   "cell_type": "code",
   "execution_count": 324,
   "id": "3623546f",
   "metadata": {},
   "outputs": [
    {
     "name": "stdout",
     "output_type": "stream",
     "text": [
      "(5, 5, 3)\n"
     ]
    }
   ],
   "source": [
    "#Exercise 3\n",
    "\"\"\"\n",
    "The following array is given:\n",
    "image = np.random.randint(\n",
    "    low=0,\n",
    "    high=256,\n",
    "    size=(10, 10, 3),\n",
    "    dtype=np.uint8,\n",
    ")\n",
    "Extract any array of shape (5, 5, 3) from this array and assign to the result variable.\n",
    "\"\"\"\n",
    "import numpy as np\n",
    "\n",
    "image = np.random.randint(\n",
    "    low=0,\n",
    "    high=256,\n",
    "    size=(10, 10, 3),\n",
    "    dtype=np.uint8,\n",
    ")\n",
    "image = image[5:,:5]\n",
    "print(image.shape)\n",
    "#another way result = image[:5, :5, :]\n"
   ]
  },
  {
   "cell_type": "code",
   "execution_count": 348,
   "id": "6c4e9833",
   "metadata": {},
   "outputs": [
    {
     "name": "stdout",
     "output_type": "stream",
     "text": [
      "[['id' 'price']\n",
      " ['002' '4.99']\n",
      " ['005' '1.49']\n",
      " ['003' '7.99']\n",
      " ['001' '14.99']\n",
      " ['004' '2.49']]\n"
     ]
    }
   ],
   "source": [
    "#Exercise 4\n",
    "\"\"\"\n",
    "The following array is given:\n",
    "arr = np.array(\n",
    "    [\n",
    "        ['id', 'price'],\n",
    "        ['001', '14.99'],\n",
    "        ['002', '4.99'],\n",
    "        ['003', '7.99'],\n",
    "        ['004', '2.49'],\n",
    "        ['005', '1.49'],\n",
    "    ]\n",
    ")\n",
    "Starting with the second row of this array, randomly shuffle the rows and print result to the console.\n",
    "\"\"\"\n",
    "import numpy as np\n",
    "np.random.seed(42)\n",
    "arr = np.array(\n",
    "    [\n",
    "        ['id', 'price'],\n",
    "        ['001', '14.99'],\n",
    "        ['002', '4.99'],\n",
    "        ['003', '7.99'],\n",
    "        ['004', '2.49'],\n",
    "        ['005', '1.49'],\n",
    "    ]\n",
    ")\n",
    "np.random.shuffle(arr[1::])\n",
    "print(arr)"
   ]
  },
  {
   "cell_type": "code",
   "execution_count": 350,
   "id": "fe679f64",
   "metadata": {},
   "outputs": [
    {
     "name": "stdout",
     "output_type": "stream",
     "text": [
      "[[ 0.497 -0.138  0.648  1.523 -0.234 -0.234  1.579  0.767]\n",
      " [-0.469  0.543 -0.463 -0.466  0.242 -1.913 -1.725 -0.562]\n",
      " [-1.013  0.314 -0.908 -1.412  1.466 -0.226  0.068 -1.425]\n",
      " [-0.544  0.111 -1.151  0.376 -0.601 -0.292 -0.602  1.852]\n",
      " [-0.013 -1.058  0.823 -1.221  0.209 -1.96  -1.328  0.197]\n",
      " [ 0.738  0.171 -0.116 -0.301 -1.479 -0.72  -0.461  1.057]\n",
      " [ 0.344 -1.763  0.324 -0.385 -0.677  0.612  1.031  0.931]\n",
      " [-0.839 -0.309  0.331  0.976 -0.479 -0.186 -1.106 -1.196]\n",
      " [ 0.813  1.356 -0.072  1.004  0.362 -0.645  0.361  1.538]\n",
      " [-0.036  1.565 -2.62   0.822  0.087 -0.299  0.092 -1.988]]\n"
     ]
    }
   ],
   "source": [
    "#Exercise 5\n",
    "\"\"\"\n",
    "The following NumPy array is given:\n",
    "arr = np.random.randn(10, 8)\n",
    "Round the values of this array to three decimal places and print result to the console.\n",
    "\"\"\"\n",
    "import numpy as np\n",
    "\n",
    "np.random.seed(42)\n",
    "arr = np.random.randn(10, 8)\n",
    "\n",
    "arr = np.round(arr,3)\n",
    "print(arr)"
   ]
  },
  {
   "cell_type": "code",
   "execution_count": 351,
   "id": "605b7626",
   "metadata": {},
   "outputs": [
    {
     "name": "stdout",
     "output_type": "stream",
     "text": [
      "[[ 8  9 10 11]\n",
      " [ 4  5  6  7]\n",
      " [ 0  1  2  3]]\n"
     ]
    }
   ],
   "source": [
    "#Exercise 6\n",
    "\"\"\"\n",
    "The following NumPy array is given:\n",
    "array([[ 0,  1,  2,  3],\n",
    "       [ 4,  5,  6,  7],\n",
    "       [ 8,  9, 10, 11]])\n",
    "Using the slice operator, transform this array into the following (reverse the order of the rows):\n",
    "array([[ 8,  9, 10, 11],\n",
    "       [ 4,  5,  6,  7],\n",
    "       [ 0,  1,  2,  3]])\n",
    "In response, print the transformed array to the console.\n",
    "\"\"\"\n",
    "import numpy as np\n",
    "\n",
    "arr = np.arange(12, dtype='int').reshape(-1, 4)\n",
    "arr = arr[::-1]\n",
    "print(arr)"
   ]
  },
  {
   "cell_type": "code",
   "execution_count": 543,
   "id": "e0fab3d5",
   "metadata": {},
   "outputs": [
    {
     "name": "stdout",
     "output_type": "stream",
     "text": [
      "[[ 3  2  1  0]\n",
      " [ 7  6  5  4]\n",
      " [11 10  9  8]]\n"
     ]
    }
   ],
   "source": [
    "#Exercise 7\n",
    "\"\"\"\n",
    "The following NumPy array is given:\n",
    "array([[ 0,  1,  2,  3],\n",
    "       [ 4,  5,  6,  7],\n",
    "       [ 8,  9, 10, 11]])\n",
    "Using the slice operator, transform this array into the following (reverse column order):\n",
    "array([[ 3,  2,  1,  0],\n",
    "       [ 7,  6,  5,  4],\n",
    "       [11, 10,  9,  8]])\n",
    "In response, print the transformed array to the console.\n",
    "\"\"\"\n",
    "import numpy as np\n",
    "\n",
    "arr = np.arange(12, dtype='int').reshape(-1, 4)\n",
    "#arr = arr[:3:,::-1]\n",
    "arr = arr[:,::-1]\n",
    "print(arr)"
   ]
  },
  {
   "cell_type": "markdown",
   "id": "683eb21f",
   "metadata": {},
   "source": [
    "***SECCION 8 - ARRAYS MANIPULATION***"
   ]
  },
  {
   "cell_type": "code",
   "execution_count": 564,
   "id": "bbeba143",
   "metadata": {},
   "outputs": [
    {
     "name": "stdout",
     "output_type": "stream",
     "text": [
      "0\n",
      "1\n",
      "2\n",
      "3\n",
      "4\n",
      "5\n",
      "6\n",
      "7\n",
      "8\n",
      "9\n",
      "---------------Another option.----------\n",
      "0\n",
      "1\n",
      "2\n",
      "3\n",
      "4\n",
      "5\n",
      "6\n",
      "7\n",
      "8\n",
      "9\n"
     ]
    }
   ],
   "source": [
    "#Exercise 1\n",
    "\"\"\"\n",
    "The following NumPy array is given:\n",
    "arr = np.array(\n",
    "    [\n",
    "        [0, 1],\n",
    "        [2, 3],\n",
    "        [4, 5],\n",
    "        [6, 7],\n",
    "        [8, 9],\n",
    "    ]\n",
    ")\n",
    "Iterate through the elements of this array and print each element to the console as shown below.\n",
    "\"\"\"\n",
    "import numpy as np\n",
    "\n",
    "arr = np.array(\n",
    "    [\n",
    "        [0, 1],\n",
    "        [2, 3],\n",
    "        [4, 5],\n",
    "        [6, 7],\n",
    "        [8, 9],\n",
    "    ]\n",
    ")\n",
    "for i in arr:\n",
    "    print(i[0])\n",
    "    print(i[1])\n",
    "#Another way\n",
    "print(\"---------------Another option.----------\")\n",
    "for i in arr.flat:\n",
    "    print(i)"
   ]
  },
  {
   "cell_type": "code",
   "execution_count": 567,
   "id": "0968bbc1",
   "metadata": {},
   "outputs": [
    {
     "name": "stdout",
     "output_type": "stream",
     "text": [
      "[[ 0  1]\n",
      " [ 2  3]\n",
      " [ 4  5]\n",
      " [ 6 10]\n",
      " [ 5  9]]\n"
     ]
    }
   ],
   "source": [
    "#Exercise 2\n",
    "\"\"\"\n",
    "Perform the following operations:\n",
    "-update the value in the fourth row and second column to 10\n",
    "-update the value in the fifth row and first column to 5\n",
    "In response, print this array to the console.\n",
    "\"\"\"\n",
    "\n",
    "import numpy as np\n",
    "\n",
    "arr = np.array(\n",
    "    [\n",
    "        [0, 1],\n",
    "        [2, 3],\n",
    "        [4, 5],\n",
    "        [6, 7],\n",
    "        [8, 9],\n",
    "    ]\n",
    ")\n",
    "arr[3,1] = 10\n",
    "arr[4,0] = 5\n",
    "print(arr)\n",
    "#Option 2\n",
    "\"\"\"\n",
    "arr.itemset((3, 1), 10)\n",
    "arr.itemset((4, 0), 5)\n",
    "print(arr)\n",
    "\"\"\""
   ]
  },
  {
   "cell_type": "code",
   "execution_count": 576,
   "id": "576c7454",
   "metadata": {},
   "outputs": [
    {
     "name": "stdout",
     "output_type": "stream",
     "text": [
      "[3 2 6 6 2 7 6 2 4 5 3 1]\n"
     ]
    }
   ],
   "source": [
    "#Exercise 3\n",
    "\"\"\"\n",
    "The following NumPy array is given:\n",
    "arr = np.array(\n",
    "    [\n",
    "        [3, 2, 6],\n",
    "        [6, 2, 7],\n",
    "        [6, 2, 4],\n",
    "        [5, 3, 1],\n",
    "    ]\n",
    ")\n",
    "Create a flattened array from this array and print it to the console.\n",
    "\"\"\"\n",
    "import numpy as np\n",
    "arr = np.array(\n",
    "    [\n",
    "        [3, 2, 6],\n",
    "        [6, 2, 7],\n",
    "        [6, 2, 4],\n",
    "        [5, 3, 1],\n",
    "    ]\n",
    ")\n",
    "\n",
    "arr = arr.flat\n",
    "arr = np.asarray(arr)\n",
    "print(arr)\n",
    "#Another option\n",
    "arr = np.ravel(arr) #Flatten an array into 1D dimensional array"
   ]
  },
  {
   "cell_type": "code",
   "execution_count": 579,
   "id": "4aa46a2c",
   "metadata": {},
   "outputs": [
    {
     "name": "stdout",
     "output_type": "stream",
     "text": [
      "[1 0 2]\n"
     ]
    }
   ],
   "source": [
    "#Exercise 4\n",
    "\"\"\"\n",
    "The following NumPy array is given:\n",
    "arr = np.array([0, 0, 0, 0, 0, 0, 0, 1, 0, 2, 0, 0, 0, 0, 0])\n",
    "Trim the leading and trailing zeros from this array and print result to the console.\n",
    "\"\"\"\n",
    "import numpy as np\n",
    "\n",
    "arr = np.array([0, 0, 0, 0, 0, 0, 0, 1, 0, 2, 0, 0, 0, 0, 0])\n",
    "arr = arr[7:10]\n",
    "print(arr)\n",
    "#Another way\n",
    "arr = np.trim_zeros(arr)\n",
    "print(arr)"
   ]
  },
  {
   "cell_type": "code",
   "execution_count": 622,
   "id": "5a30ec82",
   "metadata": {},
   "outputs": [
    {
     "name": "stdout",
     "output_type": "stream",
     "text": [
      "[[2 0 0 0 2 0 1 1 4]\n",
      " [1 4 3 0 3 4 2 3 4]\n",
      " [4 2 0 2 4 3 1 2 4]]\n"
     ]
    }
   ],
   "source": [
    "#Exercise 5\n",
    "\"\"\"\n",
    "Perform the following operations:\n",
    "-delete the second row from this array\n",
    "-delete the last column from this array\n",
    "In response, print the rest of this array to the console.\n",
    "\"\"\"\n",
    "import numpy as np\n",
    "arr = np.array(\n",
    "    [\n",
    "        [2, 0, 0, 0, 2, 0, 1, 1, 4, 2],\n",
    "        [3, 2, 0, 4, 4, 0, 1, 1, 2, 1],\n",
    "        [1, 4, 3, 0, 3, 4, 2, 3, 4, 2],\n",
    "        [4, 2, 0, 2, 4, 3, 1, 2, 4, 1],\n",
    "    ]\n",
    ")\n",
    "arr = np.delete(arr, 9, axis =1 )\n",
    "arr = np.delete(arr, 1, axis = 0)\n",
    "print(arr)"
   ]
  },
  {
   "cell_type": "code",
   "execution_count": 640,
   "id": "af220619",
   "metadata": {},
   "outputs": [
    {
     "name": "stdout",
     "output_type": "stream",
     "text": [
      "[[ 40 494 384 353 337 181 689 142 181 386]\n",
      " [195 942 938 580 897  72 109 600 979 586]\n",
      " [468 970 898 765 316 368 143 381 674 971]\n",
      " [963 733 548 247 779 170 830 665 692 502]\n",
      " [563 996 272 400 487 581 117 749 434 815]]\n",
      "------------------\n",
      "[[ 40 494 384 353 337 181 689 142 181 386]\n",
      " [195 942 938 580 897  72 109 600 979 586]\n",
      " [468 970 898 765 316 368 143 381 674 971]\n",
      " [963 733 548 247 779 170 830 665 692 502]\n",
      " [563 996 272 400 487 581 117 749 434 815]]\n"
     ]
    }
   ],
   "source": [
    "#Exercise 6\n",
    "\"\"\"\n",
    "Replace the first row with the last one and print this array to the console.\n",
    "\"\"\"\n",
    "import numpy as np\n",
    "\n",
    "arr = np.array(\n",
    "    [\n",
    "        [563, 996, 272, 400, 487, 581, 117, 749, 434, 815],\n",
    "        [195, 942, 938, 580, 897, 72, 109, 600, 979, 586],\n",
    "        [468, 970, 898, 765, 316, 368, 143, 381, 674, 971],\n",
    "        [963, 733, 548, 247, 779, 170, 830, 665, 692, 502],\n",
    "        [40, 494, 384, 353, 337, 181, 689, 142, 181, 386],\n",
    "    ]\n",
    ")\n",
    "new_array = arr.copy()\n",
    "arr[0] = arr[4]\n",
    "arr[4] = new_array[0]\n",
    "print(arr)\n",
    "#Another way\n",
    "print(\"------------------\")\n",
    "arr2 = arr2[[4,1,2,3,0],:]\n",
    "print(arr2)\n",
    "\n"
   ]
  },
  {
   "cell_type": "code",
   "execution_count": 652,
   "id": "76b16f22",
   "metadata": {},
   "outputs": [
    {
     "name": "stdout",
     "output_type": "stream",
     "text": [
      "[[ 40 494 384 353 337 181 689 142 181 386]\n",
      " [963 733 548 247 779 170 830 665 692 502]\n",
      " [468 970 898 765 316 368 143 381 674 971]\n",
      " [195 942 938 580 897  72 109 600 979 586]\n",
      " [563 996 272 400 487 581 117 749 434 815]]\n",
      "--------------------\n",
      "[[563 996 272 400 487 581 117 749 434 815]\n",
      " [195 942 938 580 897  72 109 600 979 586]\n",
      " [468 970 898 765 316 368 143 381 674 971]\n",
      " [963 733 548 247 779 170 830 665 692 502]\n",
      " [ 40 494 384 353 337 181 689 142 181 386]]\n"
     ]
    }
   ],
   "source": [
    "#Exercise 7\n",
    "\"\"\"\n",
    "Reverse the order of the rows in the array and print it to the console.\n",
    "\"\"\"\n",
    "import numpy as np\n",
    "\n",
    "\n",
    "arr = np.array(\n",
    "    [\n",
    "        [563, 996, 272, 400, 487, 581, 117, 749, 434, 815],\n",
    "        [195, 942, 938, 580, 897, 72, 109, 600, 979, 586],\n",
    "        [468, 970, 898, 765, 316, 368, 143, 381, 674, 971],\n",
    "        [963, 733, 548, 247, 779, 170, 830, 665, 692, 502],\n",
    "        [40, 494, 384, 353, 337, 181, 689, 142, 181, 386],\n",
    "    ]\n",
    ")\n",
    "\n",
    "arr = arr[[4,3,2,1,0],:]\n",
    "print(arr)\n",
    "#Another option \n",
    "print(\"--------------------\")\n",
    "arr2 = arr.copy()\n",
    "arr2 = arr2[::-1, :]\n",
    "print(arr2)"
   ]
  },
  {
   "cell_type": "markdown",
   "id": "ece116f7",
   "metadata": {},
   "source": [
    "***SECCTION 11- ARRAYS MANIPULATION***"
   ]
  },
  {
   "cell_type": "code",
   "execution_count": 653,
   "id": "de73a16c",
   "metadata": {},
   "outputs": [
    {
     "name": "stdout",
     "output_type": "stream",
     "text": [
      "[[6 7 7 3]\n",
      " [9 7 4 8]\n",
      " [4 0 1 5]\n",
      " [3 2 4 7]\n",
      " [8 9 8 2]]\n"
     ]
    }
   ],
   "source": [
    "#Exercise 1\n",
    "\"\"\"\n",
    "Suppose you have the following NumPy array:\n",
    "arr = np.array(\n",
    "    [\n",
    "        [6, 7, 7, 3, 9],\n",
    "        [7, 4, 8, 4, 0],\n",
    "        [1, 5, 3, 2, 4],\n",
    "        [7, 8, 9, 8, 2],\n",
    "    ]\n",
    ")\n",
    "Reshape this array as follows:\n",
    "array([[6, 7, 7, 3],\n",
    "       [9, 7, 4, 8],\n",
    "       [4, 0, 1, 5],\n",
    "       [3, 2, 4, 7],\n",
    "       [8, 9, 8, 2]])\n",
    "In response, print the result to the console.\n",
    "\"\"\"\n",
    "import numpy as np\n",
    "\n",
    "arr = np.array(\n",
    "    [\n",
    "        [6, 7, 7, 3, 9],\n",
    "        [7, 4, 8, 4, 0],\n",
    "        [1, 5, 3, 2, 4],\n",
    "        [7, 8, 9, 8, 2],\n",
    "    ]\n",
    ")\n",
    "arr = arr.reshape(5,4) #(5,-1)\n",
    "print(arr)"
   ]
  },
  {
   "cell_type": "code",
   "execution_count": 656,
   "id": "471af14c",
   "metadata": {},
   "outputs": [
    {
     "name": "stdout",
     "output_type": "stream",
     "text": [
      "[[0 8]\n",
      " [1 9]\n",
      " [5 2]\n",
      " [7 5]\n",
      " [5 0]\n",
      " [5 8]\n",
      " [9 1]\n",
      " [3 5]\n",
      " [0 8]\n",
      " [7 2]\n",
      " [5 9]\n",
      " [4 0]\n",
      " [7 9]\n",
      " [4 1]\n",
      " [4 3]]\n"
     ]
    }
   ],
   "source": [
    "#Exercise 2\n",
    "\"\"\"\n",
    "Convert this array to its transposed form and print result to the console.\n",
    "\"\"\"\n",
    "import numpy as np\n",
    "\n",
    "arr = np.array(\n",
    "    [\n",
    "        [0, 1, 5, 7, 5, 5, 9, 3, 0, 7, 5, 4, 7, 4, 4],\n",
    "        [8, 9, 2, 5, 0, 8, 1, 5, 8, 2, 9, 0, 9, 1, 3],\n",
    "    ]\n",
    ")\n",
    "arr = np.transpose(arr)#A transposed array is an array in which the rows and columns have been swapped\n",
    "arr = arr.T #Other option\n",
    "print(arr)"
   ]
  },
  {
   "cell_type": "code",
   "execution_count": 662,
   "id": "edb49b60",
   "metadata": {},
   "outputs": [
    {
     "name": "stdout",
     "output_type": "stream",
     "text": [
      "[[4 2]\n",
      " [5 2]]\n"
     ]
    }
   ],
   "source": [
    "#Exercise 3\n",
    "\"\"\"\n",
    "Squeeze this array into a 2-dimensional array with the shape 2x2 and print it to the console.\n",
    "\"\"\"\n",
    "import numpy as np\n",
    "\n",
    "\n",
    "arr = np.array([[[4, 2], [5, 2]]])\n",
    "arr = np.squeeze(arr)\n",
    "print(arr)"
   ]
  },
  {
   "cell_type": "code",
   "execution_count": 672,
   "id": "8be456b2",
   "metadata": {},
   "outputs": [
    {
     "name": "stdout",
     "output_type": "stream",
     "text": [
      "[[ 0.49671415 -0.1382643   1.52302986]\n",
      " [-0.23415337 -0.23413696  0.76743473]\n",
      " [-0.46947439  0.54256004 -0.46572975]\n",
      " [ 0.24196227 -1.91328024 -0.56228753]\n",
      " [-1.01283112  0.31424733 -1.4123037 ]\n",
      " [ 1.46564877 -0.2257763  -1.42474819]\n",
      " [-0.54438272  0.11092259  0.37569802]\n",
      " [-0.60063869 -0.29169375  1.85227818]]\n"
     ]
    }
   ],
   "source": [
    "#Exercise 4\n",
    "\"\"\"\n",
    "Remove the third column and print this array to the console.\n",
    "\"\"\"\n",
    "import numpy as np\n",
    "\n",
    "np.random.seed(42)\n",
    "arr = np.random.randn(8, 4)\n",
    "arr = np.delete(arr,2, axis = 1 )\n",
    "print(arr)"
   ]
  },
  {
   "cell_type": "code",
   "execution_count": 678,
   "id": "97296db7",
   "metadata": {},
   "outputs": [
    {
     "name": "stdout",
     "output_type": "stream",
     "text": [
      "[['Profile' 'Course' 'Open' 'Low' 'High']\n",
      " ['11B(11BIT)' '391.00' '383.50' '383.00' '394.00']\n",
      " ['CDR(CDPROJEKT)' '339.50' '338.30' '337.00' '344.20']\n",
      " ['CIG(CIGAMES)' '0.742' '0.772' '0.730' '0.772']\n",
      " ['PLW(PLAYWAY)' '387.50' '374.00' '373.00' '388.00']\n",
      " ['TEN(TSGAMES)' '349.50' '332.00' '330.00' '353.50']]\n",
      "------------------------\n",
      "[['Profile' 'Course' 'Open' 'Low' 'High']\n",
      " ['11B(11BIT)' '391.00' '383.50' '383.00' '394.00']\n",
      " ['CDR(CDPROJEKT)' '339.50' '338.30' '337.00' '344.20']\n",
      " ['CIG(CIGAMES)' '0.742' '0.772' '0.730' '0.772']\n",
      " ['PLW(PLAYWAY)' '387.50' '374.00' '373.00' '388.00']\n",
      " ['TEN(TSGAMES)' '349.50' '332.00' '330.00' '353.50']]\n"
     ]
    }
   ],
   "source": [
    "#Exercise 5\n",
    "\"\"\"\n",
    "Remove the following columns:\n",
    "-'Time'\n",
    "-'Turn'\n",
    "-'Share'\n",
    "In response, print the rest of this array to the console.\n",
    "\"\"\"\n",
    "import numpy as np\n",
    "np.set_printoptions(linewidth=160, suppress=True)\n",
    "wig_games = np.array(\n",
    "    [\n",
    "        [\n",
    "            'Profile',\n",
    "            'Time',\n",
    "            'Course',\n",
    "            'Open',\n",
    "            'Low',\n",
    "            'High',\n",
    "            'Turn',\n",
    "            'Share',\n",
    "        ],\n",
    "        [\n",
    "            '11B(11BIT)',\n",
    "            '17kwi17:01',\n",
    "            '391.00',\n",
    "            '383.50',\n",
    "            '383.00',\n",
    "            '394.00',\n",
    "            '4994874',\n",
    "            '19.034%',\n",
    "        ],\n",
    "        [\n",
    "            'CDR(CDPROJEKT)',\n",
    "            '17kwi17:01',\n",
    "            '339.50',\n",
    "            '338.30',\n",
    "            '337.00',\n",
    "            '344.20',\n",
    "            '79245368',\n",
    "            '39.618%',\n",
    "        ],\n",
    "        [\n",
    "            'CIG(CIGAMES)',\n",
    "            '17kwi17:03',\n",
    "            '0.742',\n",
    "            '0.772',\n",
    "            '0.730',\n",
    "            '0.772',\n",
    "            '971459',\n",
    "            '1.855%',\n",
    "        ],\n",
    "        [\n",
    "            'PLW(PLAYWAY)',\n",
    "            '17kwi17:03',\n",
    "            '387.50',\n",
    "            '374.00',\n",
    "            '373.00',\n",
    "            '388.00',\n",
    "            '12661786',\n",
    "            '10.638%',\n",
    "        ],\n",
    "        [\n",
    "            'TEN(TSGAMES)',\n",
    "            '17kwi17:02',\n",
    "            '349.50',\n",
    "            '332.00',\n",
    "            '330.00',\n",
    "            '353.50',\n",
    "            '13697060',\n",
    "            '28.855%',\n",
    "        ],\n",
    "    ],\n",
    "    dtype='<U14',\n",
    ")\n",
    "wig_games2 = wig_games.copy()\n",
    "\n",
    "wig_games = np.delete(wig_games, 1, axis = 1)\n",
    "wig_games = np.delete(wig_games, [5], axis = 1)\n",
    "wig_games = np.delete(wig_games, [5], axis = 1)\n",
    "print(wig_games)\n",
    "\n",
    "print('------------------------')\n",
    "wig_games2 = np.delete(wig_games2, [1, 6, 7], axis=1)\n",
    "print(wig_games)"
   ]
  },
  {
   "cell_type": "code",
   "execution_count": 19,
   "id": "ca572882",
   "metadata": {},
   "outputs": [
    {
     "name": "stdout",
     "output_type": "stream",
     "text": [
      "[[0 0 1 0 0 0]\n",
      " [1 0 0 0 0 0]\n",
      " [0 1 0 0 0 0]\n",
      " [0 0 0 1 0 0]\n",
      " [0 0 0 0 0 1]]\n"
     ]
    }
   ],
   "source": [
    "#Exercise 6\n",
    "\"\"\"\n",
    "Convert this array of indices to one-hot encoded array as follows:\n",
    "\n",
    "The first row has a 1 at index 2, the second row has a 1 at index 0,\n",
    "the third row has a 1 at index 0 and so on.\n",
    "\"\"\"\n",
    "import numpy as np\n",
    "\n",
    "arr = np.array([2, 0, 1, 3, 5])\n",
    "onehot = np.zeros((arr.size, arr.max()+1), dtype='int8')\n",
    "onehot[np.arange(arr.size), arr] = 1\n",
    "print(onehot)\n"
   ]
  },
  {
   "cell_type": "markdown",
   "id": "828b4d6a",
   "metadata": {},
   "source": [
    "***SECCTION 12 - MATHS & CALCULATIONS***"
   ]
  },
  {
   "cell_type": "code",
   "execution_count": 116,
   "id": "e3999c32",
   "metadata": {},
   "outputs": [
    {
     "name": "stdout",
     "output_type": "stream",
     "text": [
      "[[   3   12   24   72  288  864 3456 6912]\n",
      " [   2    8   16   16   32   96   96  384]\n",
      " [   4    4    8   32   64  256  256 1024]\n",
      " [   4    4    8   32  128  256  256 1024]\n",
      " [   2    6   18   72  144  288  288 1152]]\n",
      "------------------------------------------\n",
      "[[   3   12   24   72  288  864 3456 6912]\n",
      " [   2    8   16   16   32   96   96  384]\n",
      " [   4    4    8   32   64  256  256 1024]\n",
      " [   4    4    8   32  128  256  256 1024]\n",
      " [   2    6   18   72  144  288  288 1152]]\n"
     ]
    }
   ],
   "source": [
    "#Exercise 1\n",
    "\"\"\"\n",
    "Calculate the cumulative product of the elements along the rows and print it to the console.\n",
    "\"\"\"\n",
    "import numpy as np\n",
    "\n",
    "arr = np.array(\n",
    "    [\n",
    "        [3, 4, 2, 3, 4, 3, 4, 2],\n",
    "        [2, 4, 2, 1, 2, 3, 1, 4],\n",
    "        [4, 1, 2, 4, 2, 4, 1, 4],\n",
    "        [4, 1, 2, 4, 4, 2, 1, 4],\n",
    "        [2, 3, 3, 4, 2, 2, 1, 4],\n",
    "    ]\n",
    ")\n",
    "new_array = [] #Create a new matrix to store the results\n",
    "for row in arr:\n",
    "    producto = 1\n",
    "    row_result = []\n",
    "    for element in row:\n",
    "    # Calculate the cumulative product for the current element and store it in the row_result list\n",
    "        producto = producto * element\n",
    "        #print(producto)\n",
    "        row_result.append(producto)\n",
    "    new_array.append(row_result)\n",
    "new_array = np.asarray(new_array)\n",
    "print(new_array)\n",
    "\n",
    "#Another way\n",
    "print(\"------------------------------------------\")\n",
    "print(arr.cumprod(axis=1))"
   ]
  },
  {
   "cell_type": "code",
   "execution_count": 207,
   "id": "8b6567ce",
   "metadata": {},
   "outputs": [
    {
     "name": "stdout",
     "output_type": "stream",
     "text": [
      "[[ 3  4  2  3  4  3  4  2]\n",
      " [ 5  8  4  4  6  6  5  6]\n",
      " [ 9  9  6  8  8 10  6 10]\n",
      " [13 10  8 12 12 12  7 14]\n",
      " [15 13 11 16 14 14  8 18]]\n",
      "-----------ANOTHER WAY----------------\n",
      "[[ 3  4  2  3  4  3  4  2]\n",
      " [ 5  8  4  4  6  6  5  6]\n",
      " [ 9  9  6  8  8 10  6 10]\n",
      " [13 10  8 12 12 12  7 14]\n",
      " [15 13 11 16 14 14  8 18]]\n"
     ]
    }
   ],
   "source": [
    "#Exercise 2\n",
    "\"\"\"\n",
    "Calculate the cumulative sum of the elements along the columns and print it to the console.\n",
    "\"\"\"\n",
    "#Get the numbers of columns\n",
    "num_columns = arr.shape[1]\n",
    "new_array = []\n",
    "for i in range(num_columns):\n",
    "    suma = 0\n",
    "    result_arr = []\n",
    "    for j in arr[:,i]:\n",
    "        suma = suma + j\n",
    "        result_arr.append(suma)\n",
    "        #print(result_arr)\n",
    "    new_array.append(result_arr)\n",
    "new_array = np.asarray(new_array)\n",
    "print(new_array.T)\n",
    "\n",
    "print(\"-----------ANOTHER WAY----------------\")\n",
    "print(arr.cumsum(axis=0))"
   ]
  },
  {
   "cell_type": "code",
   "execution_count": 221,
   "id": "5742c41d",
   "metadata": {},
   "outputs": [
    {
     "name": "stdout",
     "output_type": "stream",
     "text": [
      "[0.98719372 0.1753418  0.26790891 0.14417694]\n"
     ]
    }
   ],
   "source": [
    "#Exercise 3\n",
    "\"\"\"\n",
    "Extract the diagonal of this array and print it to the console.\n",
    "\"\"\"\n",
    "import numpy as np\n",
    "arr = np.array(\n",
    "    [\n",
    "        [0.98719372, 0.40157794, 0.72824049, 0.20055243],\n",
    "        [0.58863943, 0.1753418, 0.02128165, 0.78263826],\n",
    "        [0.33259132, 0.80081786, 0.26790891, 0.53948946],\n",
    "        [0.00659557, 0.14391722, 0.3477083, 0.14417694],\n",
    "    ]\n",
    ")\n",
    "\n",
    "arr = np.diagonal(arr)\n",
    "print(arr)"
   ]
  },
  {
   "cell_type": "code",
   "execution_count": 231,
   "id": "fb081e72",
   "metadata": {},
   "outputs": [
    {
     "name": "stdout",
     "output_type": "stream",
     "text": [
      "[[0.         0.40157794 0.72824049 1.        ]\n",
      " [0.         0.1753418  0.02128165 1.        ]\n",
      " [0.         0.80081786 0.26790891 1.        ]\n",
      " [0.         0.14391722 0.3477083  1.        ]]\n",
      "------------------Another way-------------\n",
      "[[0.         0.40157794 0.72824049 1.        ]\n",
      " [0.         0.1753418  0.02128165 1.        ]\n",
      " [0.         0.80081786 0.26790891 1.        ]\n",
      " [0.         0.14391722 0.3477083  1.        ]]\n"
     ]
    }
   ],
   "source": [
    "#Exercise 4\n",
    "\"\"\"\n",
    "Perform the following operations:\n",
    "-fill the first column with 0.0\n",
    "-fill the last column with 1.0\n",
    "In response print this array to the console.\n",
    "\"\"\"\n",
    "import numpy as np\n",
    "\n",
    "arr = np.array(\n",
    "    [\n",
    "        [0.98719372, 0.40157794, 0.72824049, 0.20055243],\n",
    "        [0.58863943, 0.1753418, 0.02128165, 0.78263826],\n",
    "        [0.33259132, 0.80081786, 0.26790891, 0.53948946],\n",
    "        [0.00659557, 0.14391722, 0.3477083, 0.14417694],\n",
    "    ]\n",
    ")\n",
    "arr[0:,0] = 0\n",
    "arr[0:,-1] = 1.0\n",
    "print(arr)\n",
    "print(\"------------------Another way-------------\")\n",
    "arr[:, 0].fill(0.0)\n",
    "arr[:, 3].fill(1.0)\n",
    "print(arr)"
   ]
  },
  {
   "cell_type": "code",
   "execution_count": 239,
   "id": "bca14386",
   "metadata": {},
   "outputs": [
    {
     "name": "stdout",
     "output_type": "stream",
     "text": [
      "[0.9 0.6 0.7]\n",
      "---------------- Another way -------------\n",
      "[0.9 0.6 0.7]\n"
     ]
    }
   ],
   "source": [
    "#Exercise 5\n",
    "\"\"\"\n",
    "Extract the maximum values for each row and print them to the console.\n",
    "\"\"\"\n",
    "import numpy as np\n",
    "\n",
    "arr = np.array(\n",
    "    [\n",
    "        [0.9, 0.01, 0.09],\n",
    "        [0.1, 0.3, 0.6],\n",
    "        [0.1, 0.2, 0.7],\n",
    "    ]\n",
    ")\n",
    "arr2 = arr.copy()\n",
    "new_array = []\n",
    "for i in arr:\n",
    "    arr = np.max(i)\n",
    "    new_array.append(arr)\n",
    "new_array = np.asarray(new_array)\n",
    "print(new_array)\n",
    "print(\"---------------- Another way -------------\")\n",
    "maxvals = arr2.max(axis=1)\n",
    "print(maxvals)"
   ]
  },
  {
   "cell_type": "code",
   "execution_count": 243,
   "id": "8f175fd3",
   "metadata": {},
   "outputs": [
    {
     "name": "stdout",
     "output_type": "stream",
     "text": [
      "[46949.543 47337.9   46344.303 46853.57 ]\n"
     ]
    }
   ],
   "source": [
    "#Exercise 6\n",
    "\"\"\"\n",
    "Calculate the mean for each column, round to two decimal places and print the result to the console.\n",
    "\"\"\"\n",
    "import numpy as np\n",
    "\n",
    "\n",
    "prices = np.array(\n",
    "    [\n",
    "        [46956.85, 47261.27, 46363.63, 46768.23],\n",
    "        [46504.95, 47365.6, 46215.3, 47283.29],\n",
    "        [47386.83, 47386.83, 46453.98, 46509.19],\n",
    "    ]\n",
    ")\n",
    "prices = np.mean(prices, axis = 0).round(3)\n",
    "print(prices)\n",
    "#other way: means = np.round(prices.mean(axis=0), 2)\n"
   ]
  },
  {
   "cell_type": "code",
   "execution_count": 272,
   "id": "f217ab03",
   "metadata": {},
   "outputs": [
    {
     "name": "stdout",
     "output_type": "stream",
     "text": [
      "19\n"
     ]
    }
   ],
   "source": [
    "#Exercise 7\n",
    "\"\"\"\n",
    "Calculate the number of zeros in this array an print it to the console.\n",
    "\"\"\"\n",
    "import numpy as np\n",
    "\n",
    "arr = np.array(\n",
    "    [\n",
    "        [2, 2, 2, 2, 0, 1, 0, 2, 1, 2],\n",
    "        [2, 1, 0, 0, 0, 0, 0, 2, 1, 0],\n",
    "        [2, 0, 2, 0, 2, 2, 2, 2, 2, 2],\n",
    "        [2, 1, 1, 2, 2, 0, 0, 2, 2, 0],\n",
    "        [0, 1, 0, 2, 0, 2, 0, 0, 0, 1],\n",
    "    ]\n",
    ")\n",
    "arr2 = arr.copy\n",
    "size = []\n",
    "for row in arr:\n",
    "    for elements in row:\n",
    "        if elements == 0:\n",
    "            size.append(elements)\n",
    "            #print(zeros)\n",
    "total = np.asarray(size)\n",
    "print(total.size)\n",
    "#print(\"--------------------Other way-----------------\")\n",
    "#result = arr2.size - np.count_nonzero(arr2)\n",
    "#print(result)\n"
   ]
  },
  {
   "cell_type": "code",
   "execution_count": 285,
   "id": "a4495c47",
   "metadata": {},
   "outputs": [
    {
     "name": "stdout",
     "output_type": "stream",
     "text": [
      "True\n"
     ]
    }
   ],
   "source": [
    "#Exercise 8\n",
    "\"\"\"\n",
    "Check the Pythagorean formula for sines and cosines of the A array and then compare the result with the B array. \n",
    "Use the np.allclose() function in this exercise.\n",
    "\"\"\"\n",
    "import numpy as np\n",
    "\n",
    "A = np.linspace(0, np.pi / 2, 20)\n",
    "B = np.full(shape=(20,), fill_value=1, dtype='float')\n",
    " \n",
    "result = np.allclose(np.sin(A) ** 2 + np.cos(A) ** 2, B)\n",
    "print(result)"
   ]
  },
  {
   "cell_type": "code",
   "execution_count": 339,
   "id": "aa06a53d",
   "metadata": {},
   "outputs": [
    {
     "name": "stdout",
     "output_type": "stream",
     "text": [
      "[[ 71  61  43  68  40  68  18  52  40  70]\n",
      " [ 23  19  55  28  29  73  43  27  61  41]\n",
      " [ 22  60  59  69  51  70  39  29  30  69]\n",
      " [ 25  35  63  36  61  61  26  32  58  35]\n",
      " [ 52  74  41  53 100  75  26  58  19  26]\n",
      " [ 36  42  23  57  32  60  30  24  74  75]\n",
      " [ 34  48  50  26  41  61  41  46  63  19]\n",
      " [ 20  36  39  44  37  35  26  79 100  37]\n",
      " [ 44   0  54  68  40  30  64  25  26  71]\n",
      " [ 65  26  22  49  52  36  58  48  27  75]]\n",
      "-------------------Another way -----------------\n",
      "[[ 71  61  43  68  40  68  18  52  40  70]\n",
      " [ 23  19  55  28  29  73  43  27  61  41]\n",
      " [ 22  60  59  69  51  70  39  29  30  69]\n",
      " [ 25  35  63  36  61  61  26  32  58  35]\n",
      " [ 52  74  41  53 100  75  26  58  19  26]\n",
      " [ 36  42  23  57  32  60  30  24  74  75]\n",
      " [ 34  48  50  26  41  61  41  46  63  19]\n",
      " [ 20  36  39  44  37  35  26  79 100  37]\n",
      " [ 44   0  54  68  40  30  64  25  26  71]\n",
      " [ 65  26  22  49  52  36  58  48  27  75]]\n"
     ]
    }
   ],
   "source": [
    "#Exercise 9\n",
    "\"\"\"\n",
    "This data is corrupted (for example 452, 705 or -234) and you need to clean it up a bit. \n",
    "Trim the age values to the specified range [0, 100]. \n",
    "In response, print the cleaned array to the console.\n",
    "\"\"\"\n",
    "\n",
    "import numpy as np\n",
    "\n",
    "ages = np.array(\n",
    "    [\n",
    "        [71, 61, 43, 68, 40, 68, 18, 52, 40, 70],\n",
    "        [23, 19, 55, 28, 29, 73, 43, 27, 61, 41],\n",
    "        [22, 60, 59, 69, 51, 70, 39, 29, 30, 69],\n",
    "        [25, 35, 63, 36, 61, 61, 26, 32, 58, 35],\n",
    "        [52, 74, 41, 53, 452, 75, 26, 58, 19, 26],\n",
    "        [36, 42, 23, 57, 32, 60, 30, 24, 74, 75],\n",
    "        [34, 48, 50, 26, 41, 61, 41, 46, 63, 19],\n",
    "        [20, 36, 39, 44, 37, 35, 26, 79, 705, 37],\n",
    "        [44, -234, 54, 68, 40, 30, 64, 25, 26, 71],\n",
    "        [65, 26, 22, 49, 52, 36, 58, 48, 27, 75],\n",
    "    ])\n",
    "\n",
    "new_array = []\n",
    "delet_numbers = []\n",
    "for row in ages:\n",
    "    for element in row:\n",
    "        if element > 100:\n",
    "            delet_numbers.append(element)\n",
    "            element = 100\n",
    "            new_array.append(element)\n",
    "        elif element <0:\n",
    "            delet_numbers.append(element)\n",
    "            element = 0\n",
    "            new_array.append(element)\n",
    "        else:\n",
    "            new_array.append(element)\n",
    "#print(delet_numbers)\n",
    "new_array = np.asarray(new_array).reshape(10,10)\n",
    "print(new_array)\n",
    "\n",
    "print(\"-------------------Another way -----------------\")\n",
    "ages = np.clip(ages, a_min=0, a_max=100) #Define a litim of matrix values\n",
    "print(ages)"
   ]
  },
  {
   "cell_type": "markdown",
   "id": "caec8878",
   "metadata": {},
   "source": [
    "***SECCTION 13 - MATHS & CALCULATIONS***"
   ]
  },
  {
   "cell_type": "code",
   "execution_count": 345,
   "id": "225bdeca",
   "metadata": {},
   "outputs": [
    {
     "name": "stdout",
     "output_type": "stream",
     "text": [
      "[1.10549 1.10549 1.10099 1.12415]\n"
     ]
    }
   ],
   "source": [
    "#Exercise 1\n",
    "\"\"\"\n",
    "Each column represents the annual accumulation factor for 3 years (columns) \n",
    "for 4 types of investments (rows). Calculate the total accumulation factor for each investment - \n",
    "the product of the rows. Round values to 5 decimal places and print result to the console.\n",
    "\"\"\"\n",
    "import numpy as np\n",
    "\n",
    "accumulation_factors = np.array(\n",
    "    [\n",
    "        [1.03, 1.035, 1.037],\n",
    "        [1.037, 1.035, 1.03],\n",
    "        [1.02, 1.05, 1.028],\n",
    "        [1.01, 1.023, 1.088],\n",
    "    ]\n",
    ")\n",
    "total = []\n",
    "for row in accumulation_factors:\n",
    "    investment = np.prod(row) #el producto de los elementos de una matriz a lo largo de un eje específico\n",
    "    total.append(investment)\n",
    "total = np.asarray(total).round(5)\n",
    "print(total)\n",
    "#Other solution\n",
    "#accumulation_factors = np.prod(accumulation_factors, axis=1).round(5)\n",
    "#print(accumulation_factors)"
   ]
  },
  {
   "cell_type": "code",
   "execution_count": 359,
   "id": "eaf1e84b",
   "metadata": {},
   "outputs": [
    {
     "name": "stdout",
     "output_type": "stream",
     "text": [
      "[0.007 0.005 0.03  0.078]\n"
     ]
    }
   ],
   "source": [
    "#Exercise 2\n",
    "\"\"\"\n",
    "Each column represents the annual accumulation factor for 3 years (columns) \n",
    "for 4 types of investments (rows). Calculate the difference between the minimum and maximum values \n",
    "for each row of this array and print it to the console.\n",
    "\"\"\"\n",
    "import numpy as np\n",
    "\n",
    "accumulation_factors = np.array(\n",
    "    [\n",
    "        [1.03, 1.035, 1.037],\n",
    "        [1.037, 1.035, 1.04],\n",
    "        [1.02, 1.05, 1.028],\n",
    "        [1.01, 1.023, 1.088],\n",
    "    ]\n",
    ")\n",
    "total = []\n",
    "for row in accumulation_factors:\n",
    "    operation = row.max() - row.min()\n",
    "    total.append(operation)\n",
    "\n",
    "new_arr = np.asarray(total).round(3)\n",
    "print(new_arr)"
   ]
  },
  {
   "cell_type": "code",
   "execution_count": 360,
   "id": "9b93452c",
   "metadata": {},
   "outputs": [
    {
     "name": "stdout",
     "output_type": "stream",
     "text": [
      "[0.007 0.005 0.03  0.078]\n"
     ]
    },
    {
     "data": {
      "text/plain": [
       "'\\nmax_val = np.max(accumulation_factors, axis=1)\\nmin_val = np.min(accumulation_factors, axis=1)\\nresult = max_val - min_val\\nprint(result)\\n'"
      ]
     },
     "execution_count": 360,
     "metadata": {},
     "output_type": "execute_result"
    }
   ],
   "source": [
    "\"\"\"\n",
    "OTHER SOLUTIONS - PREVIOUS EXERCISE\n",
    "\"\"\"\n",
    "import numpy as np\n",
    " \n",
    " \n",
    "accumulation_factors = np.array(\n",
    "    [\n",
    "        [1.03, 1.035, 1.037],\n",
    "        [1.037, 1.035, 1.04],\n",
    "        [1.02, 1.05, 1.028],\n",
    "        [1.01, 1.023, 1.088],\n",
    "    ]\n",
    ")\n",
    " \n",
    "result = np.ptp(accumulation_factors, axis=1) #Peak to peak\n",
    "#a la diferencia entre el valor máximo y el valor mínimo en la matriz o en el eje especificado.\n",
    "print(result)\n",
    "\n",
    "\"\"\"\n",
    "max_val = np.max(accumulation_factors, axis=1)\n",
    "min_val = np.min(accumulation_factors, axis=1)\n",
    "result = max_val - min_val\n",
    "print(result)\n",
    "\"\"\"\n"
   ]
  },
  {
   "cell_type": "code",
   "execution_count": 374,
   "id": "ad6f5537",
   "metadata": {},
   "outputs": [
    {
     "name": "stdout",
     "output_type": "stream",
     "text": [
      "[[1.03  1.037 1.02  1.01 ]\n",
      " [1.035 1.035 1.05  1.023]\n",
      " [1.037 1.04  1.028 1.088]]\n"
     ]
    }
   ],
   "source": [
    "#Exercise 3\n",
    "\"\"\"\n",
    "Each array represents the annual accumulation factor for 4 years for 3 types of investments.\n",
    "Combine these arrays into one as follows:\n",
    "\"\"\"\n",
    "import numpy as np\n",
    "\n",
    "year1 = np.array([1.03, 1.035, 1.037])\n",
    "year2 = np.array([1.037, 1.035, 1.04])\n",
    "year3 = np.array([1.02, 1.05, 1.028])\n",
    "year4 = np.array([1.01, 1.023, 1.088])\n",
    "\n",
    "full_arr = np.stack((year1,year2,year3,year4), axis = 1) #Concatenate with columns\n",
    "print(full_arr)\n",
    "\n",
    "#Another way\n",
    "#investments = np.c_[year1, year2, year3, year4]-indexar/concatenar matrices a lo largo del segundo eje (columnas"
   ]
  },
  {
   "cell_type": "code",
   "execution_count": 393,
   "id": "05d6bb7a",
   "metadata": {},
   "outputs": [
    {
     "name": "stdout",
     "output_type": "stream",
     "text": [
      "0.9121043028538186\n"
     ]
    }
   ],
   "source": [
    "#Exercise 4\n",
    "\"\"\"\n",
    "Which represents stock data: open, high, low, close, volume. \n",
    "Calculate the correlation between open and close price and print it to the console.\n",
    "\"\"\"\n",
    "import numpy as np\n",
    "\n",
    "\n",
    "playway = np.array(\n",
    "    [\n",
    "        [305.0, 324.5, 283.5, 310.0, 64081.0],\n",
    "        [325.5, 340.5, 320.0, 340.5, 55496.0],\n",
    "        [324.0, 340.5, 315.0, 330.0, 36152.0],\n",
    "        [344.0, 344.0, 310.0, 315.0, 35992.0],\n",
    "        [306.5, 307.0, 291.0, 305.0, 32539.0],\n",
    "        [274.0, 291.0, 250.0, 258.0, 79402.0],\n",
    "        [278.0, 284.5, 256.0, 264.0, 35700.0],\n",
    "        [270.0, 270.0, 238.5, 245.0, 60445.0],\n",
    "        [218.0, 228.0, 196.0, 197.0, 94031.0],\n",
    "        [210.0, 229.0, 198.8, 211.0, 100412.0],\n",
    "        [205.0, 248.0, 197.8, 240.5, 50659.0],\n",
    "        [245.0, 269.0, 232.5, 264.0, 99480.0],\n",
    "        [264.0, 280.0, 251.0, 270.0, 70136.0],\n",
    "        [267.0, 280.0, 267.0, 279.5, 30732.0],\n",
    "        [297.5, 307.0, 280.0, 280.5, 43426.0],\n",
    "        [274.0, 289.0, 258.0, 285.0, 37098.0],\n",
    "        [305.0, 309.0, 296.5, 309.0, 31939.0],\n",
    "        [313.0, 330.0, 295.0, 304.0, 46724.0],\n",
    "        [300.0, 309.0, 295.5, 300.0, 27213.0],\n",
    "        [302.0, 306.5, 290.0, 296.0, 13466.0],\n",
    "        [299.0, 300.0, 287.0, 300.0, 10316.0],\n",
    "        [302.5, 309.0, 302.0, 306.5, 15698.0],\n",
    "    ]\n",
    ")\n",
    "\n",
    "playway = np.corrcoef(playway[0:, 0], playway[:,-2])[0,1]\n",
    "print(playway)"
   ]
  },
  {
   "cell_type": "code",
   "execution_count": 394,
   "id": "3a18acd8",
   "metadata": {},
   "outputs": [
    {
     "name": "stdout",
     "output_type": "stream",
     "text": [
      "[[1.73205081 2.         3.         1.41421356]\n",
      " [2.23606798 1.73205081 1.41421356 2.23606798]]\n"
     ]
    }
   ],
   "source": [
    "#Exercise 5\n",
    "\"\"\"\n",
    "Calculate the square root of each element of this array and print result to the console.\n",
    "\"\"\"\n",
    "\n",
    "import numpy as np\n",
    "\n",
    "arr = np.array([[3, 4, 9, 2], [5, 3, 2, 5]])\n",
    "arr = np.sqrt(arr)\n",
    "print(arr)\n"
   ]
  },
  {
   "cell_type": "code",
   "execution_count": 398,
   "id": "e45b806f",
   "metadata": {},
   "outputs": [
    {
     "name": "stdout",
     "output_type": "stream",
     "text": [
      "[  283.14   295.25   268.69   282.3  48688.05]\n"
     ]
    }
   ],
   "source": [
    "#Exercise 6\n",
    "\"\"\"\n",
    "Calculate the average value for each column.\n",
    "Round the result to two decimal places and print it to the console.\n",
    "\"\"\"\n",
    "import numpy as np\n",
    "\n",
    "\n",
    "playway_values = np.array(\n",
    "    [\n",
    "        [305.0, 324.5, 283.5, 310.0, 64081.0],\n",
    "        [325.5, 340.5, 320.0, 340.5, 55496.0],\n",
    "        [324.0, 340.5, 315.0, 330.0, 36152.0],\n",
    "        [344.0, 344.0, 310.0, 315.0, 35992.0],\n",
    "        [306.5, 307.0, 291.0, 305.0, 32539.0],\n",
    "        [274.0, 291.0, 250.0, 258.0, 79402.0],\n",
    "        [278.0, 284.5, 256.0, 264.0, 35700.0],\n",
    "        [270.0, 270.0, 238.5, 245.0, 60445.0],\n",
    "        [218.0, 228.0, 196.0, 197.0, 94031.0],\n",
    "        [210.0, 229.0, 198.8, 211.0, 100412.0],\n",
    "        [205.0, 248.0, 197.8, 240.5, 50659.0],\n",
    "        [245.0, 269.0, 232.5, 264.0, 99480.0],\n",
    "        [264.0, 280.0, 251.0, 270.0, 70136.0],\n",
    "        [267.0, 280.0, 267.0, 279.5, 30732.0],\n",
    "        [297.5, 307.0, 280.0, 280.5, 43426.0],\n",
    "        [274.0, 289.0, 258.0, 285.0, 37098.0],\n",
    "        [305.0, 309.0, 296.5, 309.0, 31939.0],\n",
    "        [313.0, 330.0, 295.0, 304.0, 46724.0],\n",
    "        [300.0, 309.0, 295.5, 300.0, 27213.0],\n",
    "        [302.0, 306.5, 290.0, 296.0, 13466.0],\n",
    "        [299.0, 300.0, 287.0, 300.0, 10316.0],\n",
    "        [302.5, 309.0, 302.0, 306.5, 15698.0],\n",
    "    ]\n",
    ")\n",
    "playway_values = np.mean(playway_values, axis =0).round(2)\n",
    "print(playway_values)\n"
   ]
  },
  {
   "cell_type": "code",
   "execution_count": 404,
   "id": "0533d9d1",
   "metadata": {},
   "outputs": [
    {
     "name": "stdout",
     "output_type": "stream",
     "text": [
      "[[3.5 3.5 5.5 3.5]\n",
      " [5.5 3.  1.5 5.5]]\n"
     ]
    }
   ],
   "source": [
    "#Exercise 7\n",
    "\"\"\"\n",
    "Calculate arithmetic means of these arrays (elementwise) and print the result to the console.\n",
    "\"\"\"\n",
    "import numpy as np\n",
    "\n",
    "\n",
    "A = np.array([[3, 4, 9, 2], [5, 3, 2, 5]])\n",
    "B = np.array([[4, 3, 2, 5], [6, 3, 1, 6]])\n",
    "\n",
    "elementwise = np.median([A,B], axis =0)\n",
    "print(elementwise)"
   ]
  },
  {
   "cell_type": "code",
   "execution_count": 405,
   "id": "12efcdd6",
   "metadata": {},
   "outputs": [
    {
     "name": "stdout",
     "output_type": "stream",
     "text": [
      "[[12 12 18 10]\n",
      " [30  9  2 30]]\n"
     ]
    }
   ],
   "source": [
    "#Exercise 8\n",
    "\"\"\"\n",
    "Multiply these arrays (elementwise) and print the result to the console.\n",
    "\"\"\"\n",
    "import numpy as np\n",
    "\n",
    "\n",
    "A = np.array([[3, 4, 9, 2], [5, 3, 2, 5]])\n",
    "B = np.array([[4, 3, 2, 5], [6, 3, 1, 6]])\n",
    "\n",
    "product = (A*B)\n",
    "print(product)"
   ]
  },
  {
   "cell_type": "markdown",
   "id": "6441af33",
   "metadata": {},
   "source": [
    "***SECTION 14 - DATES***"
   ]
  },
  {
   "cell_type": "code",
   "execution_count": 409,
   "id": "12ead608",
   "metadata": {},
   "outputs": [
    {
     "name": "stdout",
     "output_type": "stream",
     "text": [
      "['2024-01-01' '2024-01-08' '2024-01-15' '2024-01-22' '2024-01-29']\n"
     ]
    }
   ],
   "source": [
    "#Exercise 1\n",
    "\"\"\"\n",
    "Using NumPy generate all dates for Mondays for January 2024 as an array:\n",
    "\"\"\"\n",
    "import numpy as np\n",
    "\n",
    "start_date = np.datetime64('2024-01-01')\n",
    "end_date = np.datetime64('2024-02-01')\n",
    "\n",
    "mondays = np.arange(start_date, end_date, dtype='datetime64[D]')[::7]\n",
    "print(mondays)"
   ]
  },
  {
   "cell_type": "code",
   "execution_count": 465,
   "id": "20d101d7",
   "metadata": {},
   "outputs": [
    {
     "name": "stdout",
     "output_type": "stream",
     "text": [
      "[['2025-01-01' '2025-01-04']\n",
      " ['2025-01-02' '2025-01-05']\n",
      " ['2025-01-03' '2025-01-06']\n",
      " ['2025-01-04' '2025-01-07']\n",
      " ['2025-01-05' '2025-01-08']\n",
      " ['2025-01-06' '2025-01-09']\n",
      " ['2025-01-07' '2025-01-10']\n",
      " ['2025-01-08' '2025-01-11']\n",
      " ['2025-01-09' '2025-01-12']\n",
      " ['2025-01-10' '2025-01-13']\n",
      " ['2025-01-11' '2025-01-14']\n",
      " ['2025-01-12' '2025-01-15']\n",
      " ['2025-01-13' '2025-01-16']\n",
      " ['2025-01-14' '2025-01-17']\n",
      " ['2025-01-15' '2025-01-18']\n",
      " ['2025-01-16' '2025-01-19']\n",
      " ['2025-01-17' '2025-01-20']\n",
      " ['2025-01-18' '2025-01-21']\n",
      " ['2025-01-19' '2025-01-22']\n",
      " ['2025-01-20' '2025-01-23']\n",
      " ['2025-01-21' '2025-01-24']\n",
      " ['2025-01-22' '2025-01-25']\n",
      " ['2025-01-23' '2025-01-26']\n",
      " ['2025-01-24' '2025-01-27']\n",
      " ['2025-01-25' '2025-01-28']\n",
      " ['2025-01-26' '2025-01-29']\n",
      " ['2025-01-27' '2025-01-30']\n",
      " ['2025-01-28' '2025-01-31']\n",
      " ['2025-01-29' '2025-02-01']\n",
      " ['2025-01-30' '2025-02-02']\n",
      " ['2025-01-31' '2025-02-03']]\n"
     ]
    }
   ],
   "source": [
    "#Exercise 2\n",
    "\"\"\"\n",
    "Add a new column to this array that stores dates 3 days\n",
    "later than specified and print the result to the console.\n",
    "\"\"\"\n",
    "import numpy as np\n",
    "\n",
    "dates = np.arange('2025-01', '2025-02', dtype='datetime64[D]').reshape(31,1)\n",
    "dates2 = np.arange('2025-01-04','2025-02-04', dtype='datetime64[D]').reshape(31,1)\n",
    "\n",
    "all_dates = np.concatenate([dates,dates2], axis = 1)\n",
    "print(all_dates)\n",
    "#result = np.c_[dates, dates + np.timedelta64(3, 'D')] - Another way"
   ]
  },
  {
   "cell_type": "code",
   "execution_count": 468,
   "id": "fda9f3ba",
   "metadata": {},
   "outputs": [
    {
     "name": "stdout",
     "output_type": "stream",
     "text": [
      "[['2024-01-01']\n",
      " ['2024-01-02']\n",
      " ['2024-01-03']\n",
      " ['2024-01-04']\n",
      " ['2024-01-05']\n",
      " ['2024-01-06']\n",
      " ['2024-01-07']\n",
      " ['2024-01-08']\n",
      " ['2024-01-09']\n",
      " ['2024-01-10']\n",
      " ['2024-01-11']\n",
      " ['2024-01-12']\n",
      " ['2024-01-13']\n",
      " ['2024-01-14']\n",
      " ['2024-01-15']\n",
      " ['2024-01-16']\n",
      " ['2024-01-17']\n",
      " ['2024-01-18']\n",
      " ['2024-01-19']\n",
      " ['2024-01-20']\n",
      " ['2024-01-21']\n",
      " ['2024-01-22']\n",
      " ['2024-01-23']\n",
      " ['2024-01-24']\n",
      " ['2024-01-25']\n",
      " ['2024-01-26']\n",
      " ['2024-01-27']\n",
      " ['2024-01-28']\n",
      " ['2024-01-29']\n",
      " ['2024-01-30']\n",
      " ['2024-01-31']]\n"
     ]
    }
   ],
   "source": [
    "#Exercise 3\n",
    "\"\"\"\n",
    "Using the np.arange() function, generate the following 2-dimensional 31x1 array:\n",
    "\"\"\"\n",
    "\n",
    "import numpy as np\n",
    "\n",
    "dates = np.arange('2024-01-01', '2024-02', dtype = 'datetime64[D]').reshape(31,1) #arr = arr.reshape(-1, 1)\n",
    "print(dates)"
   ]
  },
  {
   "cell_type": "code",
   "execution_count": 471,
   "id": "08516a1a",
   "metadata": {},
   "outputs": [
    {
     "name": "stdout",
     "output_type": "stream",
     "text": [
      "[['2024-01' '2024-02' '2024-03']\n",
      " ['2024-04' '2024-05' '2024-06']\n",
      " ['2024-07' '2024-08' '2024-09']\n",
      " ['2024-10' '2024-11' '2024-12']]\n"
     ]
    }
   ],
   "source": [
    "#Exercise 4\n",
    "\"\"\"\n",
    "Using the np.arange() function, generate the following 2-dimensional 4x3 array:\n",
    "\"\"\"\n",
    "import numpy as np\n",
    "\n",
    "dates = np.arange('2024-01', '2025-01', dtype = 'datetime64[M]').reshape(4,3) #(-1,3)\n",
    "print(dates)"
   ]
  },
  {
   "cell_type": "code",
   "execution_count": 476,
   "id": "2ceb696b",
   "metadata": {},
   "outputs": [
    {
     "name": "stdout",
     "output_type": "stream",
     "text": [
      "2023-07-25\n"
     ]
    }
   ],
   "source": [
    "#Exercise 5\n",
    "\"\"\"\n",
    "Using the np.datetime64() function, generate today's date and print result to the console\n",
    "\"\"\"\n",
    "today = np.datetime64('today')\n",
    "print(today)"
   ]
  },
  {
   "cell_type": "code",
   "execution_count": 490,
   "id": "6d7a2e00",
   "metadata": {},
   "outputs": [
    {
     "name": "stdout",
     "output_type": "stream",
     "text": [
      "7\n"
     ]
    }
   ],
   "source": [
    "#Exercise 6\n",
    "\"\"\"\n",
    "Count the number of a business days in this array and print the result to the console.\n",
    "\"\"\"\n",
    "import numpy as np\n",
    " \n",
    "dates = np.arange('2025-01-01', '2025-01-10', dtype='datetime64[D]')\n",
    "#Another way\n",
    "#result = np.sum(np.is_busday(dates))\n",
    "new_dates = np.busday_count('2025-01','2025-01-10')\n",
    "print(new_dates)"
   ]
  },
  {
   "cell_type": "markdown",
   "id": "1cc3364e",
   "metadata": {},
   "source": [
    "***SECTION 15 - RANDOM***"
   ]
  },
  {
   "cell_type": "code",
   "execution_count": 501,
   "id": "c3f05de9",
   "metadata": {},
   "outputs": [
    {
     "name": "stdout",
     "output_type": "stream",
     "text": [
      "[[0.77132064 0.02075195 0.63364823 0.74880388]\n",
      " [0.49850701 0.22479665 0.19806286 0.76053071]\n",
      " [0.16911084 0.08833981 0.68535982 0.95339335]\n",
      " [0.00394827 0.51219226 0.81262096 0.61252607]\n",
      " [0.72175532 0.29187607 0.91777412 0.71457578]]\n"
     ]
    }
   ],
   "source": [
    "#Exercise 1\n",
    "\"\"\"\n",
    "Using NumPy create a 2-dimensional 5x4 array consisting of 20 pseudo-randomly generated values from the uniform distribution [0,1). \n",
    "Set the random seed to 10\n",
    "\"\"\"\n",
    "import numpy as np\n",
    "\n",
    "np.random.seed(10)\n",
    "# generates random numbers in the range [0, 1) with the given shape.\n",
    "arr = np.random.rand(5,4) \n",
    "print(arr)"
   ]
  },
  {
   "cell_type": "code",
   "execution_count": 512,
   "id": "ce21fcea",
   "metadata": {},
   "outputs": [
    {
     "name": "stdout",
     "output_type": "stream",
     "text": [
      "[[ 0.88389311  0.19586502  0.35753652 -2.34326191 -1.08483259]\n",
      " [ 0.55969629  0.93946935 -0.97848104  0.50309684  0.40641447]\n",
      " [ 0.32346101 -0.49341088 -0.79201679 -0.84236793 -1.27950266]\n",
      " [ 0.24571517 -0.0441948   1.56763255  1.05110868  0.40636843]\n",
      " [-0.1686461  -3.18970279  1.12013226  1.33277821 -0.24333877]\n",
      " [-0.13003071 -0.10901737  1.55618644  0.12877835 -2.06694872]\n",
      " [-0.88549315 -1.10457948  0.93286635  2.059838   -0.93493796]\n",
      " [-1.61299022  0.52706972 -1.55110074  0.32961334 -1.13652654]\n",
      " [-0.3384906   0.32097078 -0.60230802  1.54472836  0.64703408]\n",
      " [ 0.59321721  0.4380245   1.35778902  1.20451128  1.35179619]]\n"
     ]
    }
   ],
   "source": [
    "#Exercise 2\n",
    "\"\"\"\n",
    "Using NumPy create a 2-dimensional 10x4 array with pseudo-randomly generated values\n",
    "from the standard normal distribution N(0,1). Set the random seed to 20.\n",
    "\"\"\"\n",
    "import numpy as np\n",
    "\n",
    "np.random.seed(20)\n",
    "#generates samples from a standard normal distribution (mean=0, variance=1) with the given shape\n",
    "arr = np.random.randn(10,5)\n",
    "\n",
    "print(arr)"
   ]
  },
  {
   "cell_type": "code",
   "execution_count": 541,
   "id": "1884cc78",
   "metadata": {},
   "outputs": [
    {
     "name": "stdout",
     "output_type": "stream",
     "text": [
      "[[ 97.17349231 103.41650023  97.82942436 101.05220329]\n",
      " [ 99.7748353  100.67930221  96.14063068 103.544381  ]\n",
      " [100.30029631  97.52499594 103.52901961 100.24037271]\n",
      " [ 98.29153712  98.2666258  103.09437633 101.70027274]\n",
      " [ 99.36127721 101.20382627  95.34026547 102.09694365]\n",
      " [ 99.98708001  98.95468525  99.05410904 102.38025432]\n",
      " [ 93.50787269 103.61547679 103.18753701  98.51356237]\n",
      " [102.20256689  96.19764407  97.54000366  97.05813038]\n",
      " [101.81233513  97.66380453  98.45883627  98.09317768]\n",
      " [102.48979932  95.70413391  98.43161651 101.89861815]]\n"
     ]
    }
   ],
   "source": [
    "#Exercise 3\n",
    "\"\"\"\n",
    "Using NumPy create a 2-dimensional 10x4 array with pseudo-randomly generated values\n",
    "from the normal distribution N(100, 5). Set the random seed to 30.\n",
    "\"\"\"\n",
    "import numpy as np\n",
    "\n",
    "np.random.seed(30)\n",
    " \n",
    "sigma = np.sqrt(5)\n",
    "mu = 100\n",
    " \n",
    "arr = sigma * np.random.randn(10, 4) + mu\n",
    "print(arr)"
   ]
  },
  {
   "cell_type": "code",
   "execution_count": 552,
   "id": "0fc18d91",
   "metadata": {},
   "outputs": [
    {
     "name": "stdout",
     "output_type": "stream",
     "text": [
      "[14 46 48 45 18 28]\n"
     ]
    }
   ],
   "source": [
    "#Exercise 4\n",
    "\"\"\"\n",
    "Using NumPy create a 1-dimensional array (vector) containing the possible result \n",
    "from the Big Lotto game. Set the random seed to 42.\n",
    "Tip: The result of the Big Lotto game is a 6-element vector of natural\n",
    "numbers with values from 1 to 49 inclusive (draw without repetition).\n",
    "\"\"\"\n",
    "import numpy as np\n",
    "\n",
    "np.random.seed(42)\n",
    "arr = np.random.choice(np.arange(1,50), size = 6, replace=False, p=None)\n",
    "print(arr)"
   ]
  },
  {
   "cell_type": "code",
   "execution_count": 555,
   "id": "2603735d",
   "metadata": {},
   "outputs": [
    {
     "name": "stdout",
     "output_type": "stream",
     "text": [
      "[[[102 220 225]\n",
      "  [ 95 179  61]\n",
      "  [234 203  92]\n",
      "  ...\n",
      "  [ 41  27  87]\n",
      "  [102 225  65]\n",
      "  [170   0 238]]\n",
      "\n",
      " [[169 170 213]\n",
      "  [159  44 250]\n",
      "  [224 206  61]\n",
      "  ...\n",
      "  [162 118  77]\n",
      "  [228  67  21]\n",
      "  [ 68  30  64]]\n",
      "\n",
      " [[237  26 118]\n",
      "  [ 62 157 198]\n",
      "  [  1 151  37]\n",
      "  ...\n",
      "  [218 189  51]\n",
      "  [193 250 243]\n",
      "  [235  34 180]]\n",
      "\n",
      " ...\n",
      "\n",
      " [[116 102 228]\n",
      "  [ 29  75  71]\n",
      "  [156 133  53]\n",
      "  ...\n",
      "  [ 93  45  68]\n",
      "  [124 238  76]\n",
      "  [184 185 202]]\n",
      "\n",
      " [[216 202 116]\n",
      "  [146 168 132]\n",
      "  [236  80  45]\n",
      "  ...\n",
      "  [169 145 212]\n",
      "  [123  50  70]\n",
      "  [ 11  43  62]]\n",
      "\n",
      " [[ 32  52  65]\n",
      "  [155   2  86]\n",
      "  [ 83 240  27]\n",
      "  ...\n",
      "  [ 30  57 175]\n",
      "  [ 72  83 171]\n",
      "  [ 40 114 195]]]\n"
     ]
    }
   ],
   "source": [
    "#Exercise 5\n",
    "\"\"\"\n",
    "Using NumPy create a 3-dimensional array called image with shape (200, 300, 3) \n",
    "filled with random values from 0 to 255 (inclusive) and data type np.uint8. Set random seed to 42.\n",
    "\"\"\"\n",
    "import numpy as np\n",
    "\n",
    "np.random.seed(42)\n",
    "image = np.random.randint(\n",
    "    low = 0,\n",
    "    high = 256,\n",
    "    size = (200,300,3),\n",
    "    dtype = np.uint8\n",
    "\n",
    ")\n",
    "print(image)\n"
   ]
  },
  {
   "cell_type": "code",
   "execution_count": 557,
   "id": "61b86962",
   "metadata": {},
   "outputs": [
    {
     "name": "stdout",
     "output_type": "stream",
     "text": [
      "[[145  30 244 ...  99  82 179]\n",
      " [ 66  67 127 ... 167  42  53]\n",
      " [ 60  72  97 ... 123  60 198]\n",
      " ...\n",
      " [120 118 134 ... 226   9 168]\n",
      " [238  13 243 ... 168 115   2]\n",
      " [162 201  77 ... 106 167 241]]\n"
     ]
    }
   ],
   "source": [
    "#Exercise 6\n",
    "\"\"\"\n",
    "Using NumPy create a 2-dimensional array with shape of (200, 300) \n",
    "filled with random values from 0 to 255 (inclusive) with data type np.uint8 \n",
    "and assign to the variable image.\n",
    "\"\"\"\n",
    "import numpy as np\n",
    "\n",
    "image = np.random.randint(\n",
    "    low = 0,\n",
    "    high = 256,\n",
    "    size = (200,300),\n",
    "    dtype = np.uint8\n",
    ")\n",
    "\n",
    "print(image)"
   ]
  },
  {
   "cell_type": "markdown",
   "id": "12b00bdf",
   "metadata": {},
   "source": [
    "***SECTION 16 - COMPARING ARRAYS & BROADCASTING***"
   ]
  },
  {
   "cell_type": "code",
   "execution_count": 5,
   "id": "2b332728",
   "metadata": {},
   "outputs": [
    {
     "name": "stdout",
     "output_type": "stream",
     "text": [
      "True\n"
     ]
    }
   ],
   "source": [
    "#Exercise 1\n",
    "\"\"\"\n",
    "Check if the following arrays are equal (element-wise):\n",
    "\"\"\"\n",
    "import numpy as np\n",
    "\n",
    "\n",
    "A = np.array([0.4, 0.5, 0.3])\n",
    "B = np.array([0.39999999, 0.5000001, 0.3])\n",
    "\n",
    "equal = np.allclose(A,B) #Returns True if two arrays are element-wise equal within a tolerance.\n",
    "print(equal)"
   ]
  },
  {
   "cell_type": "code",
   "execution_count": 7,
   "id": "4ebb1840",
   "metadata": {},
   "outputs": [
    {
     "name": "stdout",
     "output_type": "stream",
     "text": [
      "[False False  True]\n"
     ]
    }
   ],
   "source": [
    "#Exercise 2\n",
    "\"\"\"\n",
    "Check if the following arrays are equal (element-wise):\n",
    "\"\"\"\n",
    "import numpy as np\n",
    "\n",
    "\n",
    "A = np.array([0.4, 0.5, 0.3])\n",
    "B = np.array([0.3999999999, 0.5000000001, 0.3])\n",
    "\n",
    "result = A == B\n",
    "print(result)"
   ]
  },
  {
   "cell_type": "code",
   "execution_count": 8,
   "id": "95452179",
   "metadata": {},
   "outputs": [
    {
     "name": "stdout",
     "output_type": "stream",
     "text": [
      "[ True False False False]\n"
     ]
    }
   ],
   "source": [
    "#Exercise 3\n",
    "\"\"\"\n",
    "Check which numbers (element-wise) from the A array are greater than numbers from the B array and print \n",
    "the result to the console as shown below.\n",
    "\"\"\"\n",
    "import numpy as np\n",
    "\n",
    "\n",
    "A = np.array([0.4, 0.5, 0.3, 0.9])\n",
    "B = np.array([0.38, 0.51, 0.3, 0.91])\n",
    "\n",
    "result = A > B\n",
    "#result = np.greater(A,B)\n",
    "print(result)"
   ]
  },
  {
   "cell_type": "code",
   "execution_count": 15,
   "id": "47d08fe0",
   "metadata": {},
   "outputs": [
    {
     "name": "stdout",
     "output_type": "stream",
     "text": [
      "[[ 0.9399535 ]\n",
      " [ 0.25192541]\n",
      " [ 0.41359691]\n",
      " [-2.28720152]\n",
      " [-1.0287722 ]\n",
      " [ 0.61575668]\n",
      " [ 0.99552974]\n",
      " [-0.92242065]\n",
      " [ 0.55915723]\n",
      " [ 0.46247486]]\n"
     ]
    },
    {
     "data": {
      "text/plain": [
       "'\\nresult = arr - np.mean(arr, axis=0)\\nprint(result)\\n'"
      ]
     },
     "execution_count": 15,
     "metadata": {},
     "output_type": "execute_result"
    }
   ],
   "source": [
    "#Exercise 4\n",
    "\"\"\"\n",
    "Calculate the average of the given column and then subtract it from the entire column.\n",
    "In response, print the result to the console\n",
    "\"\"\"\n",
    "\n",
    "import numpy as np\n",
    "\n",
    "np.random.seed(20)\n",
    "arr = np.array(\n",
    "    [\n",
    "        [0.88389311],\n",
    "        [0.19586502],\n",
    "        [0.35753652],\n",
    "        [-2.34326191],\n",
    "        [-1.08483259],\n",
    "        [0.55969629],\n",
    "        [0.93946935],\n",
    "        [-0.97848104],\n",
    "        [0.50309684],\n",
    "        [0.40641447],\n",
    "    ]\n",
    ")\n",
    "new_arr = []\n",
    "result = np.mean(arr)\n",
    "for row in arr:\n",
    "    for element in row:\n",
    "        operation = element - result\n",
    "        new_arr.append(operation)\n",
    "\n",
    "new_arr = np.asarray(new_arr).reshape(10,1)\n",
    "print(new_arr)\n",
    "#Another way\n",
    "\"\"\"\n",
    "result = arr - np.mean(arr, axis=0)\n",
    "print(result)\n",
    "\"\"\""
   ]
  },
  {
   "cell_type": "code",
   "execution_count": 19,
   "id": "77f7fa21",
   "metadata": {},
   "outputs": [
    {
     "name": "stdout",
     "output_type": "stream",
     "text": [
      "[[ 0.81962558  0.49493548  0.26629952 -1.93044173]\n",
      " [-1.14910012  0.85876675  0.84823235 -0.56566086]\n",
      " [ 0.43882931  0.70548493  0.23222401 -0.0805907 ]\n",
      " [-0.85628432 -0.54329747 -1.37073966  0.65853535]\n",
      " [-0.10846233  1.86670301  0.95987168  0.81918861]\n",
      " [-0.23291363 -2.89063233  1.02889526  1.74559839]\n",
      " [-0.3076063   0.16903975 -0.20025437  1.96900662]\n",
      " [ 0.06451082 -1.76787826 -0.97673015 -0.6917593 ]\n",
      " [ 0.86859882  2.35890846 -1.02617496 -1.20017004]\n",
      " [ 0.46280219 -1.25203028  0.23837634 -0.72370636]]\n"
     ]
    },
    {
     "data": {
      "text/plain": [
       "''"
      ]
     },
     "execution_count": 19,
     "metadata": {},
     "output_type": "execute_result"
    }
   ],
   "source": [
    "#Exercise 5\n",
    "\"\"\"\n",
    "Calculate the mean values for columns and then subtract them from the original array. \n",
    "In response, print the result to the console.\n",
    "\"\"\"\n",
    "import numpy as np\n",
    "\n",
    "np.random.seed(20)\n",
    "arr = np.array(\n",
    "    [\n",
    "        [0.88389311, 0.19586502, 0.35753652, -2.34326191],\n",
    "        [-1.08483259, 0.55969629, 0.93946935, -0.97848104],\n",
    "        [0.50309684, 0.40641447, 0.32346101, -0.49341088],\n",
    "        [-0.79201679, -0.84236793, -1.27950266, 0.24571517],\n",
    "        [-0.0441948, 1.56763255, 1.05110868, 0.40636843],\n",
    "        [-0.1686461, -3.18970279, 1.12013226, 1.33277821],\n",
    "        [-0.24333877, -0.13003071, -0.10901737, 1.55618644],\n",
    "        [0.12877835, -2.06694872, -0.88549315, -1.10457948],\n",
    "        [0.93286635, 2.059838, -0.93493796, -1.61299022],\n",
    "        [0.52706972, -1.55110074, 0.32961334, -1.13652654],\n",
    "    ]\n",
    ")\n",
    "\n",
    "new_arr = arr.copy()\n",
    "mean = np.mean(arr, axis = 0)\n",
    "result = new_arr - mean\n",
    "print(result)\n",
    "\"\"\"\n",
    "Another way\n",
    "result = arr - np.mean(arr, axis=0)\n",
    "print(result)\n",
    "\"\"\""
   ]
  },
  {
   "cell_type": "markdown",
   "id": "4f1126e9",
   "metadata": {},
   "source": [
    "***SECTION 17 - SAVING, LOADING & EXPORTING***"
   ]
  },
  {
   "cell_type": "code",
   "execution_count": 32,
   "id": "37d33951",
   "metadata": {},
   "outputs": [
    {
     "name": "stdout",
     "output_type": "stream",
     "text": [
      "[[ 0  1  2  3]\n",
      " [ 4  5  6  7]\n",
      " [ 8  9 10 11]]\n"
     ]
    }
   ],
   "source": [
    "#Exercise 1\n",
    "\"\"\"\n",
    "Save this array to a binary file named 'array.npy' and then load that file back into another variable.\n",
    "In response, print this variable to the console.\n",
    "\n",
    "Tip: Use the np.save() and np.load() functions.\n",
    "\"\"\"\n",
    "import numpy as np\n",
    "\n",
    "arr = np.arange(0,12).reshape(3,4)\n",
    "save = np.save('array.npy', arr)\n",
    "load = np.load('array.npy')\n",
    "print(load)\n"
   ]
  },
  {
   "cell_type": "code",
   "execution_count": 39,
   "id": "49de1862",
   "metadata": {},
   "outputs": [
    {
     "name": "stdout",
     "output_type": "stream",
     "text": [
      "[[ 0.  1.  2.  3.]\n",
      " [ 4.  5.  6.  7.]\n",
      " [ 8.  9. 10. 11.]]\n"
     ]
    }
   ],
   "source": [
    "#Exercise 2\n",
    "\"\"\"\n",
    "Save this array to a text file named 'array.txt' with two decimal places and then load \n",
    "this file back into another variable. In response, print this variable to the console.\n",
    "\"\"\"\n",
    "import numpy as np\n",
    "\n",
    "arr = np.arange(12, dtype = 'float32').reshape(3,4)\n",
    "#np.savetxt(fname='array.txt', X=arr, fmt='%0.2f')\n",
    "np.savetxt('array.txt', arr, fmt='%0.1f')\n",
    "load = np.loadtxt('array.txt')\n",
    "print(load)"
   ]
  },
  {
   "cell_type": "code",
   "execution_count": 57,
   "id": "5b940737",
   "metadata": {},
   "outputs": [
    {
     "name": "stdout",
     "output_type": "stream",
     "text": [
      "[[0, 1, 2, 3], [4, 5, 6, 7], [8, 9, 10, 11]]\n"
     ]
    }
   ],
   "source": [
    "#Exercise 3\n",
    "\"\"\"\n",
    "In response, print this list to the console.\n",
    "\"\"\"\n",
    "import numpy as np\n",
    "\n",
    "arr = np.arange(12).reshape(3,4)\n",
    "arr = arr.tolist()\n",
    "print(arr)"
   ]
  },
  {
   "cell_type": "code",
   "execution_count": 154,
   "id": "d19a1515",
   "metadata": {},
   "outputs": [
    {
     "name": "stdout",
     "output_type": "stream",
     "text": [
      "[[[0.  0.  0. ]\n",
      "  [2.  2.  4. ]\n",
      "  [0.5 0.  0. ]\n",
      "  [1.  3.  0. ]]\n",
      "\n",
      " [[0.  0.  0. ]\n",
      "  [0.5 0.4 0. ]\n",
      "  [0.  0.  1. ]\n",
      "  [0.2 5.  0. ]]]\n"
     ]
    }
   ],
   "source": [
    "#Exercise 4\n",
    "\"\"\"\n",
    "You want to export this array to csv files. Please follow the steps below:\n",
    "-export the first internal array to a file named arr1.csv\n",
    "-export the second internal array to a file named arr2.csv\n",
    "Then, load these files into the new arrays arr1 and arr2, transpose them and create a new array like this:\n",
    "array([[[0. , 0. , 0. ],\n",
    "        [2. , 2. , 4. ],\n",
    "        [0.5, 0. , 0. ],\n",
    "        [1. , 3. , 0. ]],\n",
    " \n",
    "       [[0. , 0. , 0. ],\n",
    "        [0.5, 0.4, 0. ],\n",
    "        [0. , 0. , 1. ],\n",
    "        [0.2, 5. , 0. ]]])\n",
    "In response, print this array to the console.\n",
    "\"\"\"\n",
    "import numpy as np\n",
    "\n",
    "arr = np.array(\n",
    "    [\n",
    "        [\n",
    "            [0.0, 2.0, 0.5, 1.0],\n",
    "            [0.0, 2.0, 0.0, 3.0],\n",
    "            [0.0, 4.0, 0.0, 0.0],\n",
    "        ],\n",
    "        [\n",
    "            [0.0, 0.5, 0.0, 0.2],\n",
    "            [0.0, 0.4, 0.0, 5.0],\n",
    "            [0.0, 0.0, 1.0, 0.0],\n",
    "        ],\n",
    "    ]\n",
    ")\n",
    "\n",
    "arr1 = arr[0]\n",
    "arr2 = arr[1]\n",
    "\n",
    "np.savetxt('arr1.csv', arr1)\n",
    "np.savetxt('arr2.csv', arr2)\n",
    "\n",
    "load1 = np.loadtxt('arr1.csv')\n",
    "load2 = np.loadtxt('arr2.csv')\n",
    "\n",
    "new_arrays = np.array((load1.T, load2.T)).reshape(2,4,3)\n",
    "print(new_arrays)\n",
    "\n",
    "\"\"\"\n",
    "Another way:\n",
    "\n",
    "np.savetxt('arr1.csv', arr[0, :, :], delimiter=',')\n",
    "np.savetxt('arr2.csv', arr[1, :, :], delimiter=',')\n",
    " \n",
    "arr1 = np.loadtxt('arr1.csv', delimiter=',')\n",
    "arr2 = np.loadtxt('arr2.csv', delimiter=',')\n",
    " \n",
    "    result = np.c_[[arr1.T, arr2.T]] - LOOK AT\n",
    " \n",
    "print(result)\n",
    "\"\"\""
   ]
  },
  {
   "cell_type": "code",
   "execution_count": 156,
   "id": "0c125504",
   "metadata": {},
   "outputs": [
    {
     "ename": "FileNotFoundError",
     "evalue": "[Errno 2] No such file or directory: 'stocks.txt'",
     "output_type": "error",
     "traceback": [
      "\u001b[1;31m---------------------------------------------------------------------------\u001b[0m",
      "\u001b[1;31mFileNotFoundError\u001b[0m                         Traceback (most recent call last)",
      "Cell \u001b[1;32mIn[156], line 14\u001b[0m\n\u001b[0;32m      2\u001b[0m \u001b[38;5;124;03m\"\"\"\u001b[39;00m\n\u001b[0;32m      3\u001b[0m \u001b[38;5;124;03mA text file called stocks.txt containing stock data is included with this exercise (tab delimited file).\u001b[39;00m\n\u001b[0;32m      4\u001b[0m \u001b[38;5;124;03mColumns mean:\u001b[39;00m\n\u001b[1;32m   (...)\u001b[0m\n\u001b[0;32m      9\u001b[0m \u001b[38;5;124;03mit to the console.\u001b[39;00m\n\u001b[0;32m     10\u001b[0m \u001b[38;5;124;03m\"\"\"\u001b[39;00m\n\u001b[0;32m     11\u001b[0m \u001b[38;5;28;01mimport\u001b[39;00m \u001b[38;5;21;01mnumpy\u001b[39;00m \u001b[38;5;28;01mas\u001b[39;00m \u001b[38;5;21;01mnp\u001b[39;00m\n\u001b[1;32m---> 14\u001b[0m \u001b[38;5;28;01mwith\u001b[39;00m \u001b[38;5;28;43mopen\u001b[39;49m\u001b[43m(\u001b[49m\u001b[38;5;124;43m'\u001b[39;49m\u001b[38;5;124;43mstocks.txt\u001b[39;49m\u001b[38;5;124;43m'\u001b[39;49m\u001b[43m,\u001b[49m\u001b[43m \u001b[49m\u001b[38;5;124;43m'\u001b[39;49m\u001b[38;5;124;43mr\u001b[39;49m\u001b[38;5;124;43m'\u001b[39;49m\u001b[43m)\u001b[49m \u001b[38;5;28;01mas\u001b[39;00m file:\n\u001b[0;32m     15\u001b[0m     text \u001b[38;5;241m=\u001b[39m file\u001b[38;5;241m.\u001b[39mread()\n\u001b[0;32m     17\u001b[0m lines \u001b[38;5;241m=\u001b[39m text\u001b[38;5;241m.\u001b[39msplitlines()\n",
      "File \u001b[1;32m~\\anaconda3\\lib\\site-packages\\IPython\\core\\interactiveshell.py:284\u001b[0m, in \u001b[0;36m_modified_open\u001b[1;34m(file, *args, **kwargs)\u001b[0m\n\u001b[0;32m    277\u001b[0m \u001b[38;5;28;01mif\u001b[39;00m file \u001b[38;5;129;01min\u001b[39;00m {\u001b[38;5;241m0\u001b[39m, \u001b[38;5;241m1\u001b[39m, \u001b[38;5;241m2\u001b[39m}:\n\u001b[0;32m    278\u001b[0m     \u001b[38;5;28;01mraise\u001b[39;00m \u001b[38;5;167;01mValueError\u001b[39;00m(\n\u001b[0;32m    279\u001b[0m         \u001b[38;5;124mf\u001b[39m\u001b[38;5;124m\"\u001b[39m\u001b[38;5;124mIPython won\u001b[39m\u001b[38;5;124m'\u001b[39m\u001b[38;5;124mt let you open fd=\u001b[39m\u001b[38;5;132;01m{\u001b[39;00mfile\u001b[38;5;132;01m}\u001b[39;00m\u001b[38;5;124m by default \u001b[39m\u001b[38;5;124m\"\u001b[39m\n\u001b[0;32m    280\u001b[0m         \u001b[38;5;124m\"\u001b[39m\u001b[38;5;124mas it is likely to crash IPython. If you know what you are doing, \u001b[39m\u001b[38;5;124m\"\u001b[39m\n\u001b[0;32m    281\u001b[0m         \u001b[38;5;124m\"\u001b[39m\u001b[38;5;124myou can use builtins\u001b[39m\u001b[38;5;124m'\u001b[39m\u001b[38;5;124m open.\u001b[39m\u001b[38;5;124m\"\u001b[39m\n\u001b[0;32m    282\u001b[0m     )\n\u001b[1;32m--> 284\u001b[0m \u001b[38;5;28;01mreturn\u001b[39;00m io_open(file, \u001b[38;5;241m*\u001b[39margs, \u001b[38;5;241m*\u001b[39m\u001b[38;5;241m*\u001b[39mkwargs)\n",
      "\u001b[1;31mFileNotFoundError\u001b[0m: [Errno 2] No such file or directory: 'stocks.txt'"
     ]
    }
   ],
   "source": [
    "#Exercise 5\n",
    "\"\"\"\n",
    "A text file called stocks.txt containing stock data is included with this exercise (tab delimited file).\n",
    "Columns mean:\n",
    "Instrument | ISIN code | Package | Package (PLN) | Share in portfolio (%) | \n",
    "Share in trading shares and PDAs per session (%) | Average spread per session\n",
    "Split text into lines. Then split each line by the tab character \\t and create an array (without headers)\n",
    "containing the following data as shown below.Assign this array to the result variable and print \n",
    "it to the console.\n",
    "\"\"\"\n",
    "import numpy as np\n",
    "\n",
    "\n",
    "with open('stocks.txt', 'r') as file:\n",
    "    text = file.read()\n",
    "\n",
    "lines = text.splitlines()\n",
    "lines = [line.split('\\t') for line in lines]\n",
    "result = np.array(lines, dtype=str)\n",
    " \n",
    "print(result)"
   ]
  },
  {
   "cell_type": "code",
   "execution_count": 183,
   "id": "9472b0eb",
   "metadata": {},
   "outputs": [
    {
     "name": "stdout",
     "output_type": "stream",
     "text": [
      "[['Profile' 'Time' 'Course' 'Open' 'Low' 'High' 'Turn' 'Share']\n",
      " ['11B(11BIT)' '17kwi17:01' '391.00' '383.50' '383.00' '394.00' '4994874' '19.034%']\n",
      " ['CDR(CDPROJEKT)' '17kwi17:01' '339.50' '338.30' '337.00' '344.20' '79245368' '39.618%']\n",
      " ['CIG(CIGAMES)' '17kwi17:03' '0.742' '0.772' '0.730' '0.772' '971459' '1.855%']\n",
      " ['PLW(PLAYWAY)' '17kwi17:03' '387.50' '374.00' '373.00' '388.00' '12661786' '10.638%']\n",
      " ['TEN(TSGAMES)' '17kwi17:02' '349.50' '332.00' '330.00' '353.50' '13697060' '28.855%']]\n"
     ]
    }
   ],
   "source": [
    "#Exercise 6\n",
    "\"\"\"\n",
    "Save this array to the 'wig_games.csv' file. \n",
    "Then load the content of this file into the wig_games_new variable and print it to the console.\n",
    "\"\"\"\n",
    "import numpy as np\n",
    "\n",
    "np.set_printoptions(linewidth=160, suppress=True)\n",
    "\n",
    "wig_games = np.array(\n",
    "    [\n",
    "        [\n",
    "            'Profile',\n",
    "            'Time',\n",
    "            'Course',\n",
    "            'Open',\n",
    "            'Low',\n",
    "            'High',\n",
    "            'Turn',\n",
    "            'Share',\n",
    "        ],\n",
    "        [\n",
    "            '11B(11BIT)',\n",
    "            '17kwi17:01',\n",
    "            '391.00',\n",
    "            '383.50',\n",
    "            '383.00',\n",
    "            '394.00',\n",
    "            '4994874',\n",
    "            '19.034%',\n",
    "        ],\n",
    "        [\n",
    "            'CDR(CDPROJEKT)',\n",
    "            '17kwi17:01',\n",
    "            '339.50',\n",
    "            '338.30',\n",
    "            '337.00',\n",
    "            '344.20',\n",
    "            '79245368',\n",
    "            '39.618%',\n",
    "        ],\n",
    "        [\n",
    "            'CIG(CIGAMES)',\n",
    "            '17kwi17:03',\n",
    "            '0.742',\n",
    "            '0.772',\n",
    "            '0.730',\n",
    "            '0.772',\n",
    "            '971459',\n",
    "            '1.855%',\n",
    "        ],\n",
    "        [\n",
    "            'PLW(PLAYWAY)',\n",
    "            '17kwi17:03',\n",
    "            '387.50',\n",
    "            '374.00',\n",
    "            '373.00',\n",
    "            '388.00',\n",
    "            '12661786',\n",
    "            '10.638%',\n",
    "        ],\n",
    "        [\n",
    "            'TEN(TSGAMES)',\n",
    "            '17kwi17:02',\n",
    "            '349.50',\n",
    "            '332.00',\n",
    "            '330.00',\n",
    "            '353.50',\n",
    "            '13697060',\n",
    "            '28.855%',\n",
    "        ],\n",
    "    ],\n",
    "    dtype='<U14',\n",
    ")\n",
    "\n",
    "np.savetxt('wig_games.csv', wig_games, fmt='%s')\n",
    "wig_games_new = np.genfromtxt('wig_games.csv', dtype='str')\n",
    "#wig_games_new = np.loadtxt('wig_games.csv', delimiter=',', dtype='str')\n",
    "print(wig_games_new)\n",
    "\"\"\"\n",
    "Another way:\n",
    "np.savetxt(fname='wig_games.csv', X=wig_games, fmt='%s', delimiter=',')\n",
    " \n",
    "wig_games_new = np.loadtxt(\n",
    "    fname='wig_games.csv', \n",
    "    delimiter=',', \n",
    "    dtype=str\n",
    ")\n",
    " \n",
    "print(wig_games_new)\n",
    "\"\"\""
   ]
  },
  {
   "cell_type": "markdown",
   "id": "977ed4b4",
   "metadata": {},
   "source": [
    "***TEST 1***\n"
   ]
  },
  {
   "cell_type": "code",
   "execution_count": 187,
   "id": "916c7ae8",
   "metadata": {},
   "outputs": [
    {
     "name": "stdout",
     "output_type": "stream",
     "text": [
      "float64\n"
     ]
    }
   ],
   "source": [
    "#Question 1\n",
    "import numpy as np\n",
    "arr = np.ndarray((2,4))\n",
    "print(arr.dtype)"
   ]
  },
  {
   "cell_type": "code",
   "execution_count": 188,
   "id": "2343561d",
   "metadata": {},
   "outputs": [
    {
     "name": "stdout",
     "output_type": "stream",
     "text": [
      "<class 'numpy.ndarray'>\n"
     ]
    }
   ],
   "source": [
    "#Question 2\n",
    "import numpy as np\n",
    " \n",
    " \n",
    "arr = np.array(\n",
    "    [\n",
    "        [[0.0, 2.0, 0.5, 1.0], [0.0, 2.0, 0.0, 3.0], [0.0, 4.0, 0.0, 0.0]],\n",
    "        [[0.0, 0.5, 0.0, 0.2], [0.0, 0.4, 0.0, 5.0], [0.0, 0.0, 1.0, 0.0]],\n",
    "    ],\n",
    "    dtype='float32',\n",
    ")\n",
    "print(type(arr))"
   ]
  },
  {
   "cell_type": "code",
   "execution_count": 191,
   "id": "ed997cd2",
   "metadata": {},
   "outputs": [
    {
     "name": "stdout",
     "output_type": "stream",
     "text": [
      "16\n",
      "8\n",
      "16\n",
      "32\n"
     ]
    }
   ],
   "source": [
    "#Question 3\n",
    "\n",
    "arr1 = np.array([[3, 4], [7, 2]], dtype='float32')\n",
    "arr2 = np.array([[3, 4], [7, 2]], dtype='float16')\n",
    "arr3 = np.array([[3, 4], [7, 2]], dtype='int32')\n",
    "arr4 = np.array([[3, 4], [7, 2]], dtype='int64')\n",
    "\n",
    "print(arr1.nbytes)\n",
    "print(arr2.nbytes)\n",
    "print(arr3.nbytes)\n",
    "print(arr4.nbytes)"
   ]
  },
  {
   "cell_type": "code",
   "execution_count": 192,
   "id": "a82c5c35",
   "metadata": {},
   "outputs": [
    {
     "name": "stdout",
     "output_type": "stream",
     "text": [
      "[10 20 30 40 50 60 70 80 90]\n"
     ]
    }
   ],
   "source": [
    "#Question 4\n",
    "import numpy as np\n",
    " \n",
    " \n",
    "arr = np.arange(10, 100, 10)\n",
    "print(arr)"
   ]
  },
  {
   "cell_type": "code",
   "execution_count": 197,
   "id": "36c49f32",
   "metadata": {},
   "outputs": [
    {
     "data": {
      "text/plain": [
       "array([[1, 3, 5, 7, 9],\n",
       "       [1, 3, 5, 7, 9],\n",
       "       [1, 3, 5, 7, 9],\n",
       "       [1, 3, 5, 7, 9]])"
      ]
     },
     "execution_count": 197,
     "metadata": {},
     "output_type": "execute_result"
    }
   ],
   "source": [
    "np.tile(np.arange(1, 10, 2), (4,1))"
   ]
  },
  {
   "cell_type": "code",
   "execution_count": 200,
   "id": "319d0ab1",
   "metadata": {},
   "outputs": [
    {
     "data": {
      "text/plain": [
       "array([[1, 0, 0, 0, 0],\n",
       "       [0, 1, 0, 0, 0],\n",
       "       [0, 0, 1, 0, 0],\n",
       "       [0, 0, 0, 1, 0],\n",
       "       [0, 0, 0, 0, 1]])"
      ]
     },
     "execution_count": 200,
     "metadata": {},
     "output_type": "execute_result"
    }
   ],
   "source": [
    "np.identity(5, dtype = int)"
   ]
  },
  {
   "cell_type": "code",
   "execution_count": 204,
   "id": "c1ae40a3",
   "metadata": {},
   "outputs": [
    {
     "data": {
      "text/plain": [
       "array([1, 1, 1, 1, 1])"
      ]
     },
     "execution_count": 204,
     "metadata": {},
     "output_type": "execute_result"
    }
   ],
   "source": [
    "np.full(5, dtype = int, fill_value=1)"
   ]
  },
  {
   "cell_type": "code",
   "execution_count": 206,
   "id": "58f27863",
   "metadata": {},
   "outputs": [
    {
     "data": {
      "text/plain": [
       "array([[4, 5, 2],\n",
       "       [1, 2, 9]])"
      ]
     },
     "execution_count": 206,
     "metadata": {},
     "output_type": "execute_result"
    }
   ],
   "source": [
    "arr = np.array([[[[4, 5, 2], [1, 2, 9]]]])\n",
    "np.squeeze(arr)"
   ]
  },
  {
   "cell_type": "code",
   "execution_count": 210,
   "id": "82415308",
   "metadata": {},
   "outputs": [
    {
     "name": "stdout",
     "output_type": "stream",
     "text": [
      "[[0.30224637]\n",
      " [0.69760684]\n",
      " [0.82154367]\n",
      " [0.17941131]\n",
      " [0.24180981]\n",
      " [0.69613793]]\n"
     ]
    }
   ],
   "source": [
    "arr = np.array(\n",
    "    [\n",
    "        [0.82099623, 0.18434514, 0.07869875, 0.30224637],\n",
    "        [0.41717424, 0.99255052, 0.52972868, 0.69760684],\n",
    "        [0.09067095, 0.49947004, 0.12569393, 0.82154367],\n",
    "        [0.76099946, 0.98516906, 0.050164, 0.17941131],\n",
    "        [0.63094448, 0.55696111, 0.50296981, 0.24180981],\n",
    "        [0.56905011, 0.86905967, 0.96313547, 0.69613793],\n",
    "    ]\n",
    ")\n",
    "\n",
    "print(arr[:, 3:4])"
   ]
  },
  {
   "cell_type": "markdown",
   "id": "f3fa2c59",
   "metadata": {},
   "source": [
    "***SECTION 19 - APPENDING, CONCATENATING & STACKING***"
   ]
  },
  {
   "cell_type": "code",
   "execution_count": 211,
   "id": "0ac4ff30",
   "metadata": {},
   "outputs": [
    {
     "name": "stdout",
     "output_type": "stream",
     "text": [
      "[[ 0  1  2  3]\n",
      " [ 4  5  6  7]\n",
      " [ 8  9 10 11]\n",
      " [ 4  3  7  2]\n",
      " [ 0  5  2  6]]\n"
     ]
    }
   ],
   "source": [
    "#Exercise 1\n",
    "\"\"\"\n",
    "Combine the following NumPy arrays into one as shown below and print it to the console.\n",
    "\"\"\"\n",
    "import numpy as np\n",
    "\n",
    "\n",
    "arr1 = np.arange(12).reshape(-1, 4)\n",
    "arr2 = np.array([[4, 3, 7, 2], [0, 5, 2, 6]])\n",
    "\n",
    "arr = np.concatenate((arr1,arr2))\n",
    "#result = np.append(arr1, arr2, axis=0)\n",
    "print(arr)"
   ]
  },
  {
   "cell_type": "code",
   "execution_count": 213,
   "id": "50691ab0",
   "metadata": {},
   "outputs": [
    {
     "name": "stdout",
     "output_type": "stream",
     "text": [
      "[[3 4 5]\n",
      " [8 3 1]\n",
      " [0 5 2]\n",
      " [4 2 1]]\n"
     ]
    }
   ],
   "source": [
    "#Exercise 2\n",
    "\"\"\"\n",
    "Concatenate these arrays as follows:\n",
    "\"\"\"\n",
    "import numpy as np\n",
    "\n",
    "A = np.array([[3, 4, 5], [8, 3, 1]])\n",
    "B = np.array([[0, 5, 2], [4, 2, 1]])\n",
    "\n",
    "arr = np.concatenate((A,B))\n",
    "print(arr)\n"
   ]
  },
  {
   "cell_type": "code",
   "execution_count": 214,
   "id": "1c9895e0",
   "metadata": {},
   "outputs": [
    {
     "name": "stdout",
     "output_type": "stream",
     "text": [
      "[[4.3 4.2 0. ]\n",
      " [3.1 3.6 1. ]]\n"
     ]
    }
   ],
   "source": [
    "#Exercise 3\n",
    "import numpy as np\n",
    "\n",
    "\n",
    "data = np.array([[4.3, 4.2], [3.1, 3.6]])\n",
    "target = np.array([[0], [1]])\n",
    "\n",
    "arr = np.concatenate((data,target), axis = 1)\n",
    "print(arr)\n"
   ]
  },
  {
   "cell_type": "code",
   "execution_count": 220,
   "id": "dde39829",
   "metadata": {},
   "outputs": [
    {
     "name": "stdout",
     "output_type": "stream",
     "text": [
      "[[1.6 0.4 1.4]\n",
      " [0.9 1.3 0.3]\n",
      " [2.2 3.2 1.2]]\n"
     ]
    }
   ],
   "source": [
    "#Exercise 4\n",
    "\"\"\"\n",
    "Transform each of these arrays into a column and concatenate them into one array as shown below. \n",
    "In response, print the result to the console.\n",
    "\"\"\"\n",
    "import numpy as np\n",
    "\n",
    "feature1 = np.array([1.6, 0.9, 2.2])\n",
    "feature2 = np.array([0.4, 1.3, 3.2])\n",
    "feature3 = np.array([1.4, 0.3, 1.2])\n",
    "\n",
    "arr = np.column_stack((feature1,feature2,feature3))\n",
    "print(arr)"
   ]
  },
  {
   "cell_type": "code",
   "execution_count": 234,
   "id": "5f502958",
   "metadata": {},
   "outputs": [
    {
     "name": "stdout",
     "output_type": "stream",
     "text": [
      "[[0 1 5 7]\n",
      " [8 9 2 5]\n",
      " [3 4 6 7]]\n"
     ]
    }
   ],
   "source": [
    "#Exercise 5\n",
    "\"\"\"\n",
    "Add a third row to this array with the values 3, 4, 6, 7 as follows:\n",
    "\"\"\"\n",
    "import numpy as np\n",
    "\n",
    "arr = np.array(\n",
    "    [\n",
    "        [0, 1, 5, 7],\n",
    "        [8, 9, 2, 5],\n",
    "    ]\n",
    ")\n",
    "column = np.array([[3,4,6,7]])\n",
    "new_arr = np.concatenate((arr,column))\n",
    "print(new_arr)"
   ]
  },
  {
   "cell_type": "code",
   "execution_count": 243,
   "id": "07f4d1d7",
   "metadata": {},
   "outputs": [
    {
     "name": "stdout",
     "output_type": "stream",
     "text": [
      "[nan nan  1.  0.  2.  9.  2.  6.  4.]\n"
     ]
    }
   ],
   "source": [
    "#Exercise 6\n",
    "\"\"\"\n",
    "Write a function called shift() that takes two arguments:\n",
    "-arr - a 1D NumPy array\n",
    "-n - an integer, shift\n",
    "and shifts the array elements by n.\n",
    "\"\"\"\n",
    "import numpy as np\n",
    " \n",
    "def shift(arr, n):\n",
    "    if n == 0:\n",
    "        return arr\n",
    "    elif n >= 0:\n",
    "        return np.concatenate(\n",
    "            (np.full(n, np.nan, dtype=arr.dtype), arr[:-n])\n",
    "        )\n",
    "    else:\n",
    "        return np.concatenate(\n",
    "            (arr[-n:], np.full(-n, np.nan, dtype=arr.dtype))\n",
    "        )\n",
    "arr = np.array([1., 0., 2., 9., 2., 6., 4., 7., 6.], dtype='float32')\n",
    "print(shift(arr, 2))"
   ]
  },
  {
   "cell_type": "code",
   "execution_count": 259,
   "id": "71feb2db",
   "metadata": {},
   "outputs": [
    {
     "name": "stdout",
     "output_type": "stream",
     "text": [
      "[nan nan  1.  0.  2.  9.  2.  6.  4.]\n"
     ]
    }
   ],
   "source": [
    "arr = np.array([1., 0., 2., 9., 2., 6., 4., 7., 6.], dtype='float32')\n",
    "arr = np.concatenate((np.full(2, np.nan, dtype=arr.dtype), arr[:-2]))\n",
    "print(arr)"
   ]
  },
  {
   "cell_type": "markdown",
   "id": "dcdba691",
   "metadata": {},
   "source": [
    "***SECTION 20 - APPENDING, CONCATENATING & STACKING***"
   ]
  },
  {
   "cell_type": "code",
   "execution_count": 284,
   "id": "0f1546e9",
   "metadata": {},
   "outputs": [
    {
     "name": "stdout",
     "output_type": "stream",
     "text": [
      "[[ 0  1  5  7 56]\n",
      " [ 6  2  6  2 65]\n",
      " [ 3  4  6  7 79]]\n"
     ]
    }
   ],
   "source": [
    "#Exercise 1\n",
    "import numpy as np\n",
    "\n",
    "A = np.array([0, 1, 5, 7])\n",
    "B = np.array([[6, 2, 6, 2], [3, 4, 6, 7]])\n",
    "C = np.array([[56], [65], [79]])\n",
    "#result = np.vstack((A, B))\n",
    "#result = np.hstack((result, C))\n",
    "arr1 = np.row_stack((A,B))\n",
    "arr2 = np.column_stack((arr1,C)) \n",
    "print(arr2)"
   ]
  },
  {
   "cell_type": "code",
   "execution_count": 293,
   "id": "0e49333d",
   "metadata": {},
   "outputs": [
    {
     "name": "stdout",
     "output_type": "stream",
     "text": [
      "[[   305.     324.5    283.5    310.   64081.      41. ]\n",
      " [   325.5    340.5    320.     340.5  55496.      20.5]\n",
      " [   324.     340.5    315.     330.   36152.      25.5]\n",
      " [   344.     344.     310.     315.   35992.      34. ]\n",
      " [   306.5    307.     291.     305.   32539.      16. ]\n",
      " [   274.     291.     250.     258.   79402.      41. ]\n",
      " [   278.     284.5    256.     264.   35700.      28.5]\n",
      " [   270.     270.     238.5    245.   60445.      31.5]\n",
      " [   218.     228.     196.     197.   94031.      32. ]\n",
      " [   210.     229.     198.8    211.  100412.      30.2]\n",
      " [   205.     248.     197.8    240.5  50659.      50.2]\n",
      " [   245.     269.     232.5    264.   99480.      36.5]\n",
      " [   264.     280.     251.     270.   70136.      29. ]\n",
      " [   267.     280.     267.     279.5  30732.      13. ]\n",
      " [   297.5    307.     280.     280.5  43426.      27. ]\n",
      " [   274.     289.     258.     285.   37098.      31. ]\n",
      " [   305.     309.     296.5    309.   31939.      12.5]\n",
      " [   313.     330.     295.     304.   46724.      35. ]\n",
      " [   300.     309.     295.5    300.   27213.      13.5]\n",
      " [   302.     306.5    290.     296.   13466.      16.5]\n",
      " [   299.     300.     287.     300.   10316.      13. ]\n",
      " [   302.5    309.     302.     306.5  15698.       7. ]]\n"
     ]
    }
   ],
   "source": [
    "#Exercise 2\n",
    "\"\"\"\n",
    "Calculate a new column: the difference between the highest and lowest price (high - low).\n",
    "\n",
    "Steps:\n",
    "-Assign the calculated difference to the max_min_diff variable\n",
    "-Add the calculated column (variable max_min_diff) to the array playway_values at the end.\n",
    "\"\"\"\n",
    "import numpy as np\n",
    "\n",
    "np.set_printoptions(suppress=True)\n",
    "playway_values = np.array(\n",
    "    [\n",
    "        [305.0, 324.5, 283.5, 310.0, 64081.0],\n",
    "        [325.5, 340.5, 320.0, 340.5, 55496.0],\n",
    "        [324.0, 340.5, 315.0, 330.0, 36152.0],\n",
    "        [344.0, 344.0, 310.0, 315.0, 35992.0],\n",
    "        [306.5, 307.0, 291.0, 305.0, 32539.0],\n",
    "        [274.0, 291.0, 250.0, 258.0, 79402.0],\n",
    "        [278.0, 284.5, 256.0, 264.0, 35700.0],\n",
    "        [270.0, 270.0, 238.5, 245.0, 60445.0],\n",
    "        [218.0, 228.0, 196.0, 197.0, 94031.0],\n",
    "        [210.0, 229.0, 198.8, 211.0, 100412.0],\n",
    "        [205.0, 248.0, 197.8, 240.5, 50659.0],\n",
    "        [245.0, 269.0, 232.5, 264.0, 99480.0],\n",
    "        [264.0, 280.0, 251.0, 270.0, 70136.0],\n",
    "        [267.0, 280.0, 267.0, 279.5, 30732.0],\n",
    "        [297.5, 307.0, 280.0, 280.5, 43426.0],\n",
    "        [274.0, 289.0, 258.0, 285.0, 37098.0],\n",
    "        [305.0, 309.0, 296.5, 309.0, 31939.0],\n",
    "        [313.0, 330.0, 295.0, 304.0, 46724.0],\n",
    "        [300.0, 309.0, 295.5, 300.0, 27213.0],\n",
    "        [302.0, 306.5, 290.0, 296.0, 13466.0],\n",
    "        [299.0, 300.0, 287.0, 300.0, 10316.0],\n",
    "        [302.5, 309.0, 302.0, 306.5, 15698.0],\n",
    "    ]\n",
    ")\n",
    "\n",
    "arr1 = playway_values[:,[1]]\n",
    "arr2 = playway_values[:,[2]]\n",
    "max_min_diff = arr1 - arr2\n",
    "\n",
    "playway_values = np.column_stack((playway_values,max_min_diff ))\n",
    "#playway_values = np.concatenate((playway_values, max_min_diff), axis=1)\n",
    "print(playway_values)"
   ]
  },
  {
   "cell_type": "code",
   "execution_count": 42,
   "id": "96be7ba1",
   "metadata": {},
   "outputs": [
    {
     "name": "stdout",
     "output_type": "stream",
     "text": [
      "[[   305.     324.5    283.5    310.   64081.       1. ]\n",
      " [   325.5    340.5    320.     340.5  55496.       1. ]\n",
      " [   324.     340.5    315.     330.   36152.       1. ]\n",
      " [   344.     344.     310.     315.   35992.       0. ]\n",
      " [   306.5    307.     291.     305.   32539.       0. ]\n",
      " [   274.     291.     250.     258.   79402.       0. ]\n",
      " [   278.     284.5    256.     264.   35700.       0. ]\n",
      " [   270.     270.     238.5    245.   60445.       0. ]\n",
      " [   218.     228.     196.     197.   94031.       0. ]\n",
      " [   210.     229.     198.8    211.  100412.       1. ]\n",
      " [   205.     248.     197.8    240.5  50659.       1. ]\n",
      " [   245.     269.     232.5    264.   99480.       1. ]\n",
      " [   264.     280.     251.     270.   70136.       1. ]\n",
      " [   267.     280.     267.     279.5  30732.       1. ]\n",
      " [   297.5    307.     280.     280.5  43426.       0. ]\n",
      " [   274.     289.     258.     285.   37098.       1. ]\n",
      " [   305.     309.     296.5    309.   31939.       1. ]\n",
      " [   313.     330.     295.     304.   46724.       0. ]\n",
      " [   300.     309.     295.5    300.   27213.       0. ]\n",
      " [   302.     306.5    290.     296.   13466.       0. ]\n",
      " [   299.     300.     287.     300.   10316.       1. ]\n",
      " [   302.5    309.     302.     306.5  15698.       1. ]]\n"
     ]
    }
   ],
   "source": [
    "#Exercise 3\n",
    "\"\"\"\n",
    "Add to this array column that returns 1 in case the close price is higher than the open price,\n",
    "otherwise 0.\n",
    "\"\"\"\n",
    "import numpy as np\n",
    "\n",
    "np.set_printoptions(suppress=True)\n",
    "playway_values = np.array(\n",
    "    [\n",
    "        [305.0, 324.5, 283.5, 310.0, 64081.0],\n",
    "        [325.5, 340.5, 320.0, 340.5, 55496.0],\n",
    "        [324.0, 340.5, 315.0, 330.0, 36152.0],\n",
    "        [344.0, 344.0, 310.0, 315.0, 35992.0],\n",
    "        [306.5, 307.0, 291.0, 305.0, 32539.0],\n",
    "        [274.0, 291.0, 250.0, 258.0, 79402.0],\n",
    "        [278.0, 284.5, 256.0, 264.0, 35700.0],\n",
    "        [270.0, 270.0, 238.5, 245.0, 60445.0],\n",
    "        [218.0, 228.0, 196.0, 197.0, 94031.0],\n",
    "        [210.0, 229.0, 198.8, 211.0, 100412.0],\n",
    "        [205.0, 248.0, 197.8, 240.5, 50659.0],\n",
    "        [245.0, 269.0, 232.5, 264.0, 99480.0],\n",
    "        [264.0, 280.0, 251.0, 270.0, 70136.0],\n",
    "        [267.0, 280.0, 267.0, 279.5, 30732.0],\n",
    "        [297.5, 307.0, 280.0, 280.5, 43426.0],\n",
    "        [274.0, 289.0, 258.0, 285.0, 37098.0],\n",
    "        [305.0, 309.0, 296.5, 309.0, 31939.0],\n",
    "        [313.0, 330.0, 295.0, 304.0, 46724.0],\n",
    "        [300.0, 309.0, 295.5, 300.0, 27213.0],\n",
    "        [302.0, 306.5, 290.0, 296.0, 13466.0],\n",
    "        [299.0, 300.0, 287.0, 300.0, 10316.0],\n",
    "        [302.5, 309.0, 302.0, 306.5, 15698.0],\n",
    "    ]\n",
    ")\n",
    "\n",
    "close_price = playway_values[:,3]\n",
    "higher_price = playway_values[:,0]\n",
    "\n",
    "new_column =  np.array(close_price > higher_price, dtype = 'int')\n",
    "playway_values = np.column_stack((playway_values, new_column))\n",
    "print(playway_values)"
   ]
  },
  {
   "cell_type": "code",
   "execution_count": 45,
   "id": "cc808fd1",
   "metadata": {},
   "outputs": [
    {
     "name": "stdout",
     "output_type": "stream",
     "text": [
      "[[[ 1.3315865   0.71527897 -1.54540029 -0.00838385]\n",
      "  [ 0.62133597 -0.72008556  0.26551159  0.10854853]\n",
      "  [ 0.00429143 -0.17460021  0.43302619  1.20303737]]\n",
      "\n",
      " [[-0.96506567  1.02827408  0.22863013  0.44513761]\n",
      "  [-1.13660221  0.13513688  1.484537   -1.07980489]\n",
      "  [-1.97772828 -1.7433723   0.26607016  2.38496733]]]\n"
     ]
    }
   ],
   "source": [
    "#Exercise 4\n",
    "\"\"\"\n",
    "Combine these two arrays into one 3-dimensional 2x3x4 array as follows:\n",
    "\"\"\"\n",
    "import numpy as np\n",
    "A = np.array(\n",
    "    [\n",
    "        [1.3315865, 0.71527897, -1.54540029, -0.00838385],\n",
    "        [0.62133597, -0.72008556, 0.26551159, 0.10854853],\n",
    "        [0.00429143, -0.17460021, 0.43302619, 1.20303737],\n",
    "    ]\n",
    ")\n",
    "B = np.array(\n",
    "    [\n",
    "        [-0.96506567, 1.02827408, 0.22863013, 0.44513761],\n",
    "        [-1.13660221, 0.13513688, 1.484537, -1.07980489],\n",
    "        [-1.97772828, -1.7433723, 0.26607016, 2.38496733],\n",
    "    ]\n",
    ")\n",
    "\n",
    "C = np.concatenate(([A],[B]))\n",
    "print(C)"
   ]
  },
  {
   "cell_type": "code",
   "execution_count": 46,
   "id": "7afd1896",
   "metadata": {},
   "outputs": [
    {
     "name": "stdout",
     "output_type": "stream",
     "text": [
      "[[[ 1.3315865   0.71527897 -1.54540029 -0.00838385]\n",
      "  [ 0.62133597 -0.72008556  0.26551159  0.10854853]\n",
      "  [ 0.00429143 -0.17460021  0.43302619  1.20303737]]\n",
      "\n",
      " [[-0.96506567  1.02827408  0.22863013  0.44513761]\n",
      "  [-1.13660221  0.13513688  1.484537   -1.07980489]\n",
      "  [-1.97772828 -1.7433723   0.26607016  2.38496733]]]\n"
     ]
    }
   ],
   "source": [
    "#Another way\n",
    "result = np.stack((A,B)) #Combine  two arrays into one 3-dimensional\n",
    "print(result)"
   ]
  },
  {
   "cell_type": "code",
   "execution_count": 47,
   "id": "49b812ce",
   "metadata": {},
   "outputs": [
    {
     "name": "stdout",
     "output_type": "stream",
     "text": [
      "[[0 1 5 7 1]\n",
      " [8 9 2 5 4]\n",
      " [3 4 6 7 2]]\n"
     ]
    }
   ],
   "source": [
    "#Exercise 5\n",
    "\"\"\"\n",
    "\n",
    "\"\"\"\n",
    "\n",
    "import numpy as np\n",
    "\n",
    "A = np.array(\n",
    "    [\n",
    "        [0, 1, 5, 7],\n",
    "        [8, 9, 2, 5],\n",
    "        [3, 4, 6, 7],\n",
    "    ]\n",
    ")\n",
    "B = np.column_stack((A, np.array([1,4,2])))\n",
    "print(B)"
   ]
  },
  {
   "cell_type": "markdown",
   "id": "cdcfaa3c",
   "metadata": {},
   "source": [
    "***SECTION 21 - SORTING, SEARCHING & COUNTING***"
   ]
  },
  {
   "cell_type": "code",
   "execution_count": 54,
   "id": "18d27d31",
   "metadata": {},
   "outputs": [
    {
     "name": "stdout",
     "output_type": "stream",
     "text": [
      "[[ 3.49  4.99  9.99]\n",
      " [ 1.99  4.99  9.99]\n",
      " [ 2.39  7.29 14.99]]\n",
      "[[ 1.99  4.99  9.99]\n",
      " [ 2.39  4.99  9.99]\n",
      " [ 3.49  7.29 14.99]]\n"
     ]
    }
   ],
   "source": [
    "#Exercise 1\n",
    "\"\"\"\n",
    "Sort this array:\n",
    "-by row (ascending)\n",
    "-by column (ascending)\n",
    "And print result to the console as shown below.\n",
    "\"\"\"\n",
    "\n",
    "import numpy as np\n",
    "A = np.array(\n",
    "    [\n",
    "        [4.99, 3.49, 9.99],\n",
    "        [1.99, 9.99, 4.99],\n",
    "        [14.99, 2.39, 7.29],\n",
    "    ]\n",
    ")\n",
    "\n",
    "A = np.sort(A, axis = 1)\n",
    "A2 = np.sort(A, axis = 0)\n",
    "print(A)\n",
    "print(A2)"
   ]
  },
  {
   "cell_type": "code",
   "execution_count": 55,
   "id": "3508251c",
   "metadata": {},
   "outputs": [
    {
     "name": "stdout",
     "output_type": "stream",
     "text": [
      "[[  0   0   0 ... 253 254 255]\n",
      " [  0   2   3 ... 251 254 255]\n",
      " [  2   2   4 ... 251 252 252]\n",
      " ...\n",
      " [  2   2   5 ... 254 254 254]\n",
      " [  0   0   1 ... 251 254 255]\n",
      " [  3   3   4 ... 254 254 255]]\n"
     ]
    }
   ],
   "source": [
    "#Exercise 2\n",
    "\"\"\"\n",
    "Sort this array along the rows in ascending order and assign to the variable image_sorted.\n",
    "\"\"\"\n",
    "import numpy as np\n",
    "image = np.random.randint(\n",
    "    low=0,\n",
    "    high=256,\n",
    "    size=(200, 300),\n",
    "    dtype=np.uint8,\n",
    ")\n",
    "\n",
    "image_sorted = np.sort(image, axis = 1)\n",
    "print(image_sorted)"
   ]
  },
  {
   "cell_type": "code",
   "execution_count": 58,
   "id": "5b7f2eee",
   "metadata": {},
   "outputs": [
    {
     "name": "stdout",
     "output_type": "stream",
     "text": [
      "[5 2 1 0 4 3]\n"
     ]
    }
   ],
   "source": [
    "#Exercise 3\n",
    "\"\"\"\n",
    "Return a list of indexes that sorts this array in ascending order and print it to the console.\n",
    "\"\"\"\n",
    "import numpy as np\n",
    "\n",
    "arr = np.array([0.2, 0.15, 0.1, 0.3, 0.2, 0.05])\n",
    "\n",
    "arr = np.argsort(arr) #Returns the indices that would sort an array.\n",
    "print(arr)"
   ]
  },
  {
   "cell_type": "code",
   "execution_count": 90,
   "id": "0b9e3d78",
   "metadata": {},
   "outputs": [
    {
     "name": "stdout",
     "output_type": "stream",
     "text": [
      "[[ 3  4  6]\n",
      " [ 2  5  7]\n",
      " [ 3  8 10]\n",
      " [-3  2  4]]\n"
     ]
    }
   ],
   "source": [
    "#Exercise 4\n",
    "\"\"\"\n",
    "Using the function np.apply_along_axis(), sort this array in ascending order along the rows.\n",
    "\"\"\"\n",
    "import numpy as np\n",
    "\n",
    "arr = np.array(\n",
    "    [\n",
    "        [4, 3, 6],\n",
    "        [5, 2, 7],\n",
    "        [8, 3, 10],\n",
    "        [-3, 4, 2],\n",
    "    ]\n",
    ")\n",
    "\"\"\"def function(arr):\n",
    "    for row in arr:\n",
    "        arr = np.sort(row)\n",
    "        #print(arr)\"\"\"\n",
    "        \n",
    "new_arr = np.apply_along_axis(sorted, -1,arr)\n",
    "print(new_arr)"
   ]
  },
  {
   "cell_type": "code",
   "execution_count": 16,
   "id": "c2474a0e",
   "metadata": {},
   "outputs": [
    {
     "name": "stdout",
     "output_type": "stream",
     "text": [
      "[11  2  8]\n"
     ]
    }
   ],
   "source": [
    "#Exercise 5\n",
    "\"\"\"\n",
    "Using the np.apply_along_axis() function, find the difference between the highest and the lowest value for each column of this array. \n",
    "In response, print the result to the console.\n",
    "\"\"\"\n",
    "import numpy as np\n",
    "arr = np.array(\n",
    "    [\n",
    "        [4, 3, 6],\n",
    "        [5, 2, 7],\n",
    "        [8, 3, 10],\n",
    "        [-3, 4, 2],\n",
    "    ]\n",
    ")\n",
    "def max_min(arr):\n",
    "    return max(arr)- min(arr)\n",
    "\n",
    "arr = np.apply_along_axis(max_min, 0, arr)\n",
    "print(arr)"
   ]
  },
  {
   "cell_type": "code",
   "execution_count": 15,
   "id": "2d8e092d",
   "metadata": {},
   "outputs": [
    {
     "name": "stdout",
     "output_type": "stream",
     "text": [
      "[11  2  8]\n"
     ]
    }
   ],
   "source": [
    "#Another way\n",
    "def calc_diff(column):\n",
    "    return max(column) - min(column)    \n",
    " \n",
    " \n",
    "diff = np.apply_along_axis(calc_diff, 0, arr)\n",
    "print(diff)"
   ]
  },
  {
   "cell_type": "code",
   "execution_count": 22,
   "id": "77b198bf",
   "metadata": {},
   "outputs": [
    {
     "name": "stdout",
     "output_type": "stream",
     "text": [
      "[996 117 195 942 897  72 600 468 765 381 963 384]\n",
      "[996 117 195 942 897  72 600 468 765 381 963 384]\n"
     ]
    }
   ],
   "source": [
    "#Exercise 6\n",
    "\"\"\"\n",
    "From this array, extract all the numbers divided by 3 and print result to the console.\n",
    "\"\"\"\n",
    "import numpy as np\n",
    "\n",
    "A = np.array(\n",
    "    [\n",
    "        [563, 996, 272, 400, 487, 581, 117, 749, 434, 815],\n",
    "        [195, 942, 938, 580, 897, 72, 109, 600, 979, 586],\n",
    "        [468, 970, 898, 765, 316, 368, 143, 381, 674, 971],\n",
    "        [963, 733, 548, 247, 779, 170, 830, 665, 692, 502],\n",
    "        [40, 494, 384, 353, 337, 181, 689, 142, 181, 386],\n",
    "    ]\n",
    ")\n",
    "B = []\n",
    "for row in A:\n",
    "    for element in row:\n",
    "        if element % 3 == 0:\n",
    "            B.append(element)\n",
    "B = np.asarray(B)\n",
    "print(B)\n",
    "#Another form\n",
    "result = A[A % 3 == 0]\n",
    "print(result)"
   ]
  },
  {
   "cell_type": "code",
   "execution_count": 30,
   "id": "da2888c6",
   "metadata": {},
   "outputs": [
    {
     "name": "stdout",
     "output_type": "stream",
     "text": [
      "[[563 996 272   0 487 581 117 749 434   0]\n",
      " [  0 942 938   0 897  72 109   0 979 586]\n",
      " [468   0 898   0 316 368 143 381 674 971]\n",
      " [963 733 548 247 779   0   0   0 692 502]\n",
      " [  0 494 384 353 337 181 689 142 181 386]]\n",
      "[[563 996 272   0 487 581 117 749 434   0]\n",
      " [  0 942 938   0 897  72 109   0 979 586]\n",
      " [468   0 898   0 316 368 143 381 674 971]\n",
      " [963 733 548 247 779   0   0   0 692 502]\n",
      " [  0 494 384 353 337 181 689 142 181 386]]\n"
     ]
    }
   ],
   "source": [
    "#Exercise 7\n",
    "\"\"\"\n",
    "In this array, replace all numbers divided by 5 with 0 and print this array to the console.\n",
    "\"\"\"\n",
    "import numpy as np\n",
    "\n",
    "A = np.array(\n",
    "    [\n",
    "        [563, 996, 272, 400, 487, 581, 117, 749, 434, 815],\n",
    "        [195, 942, 938, 580, 897, 72, 109, 600, 979, 586],\n",
    "        [468, 970, 898, 765, 316, 368, 143, 381, 674, 971],\n",
    "        [963, 733, 548, 247, 779, 170, 830, 665, 692, 502],\n",
    "        [40, 494, 384, 353, 337, 181, 689, 142, 181, 386],\n",
    "    ]\n",
    ")\n",
    "B = []\n",
    "for row in A:\n",
    "    for element in row:\n",
    "        if element % 5 == 0:\n",
    "            element = 0\n",
    "            B.append(element)\n",
    "        else:\n",
    "            B.append(element)\n",
    "B = np.asarray([B]).reshape(5,10)\n",
    "print(B)\n",
    "#Another way\n",
    "A[A % 5 == 0] = 0\n",
    "print(A)"
   ]
  },
  {
   "cell_type": "code",
   "execution_count": 86,
   "id": "31074570",
   "metadata": {},
   "outputs": [
    {
     "name": "stdout",
     "output_type": "stream",
     "text": [
      "[[8 8 5 6]\n",
      " [0 4 4 5]\n",
      " [9 1 1 4]\n",
      " [2 2 0 3]\n",
      " [7 0 9 2]]\n"
     ]
    }
   ],
   "source": [
    "#Exercise 8\n",
    "\"\"\"\n",
    "Find the indexes for the top five values for a given column. \n",
    "In response, print the result to the console as shown below.\n",
    "\"\"\"\n",
    "import numpy as np\n",
    "\n",
    "np.random.seed(20)\n",
    "arr = np.array(\n",
    "    [\n",
    "        [0.81962558, 0.49493548, 0.26629952, -1.93044173],\n",
    "        [-1.14910012, 0.85876675, 0.84823235, -0.56566086],\n",
    "        [0.43882931, 0.70548493, 0.23222401, -0.0805907],\n",
    "        [-0.85628432, -0.54329747, -1.37073966, 0.65853535],\n",
    "        [-0.10846233, 1.86670301, 0.95987168, 0.81918861],\n",
    "        [-0.23291363, -2.89063233, 1.02889526, 1.74559839],\n",
    "        [-0.3076063, 0.16903975, -0.20025437, 1.96900662],\n",
    "        [0.06451082, -1.76787826, -0.97673015, -0.6917593],\n",
    "        [0.86859882, 2.35890846, -1.02617496, -1.20017004],\n",
    "        [0.46280219, -1.25203028, 0.23837634, -0.72370636],\n",
    "    ]\n",
    ")\n",
    "result = np.argsort(arr, axis = 0)[-5:][::-1]\n",
    "print(result)"
   ]
  },
  {
   "cell_type": "markdown",
   "id": "e9b0c277",
   "metadata": {},
   "source": [
    "***SECTION 22 - SORTING, SEARCHING & COUNTING***"
   ]
  },
  {
   "cell_type": "code",
   "execution_count": 93,
   "id": "501dcda6",
   "metadata": {},
   "outputs": [
    {
     "name": "stdout",
     "output_type": "stream",
     "text": [
      "[[1.03  1.05  1.037]\n",
      " [1.037 1.035 1.04 ]\n",
      " [1.02  1.05  1.028]\n",
      " [1.01  1.023 1.05 ]]\n",
      "ANOTHER WAY\n",
      "[[1.03  1.05  1.037]\n",
      " [1.037 1.035 1.04 ]\n",
      " [1.02  1.05  1.028]\n",
      " [1.01  1.023 1.05 ]]\n"
     ]
    }
   ],
   "source": [
    "#Exercise 1\n",
    "\"\"\"\n",
    "Set all values greater than 1.05 to 1.05 and print this array to the console.\n",
    "\"\"\"\n",
    "import numpy as np\n",
    "\n",
    "accumulation_factors = np.array(\n",
    "    [\n",
    "        [1.03, 1.085, 1.037],\n",
    "        [1.037, 1.035, 1.04],\n",
    "        [1.02, 1.05, 1.028],\n",
    "        [1.01, 1.023, 1.088],\n",
    "    ]\n",
    ")\n",
    "B = []\n",
    "for row in accumulation_factors.flat:\n",
    "    if row > 1.05:\n",
    "        row = 1.05\n",
    "        B.append(row)\n",
    "    else:\n",
    "        B.append(row)\n",
    "B = np.asarray(B).reshape(4,3)\n",
    "print(B)\n",
    "print('ANOTHER WAY')\n",
    "result = np.where(accumulation_factors > 1.05, 1.05, accumulation_factors)\n",
    "print(result)"
   ]
  },
  {
   "cell_type": "code",
   "execution_count": 100,
   "id": "e3c6a90e",
   "metadata": {},
   "outputs": [
    {
     "name": "stdout",
     "output_type": "stream",
     "text": [
      "[1 2 0 2 1]\n"
     ]
    }
   ],
   "source": [
    "#Exercise 2\n",
    "\"\"\"\n",
    "Which represents the probability of a given class in a machine learning model with 4 classes (columns). \n",
    "The classes are identified with the following indices: 0, 1, 2 and 3. \n",
    "Using NumPy, extract the class labels for each data sample (5 rows) and print it to the console.\n",
    "\"\"\"\n",
    "import numpy as np\n",
    "\n",
    "probabilities = np.array(\n",
    "    [\n",
    "        [0.2, 0.6, 0.1, 0.1],\n",
    "        [0.1, 0.3, 0.4, 0.2],\n",
    "        [0.9, 0.0, 0.0, 0.1],\n",
    "        [0.05, 0.15, 0.8, 0.0],\n",
    "        [0.2, 0.7, 0.1, 0.0],\n",
    "    ]\n",
    ")\n",
    "probabilities = np.argmax(probabilities, axis = 1)\n",
    "print(probabilities)"
   ]
  },
  {
   "cell_type": "code",
   "execution_count": 118,
   "id": "731fe9a8",
   "metadata": {},
   "outputs": [
    {
     "name": "stdout",
     "output_type": "stream",
     "text": [
      "[[0 1 0 0]\n",
      " [0 0 1 0]\n",
      " [1 0 0 0]\n",
      " [0 0 1 0]\n",
      " [0 1 0 0]]\n",
      "Another solution\n",
      "[[0 1 0 0]\n",
      " [0 0 1 0]\n",
      " [1 0 0 0]\n",
      " [0 0 1 0]\n",
      " [0 1 0 0]]\n"
     ]
    }
   ],
   "source": [
    "#Exercise 3\n",
    "\"\"\"\n",
    "Which represents the probability of a given class in a machine learning model with 4 classes (columns). \n",
    "The classes are identified with the following indices: 0, 1, 2 and 3. Using NumPy, \n",
    "extract the class labels for each data sample (5 rows) as shown below and print it to the console.\n",
    "\"\"\"\n",
    "import numpy as np\n",
    "probabilities = np.array(\n",
    "    [\n",
    "        [0.2, 0.6, 0.1, 0.1],\n",
    "        [0.1, 0.3, 0.6, 0.0],\n",
    "        [0.9, 0.0, 0.0, 0.1],\n",
    "        [0.05, 0.15, 0.8, 0.0],\n",
    "        [0.2, 0.7, 0.1, 0.0],\n",
    "    ]\n",
    ")\n",
    "result = np.where(probabilities >= 0.6, 1, probabilities)\n",
    "result = np.where(result !=1, 0, result)\n",
    "result = result.astype('int')\n",
    "print(result)\n",
    "print('Another solution')\n",
    "result2 = np.where(probabilities > 0.5, 1, 0)\n",
    "print(result2)"
   ]
  },
  {
   "cell_type": "code",
   "execution_count": 187,
   "id": "b04767dc",
   "metadata": {},
   "outputs": [
    {
     "name": "stdout",
     "output_type": "stream",
     "text": [
      "[[   305.75  64081.  ]\n",
      " [   331.62  55496.  ]\n",
      " [   327.38  36152.  ]\n",
      " [   328.25  35992.  ]\n",
      " [   302.38  32539.  ]\n",
      " [   268.25  79402.  ]\n",
      " [   270.62  35700.  ]\n",
      " [   255.88  60445.  ]\n",
      " [   209.75  94031.  ]\n",
      " [   212.2  100412.  ]\n",
      " [   222.82  50659.  ]\n",
      " [   252.62  99480.  ]\n",
      " [   266.25  70136.  ]\n",
      " [   273.38  30732.  ]\n",
      " [   291.25  43426.  ]\n",
      " [   276.5   37098.  ]\n",
      " [   304.88  31939.  ]\n",
      " [   310.5   46724.  ]\n",
      " [   301.12  27213.  ]\n",
      " [   298.62  13466.  ]\n",
      " [   296.5   10316.  ]\n",
      " [   305.    15698.  ]]\n"
     ]
    },
    {
     "data": {
      "text/plain": [
       "''"
      ]
     },
     "execution_count": 187,
     "metadata": {},
     "output_type": "execute_result"
    }
   ],
   "source": [
    "#Exercise 4\n",
    "\"\"\"\n",
    "Which represents the stock market data.\n",
    "The columns mean respectively: open price, max price, min price, close price and volume. \n",
    "Calculate the average price for a given trading session (open + high + low + close / 4) and concatenate it \n",
    "with the volume. \n",
    "In response, print the result to the console.\n",
    "\"\"\"\n",
    "\n",
    "import numpy as np\n",
    "\n",
    "\n",
    "playway = np.array(\n",
    "    [\n",
    "        [305.0, 324.5, 283.5, 310.0, 64081.0],\n",
    "        [325.5, 340.5, 320.0, 340.5, 55496.0],\n",
    "        [324.0, 340.5, 315.0, 330.0, 36152.0],\n",
    "        [344.0, 344.0, 310.0, 315.0, 35992.0],\n",
    "        [306.5, 307.0, 291.0, 305.0, 32539.0],\n",
    "        [274.0, 291.0, 250.0, 258.0, 79402.0],\n",
    "        [278.0, 284.5, 256.0, 264.0, 35700.0],\n",
    "        [270.0, 270.0, 238.5, 245.0, 60445.0],\n",
    "        [218.0, 228.0, 196.0, 197.0, 94031.0],\n",
    "        [210.0, 229.0, 198.8, 211.0, 100412.0],\n",
    "        [205.0, 248.0, 197.8, 240.5, 50659.0],\n",
    "        [245.0, 269.0, 232.5, 264.0, 99480.0],\n",
    "        [264.0, 280.0, 251.0, 270.0, 70136.0],\n",
    "        [267.0, 280.0, 267.0, 279.5, 30732.0],\n",
    "        [297.5, 307.0, 280.0, 280.5, 43426.0],\n",
    "        [274.0, 289.0, 258.0, 285.0, 37098.0],\n",
    "        [305.0, 309.0, 296.5, 309.0, 31939.0],\n",
    "        [313.0, 330.0, 295.0, 304.0, 46724.0],\n",
    "        [300.0, 309.0, 295.5, 300.0, 27213.0],\n",
    "        [302.0, 306.5, 290.0, 296.0, 13466.0],\n",
    "        [299.0, 300.0, 287.0, 300.0, 10316.0],\n",
    "        [302.5, 309.0, 302.0, 306.5, 15698.0],\n",
    "    ]\n",
    ")\n",
    "arr = playway[0:,[0]]\n",
    "arr2 = playway[0:,[1]]\n",
    "arr3 =  playway[0:,[2]]\n",
    "arr4 = playway[0:,[3]]\n",
    "arr5 = playway[:,4]\n",
    "result = np.round((arr+arr2+arr3+arr4)/4,2)\n",
    "result = np.column_stack((result,arr5))\n",
    "print(result)\n",
    "\"\"\"\n",
    "result = np.c_[\n",
    "    np.round(np.average(playway[:, [0, 1, 2, 3]], axis=1), 2), \n",
    "    playway[:, -1]\n",
    "]\n",
    "\"\"\""
   ]
  },
  {
   "cell_type": "code",
   "execution_count": 197,
   "id": "48e2c248",
   "metadata": {},
   "outputs": [
    {
     "name": "stdout",
     "output_type": "stream",
     "text": [
      "[117 195 109 143 170 181 142 181]\n"
     ]
    }
   ],
   "source": [
    "#Exercise 5\n",
    "\"\"\"\n",
    "From this array, extract all numbers that belong to the interval [100, 200] \n",
    "and print these numbers to the console.\n",
    "\"\"\"\n",
    "\n",
    "import numpy as np\n",
    "\n",
    "A = np.array(\n",
    "    [\n",
    "        [563, 996, 272, 400, 487, 581, 117, 749, 434, 815],\n",
    "        [195, 942, 938, 580, 897, 72, 109, 600, 979, 586],\n",
    "        [468, 970, 898, 765, 316, 368, 143, 381, 674, 971],\n",
    "        [963, 733, 548, 247, 779, 170, 830, 665, 692, 502],\n",
    "        [40, 494, 384, 353, 337, 181, 689, 142, 181, 386],\n",
    "    ]\n",
    ")\n",
    "element = []\n",
    "for row in A.flat:\n",
    "    if row >= 100 and row <=200:\n",
    "        element.append(row)\n",
    "element = np.array(element)\n",
    "print(element)\n",
    "\"\"\"\n",
    "result = A[(A >= 100) & (A <= 200)]\n",
    "print(result)\n",
    "\"\"\""
   ]
  },
  {
   "cell_type": "code",
   "execution_count": 205,
   "id": "7f1fea5d",
   "metadata": {},
   "outputs": [
    {
     "name": "stdout",
     "output_type": "stream",
     "text": [
      "[0 2 1]\n"
     ]
    }
   ],
   "source": [
    "#Exercise 6\n",
    "\"\"\"\n",
    "Return a list of indexes with maximum values for each row from this array and print it to the console.\n",
    "\"\"\"\n",
    "import numpy as np\n",
    "\n",
    "A = np.array([[0.4, 0.3, 0.3], [0.1, 0.1, 0.8], [0.2, 0.5, 0.3]])\n",
    "A = np.argmax(A, axis = 1)\n",
    "print(A)"
   ]
  },
  {
   "cell_type": "code",
   "execution_count": 253,
   "id": "699f6203",
   "metadata": {},
   "outputs": [
    {
     "name": "stdout",
     "output_type": "stream",
     "text": [
      "[[   210.     229.     198.8    211.  100412. ]\n",
      " [   245.     269.     232.5    264.   99480. ]\n",
      " [   218.     228.     196.     197.   94031. ]\n",
      " [   274.     291.     250.     258.   79402. ]\n",
      " [   264.     280.     251.     270.   70136. ]\n",
      " [   305.     324.5    283.5    310.   64081. ]\n",
      " [   270.     270.     238.5    245.   60445. ]\n",
      " [   325.5    340.5    320.     340.5  55496. ]\n",
      " [   205.     248.     197.8    240.5  50659. ]\n",
      " [   313.     330.     295.     304.   46724. ]]\n"
     ]
    }
   ],
   "source": [
    "#Exercise 7\n",
    "\"\"\"\n",
    "From this array extract the first 10 rows with the highest volume sorted in descending order.\n",
    "\"\"\"\n",
    "import numpy as np\n",
    "\n",
    "\n",
    "np.set_printoptions(suppress=True)\n",
    "playway_values = np.array(\n",
    "    [\n",
    "        [305.0, 324.5, 283.5, 310.0, 64081.0],\n",
    "        [325.5, 340.5, 320.0, 340.5, 55496.0],\n",
    "        [324.0, 340.5, 315.0, 330.0, 36152.0],\n",
    "        [344.0, 344.0, 310.0, 315.0, 35992.0],\n",
    "        [306.5, 307.0, 291.0, 305.0, 32539.0],\n",
    "        [274.0, 291.0, 250.0, 258.0, 79402.0],\n",
    "        [278.0, 284.5, 256.0, 264.0, 35700.0],\n",
    "        [270.0, 270.0, 238.5, 245.0, 60445.0],\n",
    "        [218.0, 228.0, 196.0, 197.0, 94031.0],\n",
    "        [210.0, 229.0, 198.8, 211.0, 100412.0],\n",
    "        [205.0, 248.0, 197.8, 240.5, 50659.0],\n",
    "        [245.0, 269.0, 232.5, 264.0, 99480.0],\n",
    "        [264.0, 280.0, 251.0, 270.0, 70136.0],\n",
    "        [267.0, 280.0, 267.0, 279.5, 30732.0],\n",
    "        [297.5, 307.0, 280.0, 280.5, 43426.0],\n",
    "        [274.0, 289.0, 258.0, 285.0, 37098.0],\n",
    "        [305.0, 309.0, 296.5, 309.0, 31939.0],\n",
    "        [313.0, 330.0, 295.0, 304.0, 46724.0],\n",
    "        [300.0, 309.0, 295.5, 300.0, 27213.0],\n",
    "        [302.0, 306.5, 290.0, 296.0, 13466.0],\n",
    "        [299.0, 300.0, 287.0, 300.0, 10316.0],\n",
    "        [302.5, 309.0, 302.0, 306.5, 15698.0],\n",
    "    ]\n",
    ")\n",
    "result = playway_values[playway_values[:, 4].argsort()[::-1]][:10]\n",
    "print(result)"
   ]
  },
  {
   "cell_type": "markdown",
   "id": "7889b342",
   "metadata": {},
   "source": [
    "***SECTION 23 FILTERING & BOOLEAN MASK***"
   ]
  },
  {
   "cell_type": "code",
   "execution_count": 254,
   "id": "bc1cd901",
   "metadata": {},
   "outputs": [
    {
     "name": "stdout",
     "output_type": "stream",
     "text": [
      "[ 9.99  9.99 14.99]\n"
     ]
    }
   ],
   "source": [
    "#Exercise 1\n",
    "\"\"\"\n",
    "Extract all elements from the following array with a value greater than 8 and print them to the console.\n",
    "\"\"\"\n",
    "import numpy as np\n",
    "\n",
    "\n",
    "arr = np.array(\n",
    "    [\n",
    "        [4.99, 3.49, 9.99],\n",
    "        [1.99, 9.99, 4.99],\n",
    "        [14.99, 2.39, 7.29],\n",
    "    ]\n",
    ")\n",
    "arr = arr[arr >=9.99]\n",
    "print(arr)"
   ]
  },
  {
   "cell_type": "code",
   "execution_count": 259,
   "id": "145702f8",
   "metadata": {},
   "outputs": [
    {
     "name": "stdout",
     "output_type": "stream",
     "text": [
      "[[ 4.99  3.49  9.99]\n",
      " [ 1.99  9.99 10.  ]\n",
      " [10.    2.39  7.29]]\n"
     ]
    }
   ],
   "source": [
    "#Exercise 2\n",
    "\"\"\"\n",
    "Replace elements greater than 10 with a fixed value = 10.0 and print this array to the console.\n",
    "\"\"\"\n",
    "import numpy as np\n",
    "\n",
    "arr = np.array(\n",
    "    [\n",
    "        [4.99, 3.49, 9.99],\n",
    "        [1.99, 9.99, 14.99],\n",
    "        [14.99, 2.39, 7.29],\n",
    "    ]\n",
    ")\n",
    "arr[arr > 10] = 10.0\n",
    "\"\"\"\n",
    "result = np.where(arr > 10.0, 10.0, arr)\n",
    "print(result)\n",
    "\"\"\"\n",
    "print(arr)"
   ]
  },
  {
   "cell_type": "code",
   "execution_count": 274,
   "id": "46e9edc4",
   "metadata": {},
   "outputs": [
    {
     "name": "stdout",
     "output_type": "stream",
     "text": [
      "1071137.0\n"
     ]
    }
   ],
   "source": [
    "#Exercise 3\n",
    "\"\"\"\n",
    "Calculate the total trading volume (last column) for March of this company and print result to the console.\n",
    "\"\"\"\n",
    "import numpy as np\n",
    "\n",
    "\n",
    "playway = np.array(\n",
    "    [\n",
    "        ['Date', 'Open', 'High', 'Low', 'Close', 'Volume'],\n",
    "        ['2020-03-02', '305', '324.5', '283.5', '310', '64081'],\n",
    "        ['2020-03-03', '325.5', '340.5', '320', '340.5', '55496'],\n",
    "        ['2020-03-04', '324', '340.5', '315', '330', '36152'],\n",
    "        ['2020-03-05', '344', '344', '310', '315', '35992'],\n",
    "        ['2020-03-06', '306.5', '307', '291', '305', '32539'],\n",
    "        ['2020-03-09', '274', '291', '250', '258', '79402'],\n",
    "        ['2020-03-10', '278', '284.5', '256', '264', '35700'],\n",
    "        ['2020-03-11', '270', '270', '238.5', '245', '60445'],\n",
    "        ['2020-03-12', '218', '228', '196', '197', '94031'],\n",
    "        ['2020-03-13', '210', '229', '198.8', '211', '100412'],\n",
    "        ['2020-03-16', '205', '248', '197.8', '240.5', '50659'],\n",
    "        ['2020-03-17', '245', '269', '232.5', '264', '99480'],\n",
    "        ['2020-03-18', '264', '280', '251', '270', '70136'],\n",
    "        ['2020-03-19', '267', '280', '267', '279.5', '30732'],\n",
    "        ['2020-03-20', '297.5', '307', '280', '280.5', '43426'],\n",
    "        ['2020-03-23', '274', '289', '258', '285', '37098'],\n",
    "        ['2020-03-24', '305', '309', '296.5', '309', '31939'],\n",
    "        ['2020-03-25', '313', '330', '295', '304', '46724'],\n",
    "        ['2020-03-26', '300', '309', '295.5', '300', '27213'],\n",
    "        ['2020-03-27', '302', '306.5', '290', '296', '13466'],\n",
    "        ['2020-03-30', '299', '300', '287', '300', '10316'],\n",
    "        ['2020-03-31', '302.5', '309', '302', '306.5', '15698'],\n",
    "    ],\n",
    "    dtype='<U10',\n",
    ")\n",
    "arr = np.array(playway[1:,-1]).astype('float')\n",
    "arr = np.sum(arr)\n",
    "print(arr)"
   ]
  },
  {
   "cell_type": "code",
   "execution_count": 279,
   "id": "85140e0f",
   "metadata": {},
   "outputs": [
    {
     "name": "stdout",
     "output_type": "stream",
     "text": [
      "5\n"
     ]
    }
   ],
   "source": [
    "#Exercise 4\n",
    "\"\"\"\n",
    "Count the total number of 0.0 values in this array and print it to the console.\n",
    "\"\"\"\n",
    "import numpy as np\n",
    "\n",
    "\n",
    "probabilities = np.array(\n",
    "    [\n",
    "        [0.2, 0.6, 0.1, 0.1],\n",
    "        [0.1, 0.3, 0.6, 0.0],\n",
    "        [0.9, 0.0, 0.0, 0.1],\n",
    "        [0.05, 0.15, 0.8, 0.0],\n",
    "        [0.2, 0.7, 0.1, 0.0],\n",
    "    ]\n",
    ")\n",
    "count = 0\n",
    "for row in probabilities.flat:\n",
    "    if row == 0:\n",
    "        count = count +1\n",
    "print(count)    \n",
    "\"\"\"\n",
    "mask = probabilities == 0.0\n",
    "result = np.count_nonzero(mask)\n",
    "\"\"\""
   ]
  },
  {
   "cell_type": "code",
   "execution_count": 311,
   "id": "1dedb18f",
   "metadata": {},
   "outputs": [
    {
     "name": "stdout",
     "output_type": "stream",
     "text": [
      "[[ True  True  True  True]\n",
      " [ True  True  True  True]\n",
      " [ True  True  True  True]\n",
      " [ True  True  True  True]\n",
      " [ True  True  True  True]\n",
      " [False  True False False]\n",
      " [False  True False False]\n",
      " [False False False False]\n",
      " [False False False False]\n",
      " [False False False False]\n",
      " [False False False False]\n",
      " [False False False False]\n",
      " [False False False False]\n",
      " [False False False False]\n",
      " [ True  True False False]\n",
      " [False  True False  True]\n",
      " [ True  True  True  True]\n",
      " [ True  True  True  True]\n",
      " [ True  True  True  True]\n",
      " [ True  True  True  True]\n",
      " [ True  True  True  True]\n",
      " [ True  True  True  True]]\n"
     ]
    }
   ],
   "source": [
    "#Exercise 5\n",
    "\"\"\"\n",
    "Calculate the average for the close price, then use that average to check which values are greater\n",
    "than that average across the entire array (boolean mask). Exclude only the last column (volume). \n",
    "In response, print the result to the console.\n",
    "\"\"\"\n",
    "import numpy as np\n",
    "\n",
    "\n",
    "playway = np.array(\n",
    "    [\n",
    "        [305.0, 324.5, 283.5, 310.0, 64081.0],\n",
    "        [325.5, 340.5, 320.0, 340.5, 55496.0],\n",
    "        [324.0, 340.5, 315.0, 330.0, 36152.0],\n",
    "        [344.0, 344.0, 310.0, 315.0, 35992.0],\n",
    "        [306.5, 307.0, 291.0, 305.0, 32539.0],\n",
    "        [274.0, 291.0, 250.0, 258.0, 79402.0],\n",
    "        [278.0, 284.5, 256.0, 264.0, 35700.0],\n",
    "        [270.0, 270.0, 238.5, 245.0, 60445.0],\n",
    "        [218.0, 228.0, 196.0, 197.0, 94031.0],\n",
    "        [210.0, 229.0, 198.8, 211.0, 100412.0],\n",
    "        [205.0, 248.0, 197.8, 240.5, 50659.0],\n",
    "        [245.0, 269.0, 232.5, 264.0, 99480.0],\n",
    "        [264.0, 280.0, 251.0, 270.0, 70136.0],\n",
    "        [267.0, 280.0, 267.0, 279.5, 30732.0],\n",
    "        [297.5, 307.0, 280.0, 280.5, 43426.0],\n",
    "        [274.0, 289.0, 258.0, 285.0, 37098.0],\n",
    "        [305.0, 309.0, 296.5, 309.0, 31939.0],\n",
    "        [313.0, 330.0, 295.0, 304.0, 46724.0],\n",
    "        [300.0, 309.0, 295.5, 300.0, 27213.0],\n",
    "        [302.0, 306.5, 290.0, 296.0, 13466.0],\n",
    "        [299.0, 300.0, 287.0, 300.0, 10316.0],\n",
    "        [302.5, 309.0, 302.0, 306.5, 15698.0],\n",
    "    ]\n",
    ")\n",
    "arr = []\n",
    "close_price = np.average(playway[:,[3]])\n",
    "for row in playway[0:,:4].flat:\n",
    "    if row > close_price:\n",
    "        row = True\n",
    "        arr.append(row) \n",
    "    else:\n",
    "        row = False\n",
    "        arr.append(row)\n",
    "arr = np.array(arr).reshape(22,4)\n",
    "print(arr)\n",
    "\"\"\"\n",
    "avg = np.average(playway, axis=0)[3]\n",
    "mask = (playway > avg)[:, :-1]\n",
    "\"\"\""
   ]
  },
  {
   "cell_type": "code",
   "execution_count": 351,
   "id": "4f8195d4",
   "metadata": {},
   "outputs": [
    {
     "name": "stdout",
     "output_type": "stream",
     "text": [
      "[['PKOBP' '18807014490' '12.093' '10.49' '9']]\n"
     ]
    }
   ],
   "source": [
    "#Exercise 6\n",
    "\"\"\"\n",
    "From this array, extract a row with the value 'PKOBP' in the first column and print this row\n",
    "to the console (don't use an explicitly declared index - try to search for the value).\n",
    "\"\"\"\n",
    "import numpy as np\n",
    "stocks = np.array(\n",
    "    [\n",
    "        ['PEKAO', '9619710660', '6.185', '5.27', '9'],\n",
    "        ['PGE', '3561588720', '2.290', '2.88', '18'],\n",
    "        ['PGNIG', '6072784704', '3.905', '1.56', '12'],\n",
    "        ['PKNORLEN', '17701360760', '11.382', '12.44', '8'],\n",
    "        ['PKOBP', '18807014490', '12.093', '10.49', '9'],\n",
    "        ['PLAY', '3696209380', '2.377', '1.47', '16'],\n",
    "        ['PZU', '17515160100', '11.262', '6.64', '6'],\n",
    "    ],\n",
    "    dtype='<U12',\n",
    ")\n",
    "row = stocks[stocks[:, 0] == 'PKOBP']\n",
    "print(row)"
   ]
  },
  {
   "cell_type": "code",
   "execution_count": 352,
   "id": "f302b64c",
   "metadata": {},
   "outputs": [
    {
     "data": {
      "text/plain": [
       "array(['PEKAO', 'PGE', 'PGNIG', 'PKNORLEN', 'PKOBP', 'PLAY', 'PZU'],\n",
       "      dtype='<U12')"
      ]
     },
     "execution_count": 352,
     "metadata": {},
     "output_type": "execute_result"
    }
   ],
   "source": [
    "stocks[:, 0] "
   ]
  },
  {
   "cell_type": "code",
   "execution_count": 369,
   "id": "66441901",
   "metadata": {},
   "outputs": [
    {
     "name": "stdout",
     "output_type": "stream",
     "text": [
      "[[  305.    324.5   283.5   310.  64081. ]\n",
      " [  325.5   340.5   320.    340.5 55496. ]\n",
      " [  324.    340.5   315.    330.  36152. ]\n",
      " [  344.    344.    310.    315.  35992. ]\n",
      " [  306.5   307.    291.    305.  32539. ]\n",
      " [  305.    309.    296.5   309.  31939. ]\n",
      " [  313.    330.    295.    304.  46724. ]\n",
      " [  302.5   309.    302.    306.5 15698. ]]\n"
     ]
    }
   ],
   "source": [
    "#Exercise 7\n",
    "\"\"\"\n",
    "Extract rows from this array where close price (column with index 3) is greater than 300.0. \n",
    "In response, print the result to the console as shown below.\n",
    "\"\"\"\n",
    "import numpy as np\n",
    "\n",
    "\n",
    "np.set_printoptions(suppress=True)\n",
    "playway_values = np.array(\n",
    "    [\n",
    "        [305.0, 324.5, 283.5, 310.0, 64081.0],\n",
    "        [325.5, 340.5, 320.0, 340.5, 55496.0],\n",
    "        [324.0, 340.5, 315.0, 330.0, 36152.0],\n",
    "        [344.0, 344.0, 310.0, 315.0, 35992.0],\n",
    "        [306.5, 307.0, 291.0, 305.0, 32539.0],\n",
    "        [274.0, 291.0, 250.0, 258.0, 79402.0],\n",
    "        [278.0, 284.5, 256.0, 264.0, 35700.0],\n",
    "        [270.0, 270.0, 238.5, 245.0, 60445.0],\n",
    "        [218.0, 228.0, 196.0, 197.0, 94031.0],\n",
    "        [210.0, 229.0, 198.8, 211.0, 100412.0],\n",
    "        [205.0, 248.0, 197.8, 240.5, 50659.0],\n",
    "        [245.0, 269.0, 232.5, 264.0, 99480.0],\n",
    "        [264.0, 280.0, 251.0, 270.0, 70136.0],\n",
    "        [267.0, 280.0, 267.0, 279.5, 30732.0],\n",
    "        [297.5, 307.0, 280.0, 280.5, 43426.0],\n",
    "        [274.0, 289.0, 258.0, 285.0, 37098.0],\n",
    "        [305.0, 309.0, 296.5, 309.0, 31939.0],\n",
    "        [313.0, 330.0, 295.0, 304.0, 46724.0],\n",
    "        [300.0, 309.0, 295.5, 300.0, 27213.0],\n",
    "        [302.0, 306.5, 290.0, 296.0, 13466.0],\n",
    "        [299.0, 300.0, 287.0, 300.0, 10316.0],\n",
    "        [302.5, 309.0, 302.0, 306.5, 15698.0],\n",
    "    ]\n",
    ")\n",
    "arr = playway_values[playway_values[:,3] > 300]\n",
    "print(arr)\n"
   ]
  },
  {
   "cell_type": "markdown",
   "id": "4ad397a6",
   "metadata": {},
   "source": [
    "***SECTION 24 MISSING VALUES***"
   ]
  },
  {
   "cell_type": "code",
   "execution_count": 29,
   "id": "653bae4c",
   "metadata": {},
   "outputs": [
    {
     "name": "stdout",
     "output_type": "stream",
     "text": [
      "[4. 3. 5. 5. 3.]\n"
     ]
    },
    {
     "data": {
      "text/plain": [
       "''"
      ]
     },
     "execution_count": 29,
     "metadata": {},
     "output_type": "execute_result"
    }
   ],
   "source": [
    "#Exercise 1\n",
    "\"\"\"\n",
    "Extract all values except missing values from this array and print it to the console.\n",
    "\"\"\"\n",
    "import numpy as np\n",
    "\n",
    "arr = np.array([4, 3, 5, np.nan, 5, 3, np.nan], dtype='float32')\n",
    "index = [3,6]\n",
    "arr = np.delete(arr, index)\n",
    "print(arr)\n",
    "\"\"\"\n",
    "result = arr[~np.isnan(arr)]\n",
    "\"\"\""
   ]
  },
  {
   "cell_type": "code",
   "execution_count": 55,
   "id": "a62e6740",
   "metadata": {},
   "outputs": [
    {
     "name": "stdout",
     "output_type": "stream",
     "text": [
      "[4. 3. 5. 0. 5. 3. 0.]\n"
     ]
    }
   ],
   "source": [
    "#Exercise 2\n",
    "\"\"\"\n",
    "Replace all missing values -  np.nan with a constant value of 0.0 and print this array to the console.\n",
    "\"\"\"\n",
    "import numpy as np\n",
    "\n",
    "arr = np.array([4, 3, 5, np.nan, 5, 3, np.nan], dtype='float')\n",
    "arr[3] = 0\n",
    "arr[6] = 0\n",
    "print(arr)\n",
    "\"\"\"\n",
    "arr[np.isnan(arr)] = 0\n",
    "print(arr)\n",
    "\"\"\""
   ]
  },
  {
   "cell_type": "code",
   "execution_count": 102,
   "id": "2ce9c635",
   "metadata": {},
   "outputs": [
    {
     "name": "stdout",
     "output_type": "stream",
     "text": [
      "[[False False False  True]\n",
      " [False  True False False]]\n"
     ]
    }
   ],
   "source": [
    "#Exercise 3\n",
    "\"\"\"\n",
    "Check if the following array has missing data - np.nan\n",
    "\"\"\"\n",
    "import numpy as np\n",
    "\n",
    "arr = np.array([[3, 2, 1, np.nan], [5, np.nan, 1, 6]])\n",
    "result = np.isnan(arr)\n",
    "print(result)"
   ]
  },
  {
   "cell_type": "code",
   "execution_count": 138,
   "id": "59ec7328",
   "metadata": {},
   "outputs": [
    {
     "name": "stdout",
     "output_type": "stream",
     "text": [
      "[[ 0.88389311]\n",
      " [ 0.19586502]\n",
      " [ 0.35753652]\n",
      " [        nan]\n",
      " [-1.08483259]\n",
      " [ 0.55969629]\n",
      " [ 0.93946935]\n",
      " [-0.97848104]\n",
      " [ 0.50309684]\n",
      " [ 0.40641447]]\n"
     ]
    }
   ],
   "source": [
    "#Exercise 4\n",
    "\"\"\"\n",
    "Replace the minimum value of the specified array with the missing value. \n",
    "In response, print this array to the console.\n",
    "\"\"\"\n",
    "import numpy as np\n",
    "\n",
    "np.random.seed(20)\n",
    "arr = np.array(\n",
    "    [\n",
    "        [0.88389311],\n",
    "        [0.19586502],\n",
    "        [0.35753652],\n",
    "        [-2.34326191],\n",
    "        [-1.08483259],\n",
    "        [0.55969629],\n",
    "        [0.93946935],\n",
    "        [-0.97848104],\n",
    "        [0.50309684],\n",
    "        [0.40641447],\n",
    "    ]\n",
    ")\n",
    "arr[np.argmin(arr), 0] = np.nan\n",
    "print(arr)"
   ]
  },
  {
   "cell_type": "code",
   "execution_count": 197,
   "id": "b82a11c9",
   "metadata": {},
   "outputs": [
    {
     "name": "stdout",
     "output_type": "stream",
     "text": [
      "[[0 0 4 6 2 4 1 1]\n",
      " [0 0 6 2 2 4 1 1]\n",
      " [0 0 1 3 5 5 1 1]\n",
      " [0 0 3 1 5 4 1 1]\n",
      " [0 0 2 6 1 3 1 1]]\n",
      "[[0 0]\n",
      " [0 0]\n",
      " [0 0]\n",
      " [0 0]\n",
      " [0 0]]\n",
      "[[4 6 2 4]\n",
      " [6 2 2 4]\n",
      " [1 3 5 5]\n",
      " [3 1 5 4]\n",
      " [2 6 1 3]]\n",
      "[[1 1]\n",
      " [1 1]\n",
      " [1 1]\n",
      " [1 1]\n",
      " [1 1]]\n"
     ]
    }
   ],
   "source": [
    "#Exercise 5\n",
    "\"\"\"\n",
    "Split this array into three parts:\n",
    "-the first two columns assign to the A1 variable\n",
    "-the next four columns assign to the A2 variable\n",
    "-the last two columns assign to the A3 variable\n",
    "\"\"\"\n",
    "import numpy as np\n",
    "\n",
    "np.random.seed(42)\n",
    "\n",
    "A = np.random.randint(low=0, high=7, size=(5, 8))\n",
    "A[:, :2] = 0\n",
    "A[:, -2:] = 1\n",
    "print(A)\n",
    "A1 = A[0:,:2]\n",
    "print(A1)\n",
    "A2 = A[0:,2:6]\n",
    "print(A2)\n",
    "A3 = A[0:,6:8]\n",
    "print(A3)"
   ]
  },
  {
   "cell_type": "code",
   "execution_count": 204,
   "id": "c3d8ad5a",
   "metadata": {},
   "outputs": [
    {
     "name": "stdout",
     "output_type": "stream",
     "text": [
      "[[0 0]\n",
      " [0 0]\n",
      " [0 0]\n",
      " [0 0]\n",
      " [0 0]]\n",
      "[[4 6 2 4]\n",
      " [6 2 2 4]\n",
      " [1 3 5 5]\n",
      " [3 1 5 4]\n",
      " [2 6 1 3]]\n",
      "[[1 1]\n",
      " [1 1]\n",
      " [1 1]\n",
      " [1 1]\n",
      " [1 1]]\n"
     ]
    }
   ],
   "source": [
    "A1, A2, A3 = np.split(A, [2,6], axis=1)\n",
    " \n",
    "print(A1)\n",
    "print(A2)\n",
    "print(A3)"
   ]
  },
  {
   "cell_type": "code",
   "execution_count": 206,
   "id": "d2e1905f",
   "metadata": {},
   "outputs": [
    {
     "name": "stdout",
     "output_type": "stream",
     "text": [
      "[[ 2.46532508  1.38323223  0.34623312  1.02251611  0.16681027]\n",
      " [ 1.65671662  0.66788961 -0.22994664 -1.12955119 -0.6399626 ]\n",
      " [ 0.31383052 -1.22583598 -0.22179314  1.33992631  0.02930971]\n",
      " [ 1.98538575  1.4471656  -0.28762941 -1.35931057 -0.04804133]\n",
      " [-0.48078734  0.37775309  1.61440797 -1.12310404 -0.38872795]]\n",
      "[[ 0.33234995  1.13497317  0.51071441  0.41429764  1.34454942]\n",
      " [ 0.49351532 -0.23700418  0.05728515 -0.70707145  0.54666484]\n",
      " [ 0.94250041 -2.97959677  1.21814885 -0.05652072  0.46088845]\n",
      " [ 0.66237401 -2.29510333 -1.19592931 -0.33310116 -0.79139077]\n",
      " [ 0.27417278 -0.51490992 -1.7110712   0.61229731  1.10012937]]\n"
     ]
    }
   ],
   "source": [
    "#Exercise 6\n",
    "import numpy as np\n",
    "\n",
    "A = np.array(\n",
    "    [\n",
    "        [2.46532508, 1.38323223, 0.34623312, 1.02251611, 0.16681027],\n",
    "        [1.65671662, 0.66788961, -0.22994664, -1.12955119, -0.6399626],\n",
    "        [0.31383052, -1.22583598, -0.22179314, 1.33992631, 0.02930971],\n",
    "        [1.98538575, 1.4471656, -0.28762941, -1.35931057, -0.04804133],\n",
    "        [-0.48078734, 0.37775309, 1.61440797, -1.12310404, -0.38872795],\n",
    "        [0.33234995, 1.13497317, 0.51071441, 0.41429764, 1.34454942],\n",
    "        [0.49351532, -0.23700418, 0.05728515, -0.70707145, 0.54666484],\n",
    "        [0.94250041, -2.97959677, 1.21814885, -0.05652072, 0.46088845],\n",
    "        [0.66237401, -2.29510333, -1.19592931, -0.33310116, -0.79139077],\n",
    "        [0.27417278, -0.51490992, -1.7110712, 0.61229731, 1.10012937],\n",
    "    ]\n",
    ")\n",
    "A1, A2 = np.split(A, [5], axis = 0)\n",
    "print(A1)\n",
    "print(A2)"
   ]
  },
  {
   "cell_type": "code",
   "execution_count": 209,
   "id": "538f440f",
   "metadata": {},
   "outputs": [
    {
     "name": "stdout",
     "output_type": "stream",
     "text": [
      "[[ 2.46532508  1.38323223  0.34623312  1.02251611  0.16681027]\n",
      " [ 1.65671662  0.66788961 -0.22994664 -1.12955119 -0.6399626 ]]\n",
      "[[ 0.31383052 -1.22583598 -0.22179314  1.33992631  0.02930971]\n",
      " [ 1.98538575  1.4471656  -0.28762941 -1.35931057 -0.04804133]\n",
      " [-0.48078734  0.37775309  1.61440797 -1.12310404 -0.38872795]\n",
      " [ 0.94250041 -2.97959677  1.21814885 -0.05652072  0.46088845]]\n",
      "[[ 0.66237401 -2.29510333 -1.19592931 -0.33310116 -0.79139077]\n",
      " [ 0.27417278 -0.51490992 -1.7110712   0.61229731  1.10012937]]\n"
     ]
    }
   ],
   "source": [
    "#Exercise 7\n",
    "\"\"\"\n",
    "Split this array into three arrays as follows:\n",
    "\n",
    "-assign the first two rows to variable A1\n",
    "-assign the next four rows to variable A2\n",
    "-assign the last two rows to variable A3\n",
    "\"\"\"\n",
    "import numpy as np\n",
    "\n",
    "A = np.array(\n",
    "    [\n",
    "        [2.46532508, 1.38323223, 0.34623312, 1.02251611, 0.16681027],\n",
    "        [1.65671662, 0.66788961, -0.22994664, -1.12955119, -0.6399626],\n",
    "        [0.31383052, -1.22583598, -0.22179314, 1.33992631, 0.02930971],\n",
    "        [1.98538575, 1.4471656, -0.28762941, -1.35931057, -0.04804133],\n",
    "        [-0.48078734, 0.37775309, 1.61440797, -1.12310404, -0.38872795],\n",
    "        [0.94250041, -2.97959677, 1.21814885, -0.05652072, 0.46088845],\n",
    "        [0.66237401, -2.29510333, -1.19592931, -0.33310116, -0.79139077],\n",
    "        [0.27417278, -0.51490992, -1.7110712, 0.61229731, 1.10012937],\n",
    "    ]\n",
    ")\n",
    "A1, A2, A3 = np.split(A, [2,6])\n",
    "print(A1)\n",
    "print(A2)\n",
    "print(A3)"
   ]
  },
  {
   "cell_type": "code",
   "execution_count": 30,
   "id": "abedc25e",
   "metadata": {},
   "outputs": [
    {
     "name": "stdout",
     "output_type": "stream",
     "text": [
      "[[2 2]\n",
      " [6 1]\n",
      " [9 0]]\n"
     ]
    }
   ],
   "source": [
    "#Exercise 8\n",
    "\"\"\"\n",
    "Extract all coordinates of missing values in the form of NumPy array (see below) and \n",
    "print the result to the console.\n",
    "\"\"\"\n",
    "import numpy as np\n",
    "\n",
    "arr = np.array(\n",
    "    [\n",
    "        [1, 0, 5, 0],\n",
    "        [6, 6, 6, 6],\n",
    "        [0, 1, np.nan, 1],\n",
    "        [5, 6, 3, 5],\n",
    "        [2, 3, 0, 6],\n",
    "        [0, 1, 4, 5],\n",
    "        [0, np.nan, 5, 3],\n",
    "        [6, 2, 1, 1],\n",
    "        [0, 5, 5, 0],\n",
    "        [np.nan, 2, 6, 6],\n",
    "    ]\n",
    ")\n",
    "arr = np.argwhere(np.isnan(arr))\n",
    "print(arr)"
   ]
  },
  {
   "cell_type": "markdown",
   "id": "577bf1b7",
   "metadata": {},
   "source": [
    "***SECTION 25 - ITERATING***"
   ]
  },
  {
   "cell_type": "code",
   "execution_count": 32,
   "id": "219b204d",
   "metadata": {},
   "outputs": [
    {
     "name": "stdout",
     "output_type": "stream",
     "text": [
      "0.88389311\n",
      "0.19586502\n",
      "0.35753652\n",
      "-2.34326191\n",
      "-1.08483259\n",
      "0.55969629\n",
      "0.93946935\n",
      "-0.97848104\n",
      "0.50309684\n",
      "0.40641447\n",
      "0.32346101\n",
      "-0.49341088\n",
      "-------------------\n",
      "0.88389311\n",
      "0.19586502\n",
      "0.35753652\n",
      "-2.34326191\n",
      "-1.08483259\n",
      "0.55969629\n",
      "0.93946935\n",
      "-0.97848104\n",
      "0.50309684\n",
      "0.40641447\n",
      "0.32346101\n",
      "-0.49341088\n"
     ]
    }
   ],
   "source": [
    "#Exercise 1\n",
    "\"\"\"\n",
    "Iterate through this array and print each item to the console as shown below.\n",
    "\"\"\"\n",
    "import numpy as np\n",
    "\n",
    "arr = np.array(\n",
    "    [\n",
    "        [0.88389311, 0.19586502, 0.35753652, -2.34326191],\n",
    "        [-1.08483259, 0.55969629, 0.93946935, -0.97848104],\n",
    "        [0.50309684, 0.40641447, 0.32346101, -0.49341088],\n",
    "    ]\n",
    ")\n",
    "\n",
    "for i in arr.flat:\n",
    "    print(i)\n",
    "print(\"-------------------\")\n",
    "for a in np.nditer(arr):\n",
    "    print(a)"
   ]
  },
  {
   "cell_type": "code",
   "execution_count": 34,
   "id": "02c72db7",
   "metadata": {},
   "outputs": [
    {
     "name": "stdout",
     "output_type": "stream",
     "text": [
      "[ 0.88389311  0.19586502  0.35753652 -2.34326191]\n",
      "[-1.08483259  0.55969629  0.93946935 -0.97848104]\n",
      "[ 0.50309684  0.40641447  0.32346101 -0.49341088]\n"
     ]
    }
   ],
   "source": [
    "#Exercise 2\n",
    "\"\"\"\n",
    "Iterate through each row of this array and print each row to the console as shown below.\n",
    "\"\"\"\n",
    "import numpy as np\n",
    "\n",
    "arr = np.array(\n",
    "    [\n",
    "        [0.88389311, 0.19586502, 0.35753652, -2.34326191],\n",
    "        [-1.08483259, 0.55969629, 0.93946935, -0.97848104],\n",
    "        [0.50309684, 0.40641447, 0.32346101, -0.49341088],\n",
    "    ]\n",
    ")\n",
    "for row in arr:\n",
    "    print(row)"
   ]
  },
  {
   "cell_type": "code",
   "execution_count": 59,
   "id": "4d440889",
   "metadata": {},
   "outputs": [
    {
     "name": "stdout",
     "output_type": "stream",
     "text": [
      "[ 0.88389311 -1.08483259  0.50309684]\n",
      "[0.19586502 0.55969629 0.40641447]\n",
      "[0.35753652 0.93946935 0.32346101]\n",
      "[-2.34326191 -0.97848104 -0.49341088]\n"
     ]
    }
   ],
   "source": [
    "#Exercise 3\n",
    "\"\"\"\n",
    "Iterate through each column of this array and print each column to the console as shown below.\n",
    "\"\"\"\n",
    "import numpy as np\n",
    "\n",
    "arr = np.array(\n",
    "    [\n",
    "        [0.88389311, 0.19586502, 0.35753652, -2.34326191],\n",
    "        [-1.08483259, 0.55969629, 0.93946935, -0.97848104],\n",
    "        [0.50309684, 0.40641447, 0.32346101, -0.49341088],\n",
    "    ]\n",
    ")\n",
    "for column in range(arr.shape[1]):\n",
    "    print(arr[:,column])\n",
    "\"\"\"\n",
    "for i in arr.T:\n",
    "    print(i)\n",
    "\"\"\""
   ]
  },
  {
   "cell_type": "code",
   "execution_count": 89,
   "id": "61cef286",
   "metadata": {},
   "outputs": [
    {
     "name": "stdout",
     "output_type": "stream",
     "text": [
      "(0, 0) 0.88389311\n",
      "(0, 1) 0.19586502\n",
      "(0, 2) 0.35753652\n",
      "(0, 3) -2.34326191\n",
      "(1, 0) -1.08483259\n",
      "(1, 1) 0.55969629\n",
      "(1, 2) 0.93946935\n",
      "(1, 3) -0.97848104\n",
      "(2, 0) 0.50309684\n",
      "(2, 1) 0.40641447\n",
      "(2, 2) 0.32346101\n",
      "(2, 3) -0.49341088\n"
     ]
    }
   ],
   "source": [
    "#Exercise 4\n",
    "\"\"\"\n",
    "Iterate through each value of this array with \n",
    "the corresponding indices and print them to the console as shown below.\n",
    "\"\"\"\n",
    "import numpy as np\n",
    "\n",
    "arr = np.array(\n",
    "    [\n",
    "        [0.88389311, 0.19586502, 0.35753652, -2.34326191],\n",
    "        [-1.08483259, 0.55969629, 0.93946935, -0.97848104],\n",
    "        [0.50309684, 0.40641447, 0.32346101, -0.49341088],\n",
    "    ]\n",
    ")\n",
    "for index, value in np.ndenumerate(arr):\n",
    "    print(index, value)"
   ]
  },
  {
   "cell_type": "code",
   "execution_count": 110,
   "id": "130b3205",
   "metadata": {},
   "outputs": [
    {
     "name": "stdout",
     "output_type": "stream",
     "text": [
      "[[1 0 0 1]\n",
      " [0 0 1 0]\n",
      " [0 1 0 0]\n",
      " [1 0 0 1]\n",
      " [0 0 1 0]\n",
      " [0 1 0 0]\n",
      " [1 0 0 1]\n",
      " [0 0 1 0]\n",
      " [0 1 0 0]\n",
      " [1 0 0 1]]\n"
     ]
    },
    {
     "data": {
      "text/plain": [
       "''"
      ]
     },
     "execution_count": 110,
     "metadata": {},
     "output_type": "execute_result"
    }
   ],
   "source": [
    "#Exercise 5\n",
    "\"\"\"\n",
    "For each element of this array whose sum of indices is divisible by 3, set the value to 1.\n",
    "In response, print this array to the console.\n",
    "\"\"\"\n",
    "import numpy as np\n",
    "\n",
    "\n",
    "arr = np.zeros((10, 4), dtype='int')\n",
    "for index, value in np.ndenumerate(arr):\n",
    "    if np.sum(index) % 3 == 0:\n",
    "        arr[index] = 1\n",
    "print(arr)\n",
    "\"\"\"\n",
    "for (i, j), _ in np.ndenumerate(arr):\n",
    "        if (i + j) % 3 == 0:\n",
    "            arr[i, j] = 1\n",
    " \n",
    "print(arr)\n",
    "\"\"\""
   ]
  },
  {
   "cell_type": "code",
   "execution_count": 259,
   "id": "19fcb78a",
   "metadata": {},
   "outputs": [
    {
     "name": "stdout",
     "output_type": "stream",
     "text": [
      "[[1 1 1 1 1 1 1 1 1]\n",
      " [1 0 0 0 0 0 0 0 0]\n",
      " [1 0 0 0 0 0 0 0 0]\n",
      " [1 0 0 0 1 0 0 0 0]\n",
      " [1 0 0 1 0 0 0 0 0]\n",
      " [1 0 0 0 0 0 0 0 0]\n",
      " [1 0 0 0 0 0 0 0 1]\n",
      " [1 0 0 0 0 0 0 0 0]\n",
      " [1 0 0 0 0 0 1 0 0]]\n"
     ]
    }
   ],
   "source": [
    "#Exercise 6\n",
    "\"\"\"\n",
    "Then, iterating over this array, create the following array\n",
    "(each item is the sum of the squares of the indices for a given position):\n",
    "\n",
    "Then calculate the square root of this array, and:\n",
    "\n",
    "-set 1 where the condition is met int(val) == val\n",
    "-set 0 otherwise\n",
    "\"\"\"\n",
    "import numpy as np\n",
    "\n",
    "arr = np.zeros((9,9), dtype= 'int')\n",
    "for index, value in np.ndenumerate(arr):\n",
    "    arr[index] = np.sum(np.square(index))\n",
    "\n",
    "arr2 = np.sqrt(arr)\n",
    "for (index, value), val in np.ndenumerate(arr2):\n",
    "    arr[index, value] = int(val) == val\n",
    "print(arr)"
   ]
  },
  {
   "cell_type": "markdown",
   "id": "b2ee9f8e",
   "metadata": {},
   "source": [
    "***SECTION 26 - MISCELLANEOUS FUNCTIONS***"
   ]
  },
  {
   "cell_type": "code",
   "execution_count": 261,
   "id": "4537c979",
   "metadata": {},
   "outputs": [
    {
     "name": "stdout",
     "output_type": "stream",
     "text": [
      "31\n"
     ]
    }
   ],
   "source": [
    "#Exercise 1\n",
    "\"\"\"\n",
    "Calculate the total number of non-zero elements of this array and print it to the console.\n",
    "\"\"\"\n",
    "import numpy as np\n",
    "\n",
    "\n",
    "np.random.seed(42)\n",
    "arr = np.random.randint(low=0, high=2, size=(10, 6))\n",
    "arr = np.count_nonzero(arr)\n",
    "print(arr)"
   ]
  },
  {
   "cell_type": "code",
   "execution_count": 276,
   "id": "a96f0d32",
   "metadata": {},
   "outputs": [
    {
     "name": "stdout",
     "output_type": "stream",
     "text": [
      "[[ 0.4967 -0.1383  0.6477  1.523 ]\n",
      " [-0.2342 -0.2341  1.5792  0.7674]\n",
      " [-0.4695  0.5426 -0.4634 -0.4657]\n",
      " [ 0.242  -1.9133 -1.7249 -0.5623]\n",
      " [-1.0128  0.3142 -0.908  -1.4123]\n",
      " [ 1.4656 -0.2258  0.0675 -1.4247]\n",
      " [-0.5444  0.1109 -1.151   0.3757]\n",
      " [-0.6006 -0.2917 -0.6017  1.8523]\n",
      " [-0.0135 -1.0577  0.8225 -1.2208]\n",
      " [ 0.2089 -1.9597 -1.3282  0.1969]]\n"
     ]
    }
   ],
   "source": [
    "#Exercise 2\n",
    "\"\"\"\n",
    "Set the appropriate NumPy option to print arrays with the specified precision. \n",
    "Set the precision to 4 and print this array.\n",
    "\"\"\"\n",
    "import numpy as np\n",
    "\n",
    "np.random.seed(42)\n",
    "arr = np.random.randn(10, 4)\n",
    "np.set_printoptions(precision=4)\n",
    "\n",
    "print(arr)"
   ]
  },
  {
   "cell_type": "code",
   "execution_count": 283,
   "id": "a9cd4df1",
   "metadata": {},
   "outputs": [
    {
     "name": "stdout",
     "output_type": "stream",
     "text": [
      "[0.0000012  0.00000017]\n"
     ]
    }
   ],
   "source": [
    "#Exercise 3\n",
    "\"\"\"\n",
    "Set the NumPy printing precision to 8. Also set the appropriate NumPy option to \n",
    "suppress mathematical notation and print this array to the console.\n",
    "\"\"\"\n",
    "import numpy as np\n",
    "\n",
    "arr = np.array([1.2e-6, 1.7e-7])\n",
    "np.set_printoptions(precision = 8, suppress=True)\n",
    "print(arr)"
   ]
  },
  {
   "cell_type": "code",
   "execution_count": 285,
   "id": "4b04fa15",
   "metadata": {},
   "outputs": [
    {
     "name": "stdout",
     "output_type": "stream",
     "text": [
      "[[6 3 7 4 6 9 2 6 7 4 ... 4 0 9 5 8 0 9 2 6 3]\n",
      " [8 2 4 2 6 4 8 6 1 3 ... 2 0 3 1 7 3 1 5 5 9]\n",
      " [3 5 1 9 1 9 3 7 6 8 ... 6 8 7 0 7 7 2 0 7 2]\n",
      " [2 0 4 9 6 9 8 6 8 7 ... 0 2 4 2 0 4 9 6 6 8]\n",
      " [9 9 2 6 0 3 3 4 6 6 ... 9 6 8 6 0 0 8 8 3 8]\n",
      " [2 6 5 7 8 4 0 2 9 7 ... 2 0 4 0 7 0 0 1 1 5]\n",
      " [6 4 0 0 2 1 4 9 5 6 ... 5 0 8 5 2 3 3 2 9 2]\n",
      " [2 3 6 3 8 0 7 6 1 7 ... 3 0 1 0 4 4 6 8 8 2]\n",
      " [2 2 3 7 5 7 0 7 3 0 ... 1 1 5 2 8 3 0 3 0 4]\n",
      " [3 7 7 6 2 0 0 2 5 6 ... 4 2 3 2 0 0 4 5 2 8]\n",
      " ...\n",
      " [6 4 8 2 0 3 8 3 1 9 ... 8 4 7 1 5 2 9 4 7 9]\n",
      " [0 4 2 3 1 8 2 1 9 8 ... 7 7 6 5 8 3 0 7 6 6]\n",
      " [2 3 9 8 5 4 2 8 4 4 ... 6 1 7 5 3 4 7 2 2 3]\n",
      " [0 8 7 7 9 5 6 5 8 2 ... 2 3 7 5 4 3 7 0 8 0]\n",
      " [7 3 8 4 2 8 8 3 3 7 ... 4 4 3 4 2 0 4 8 8 3]\n",
      " [2 0 1 7 0 7 6 7 5 8 ... 2 3 6 6 3 5 2 5 1 7]\n",
      " [1 6 8 0 7 6 5 5 5 8 ... 2 7 2 3 7 0 5 0 0 7]\n",
      " [3 0 9 6 4 4 0 9 5 8 ... 6 8 6 2 0 7 2 7 7 4]\n",
      " [0 9 6 9 4 7 8 6 6 0 ... 7 3 0 0 9 2 8 6 1 8]\n",
      " [9 1 2 9 1 2 5 8 8 6 ... 8 2 0 6 9 4 4 0 8 6]]\n"
     ]
    }
   ],
   "source": [
    "#Exercise 4\n",
    "\"\"\"\n",
    "Set the NumPy printing option to print only ten edge elements and print this array to the console.\n",
    "\"\"\"\n",
    "import numpy as np\n",
    "\n",
    "np.random.seed(42)\n",
    "arr = np.random.randint(10, size=(100, 30))\n",
    "np.set_printoptions(edgeitems = 10)\n",
    "print(arr)"
   ]
  },
  {
   "cell_type": "code",
   "execution_count": 288,
   "id": "672c4a6e",
   "metadata": {},
   "outputs": [
    {
     "name": "stdout",
     "output_type": "stream",
     "text": [
      "[[-1  1  0  1 -1]\n",
      " [ 1 -1 -1  1  1]]\n"
     ]
    }
   ],
   "source": [
    "#Exercise 5\n",
    "\"\"\"\n",
    "Return an element-wise indication of the sign of a number for this array.\n",
    "\"\"\"\n",
    "import numpy as np\n",
    "\n",
    "A = np.array(\n",
    "    [\n",
    "        [-4, 3, 0, 1, -5],\n",
    "        [6, -4, -2, 1, 3],\n",
    "    ]\n",
    ")\n",
    "arr = np.sign(A)\n",
    "print(arr)"
   ]
  },
  {
   "cell_type": "code",
   "execution_count": 289,
   "id": "b13a0b25",
   "metadata": {},
   "outputs": [
    {
     "name": "stdout",
     "output_type": "stream",
     "text": [
      "Search results for 'natural logarithm'\n",
      "--------------------------------------\n",
      "numpy.log\n",
      "    Natural logarithm, element-wise.\n",
      "numpy.log1p\n",
      "    Return the natural logarithm of one plus the input array, element-wise.\n",
      "numpy.ma.log\n",
      "    Natural logarithm, element-wise.\n",
      "numpy.linalg.slogdet\n",
      "    Compute the sign and (natural) logarithm of the determinant of an array.\n",
      "numpy.exp\n",
      "    Calculate the exponential of all elements in the input array.\n",
      "numpy.ma.exp\n",
      "    Calculate the exponential of all elements in the input array.\n"
     ]
    }
   ],
   "source": [
    "#Exercise 6\n",
    "\"\"\"\n",
    "Using the np.lookfor() function search the documentation of the NumPy library for the phrase \n",
    "'natural logarithm'. In response, print the result to the console.\n",
    "\"\"\"\n",
    "import numpy as np\n",
    "\n",
    "search = np.lookfor('natural logarithm')"
   ]
  },
  {
   "cell_type": "markdown",
   "id": "6b276ab0",
   "metadata": {},
   "source": [
    "***SECTION 27 - MISCELLANEOUS FUNCTIONS***"
   ]
  },
  {
   "cell_type": "code",
   "execution_count": 290,
   "id": "66226b04",
   "metadata": {},
   "outputs": [
    {
     "name": "stdout",
     "output_type": "stream",
     "text": [
      "[1 2 4 5 7 9]\n"
     ]
    }
   ],
   "source": [
    "#Exercise 1\n",
    "\"\"\"\n",
    "Extract all unique values from this array as a list and print it to the console.\n",
    "\"\"\"\n",
    "import numpy as np\n",
    "\n",
    "np.random.seed(10)\n",
    "arr = np.random.randint(low=1, high=10, size=(3, 5))\n",
    "\n",
    "arr = np.unique(arr)\n",
    "print(arr)"
   ]
  },
  {
   "cell_type": "code",
   "execution_count": 292,
   "id": "5e0162b4",
   "metadata": {},
   "outputs": [
    {
     "name": "stdout",
     "output_type": "stream",
     "text": [
      "[0 2 3 4 5 6 8]\n"
     ]
    }
   ],
   "source": [
    "#Exercise 2\n",
    "\"\"\"\n",
    "Find all the unique values appearing in this array and print them to the console.\n",
    "\"\"\"\n",
    "import numpy as np\n",
    "\n",
    "arr = np.array([4, 3, 5, 5, 3, 5, 2, 6, 5, 2, 0, 8])\n",
    "arr = np.unique(arr)\n",
    "print(arr)"
   ]
  },
  {
   "cell_type": "code",
   "execution_count": 310,
   "id": "8896d479",
   "metadata": {},
   "outputs": [
    {
     "name": "stdout",
     "output_type": "stream",
     "text": [
      "['nan' 'no' 'yes']\n",
      "[1 2 4]\n"
     ]
    }
   ],
   "source": [
    "#Exercise 3\n",
    "\"\"\"\n",
    "Find all the unique values of this array along with their distribution and \n",
    "print them to the console as shown below.\n",
    "\"\"\"\n",
    "import numpy as np\n",
    "\n",
    "votes = np.array(['yes', 'no', 'yes', 'no', np.nan, 'yes', 'yes'])\n",
    "\n",
    "votes = np.unique(votes, return_counts = True)\n",
    "print(votes[0])\n",
    "print(votes[1])\n"
   ]
  },
  {
   "cell_type": "code",
   "execution_count": 319,
   "id": "0c70d697",
   "metadata": {},
   "outputs": [
    {
     "name": "stdout",
     "output_type": "stream",
     "text": [
      "[0 2 3]\n"
     ]
    }
   ],
   "source": [
    "#Exercise 4\n",
    "\"\"\"\n",
    "Extract the same elements (intersection) of these arrays as a list and print them to the console.\n",
    "\"\"\"\n",
    "import numpy as np\n",
    "\n",
    "A = np.arange(8).reshape(-1, 4)\n",
    "B = np.array([[9, 10, 11, 3], [2, 8, 0, 9]])\n",
    "\n",
    "result = np.intersect1d(A,B)\n",
    "print(result)"
   ]
  },
  {
   "cell_type": "code",
   "execution_count": 358,
   "id": "72e97757",
   "metadata": {},
   "outputs": [
    {
     "name": "stdout",
     "output_type": "stream",
     "text": [
      "[[0 2]\n",
      " [1 5]\n",
      " [2 4]\n",
      " [4 2]\n",
      " [5 5]\n",
      " [6 6]\n",
      " [7 4]\n",
      " [8 3]\n",
      " [9 9]]\n"
     ]
    }
   ],
   "source": [
    "#Exercise 5\n",
    "\"\"\"\n",
    "Find the unique elements of this array with the number of times each element appears.\n",
    "In response, print the result to the console as shown below.\n",
    "\"\"\"\n",
    "import numpy as np\n",
    "\n",
    "arr = np.array(\n",
    "    [\n",
    "        [1, 4, 0, 5, 6],\n",
    "        [9, 7, 4, 0, 6],\n",
    "        [1, 9, 6, 7, 9],\n",
    "        [7, 6, 9, 8, 8],\n",
    "        [2, 2, 1, 5, 2],\n",
    "        [9, 7, 5, 5, 9],\n",
    "        [6, 9, 9, 5, 2],\n",
    "        [9, 6, 1, 8, 1],\n",
    "    ],\n",
    "    dtype='int16',\n",
    ")\n",
    "arr = np.unique(arr, return_counts = True)\n",
    "arr1 =  arr[0]\n",
    "arr2 = arr[1]\n",
    "\"\"\"result = np.c_[uniques[0], uniques[1]]\"\"\"\n",
    "result = np.column_stack((arr1,arr2))\n",
    "print(result)"
   ]
  },
  {
   "cell_type": "code",
   "execution_count": 364,
   "id": "12434524",
   "metadata": {},
   "outputs": [
    {
     "name": "stdout",
     "output_type": "stream",
     "text": [
      "[0.  0.1 0.2 0.3 0.4 0.5 0.6 0.7 0.8 0.9 1. ]\n"
     ]
    }
   ],
   "source": [
    "#Exercise 6\n",
    "\"\"\"\n",
    "Using NumPy create a 1-dimensional array (vector) consisting of eleven \n",
    "equally distributed numbers from the [0,1] interval.\n",
    "\"\"\"\n",
    "import numpy as np\n",
    "arr = np.linspace(0,1, 11)\n",
    "print(arr)"
   ]
  },
  {
   "cell_type": "markdown",
   "id": "986f8370",
   "metadata": {},
   "source": [
    "***SECTION 28 - LINEAR ALGEBRA***"
   ]
  },
  {
   "cell_type": "code",
   "execution_count": 366,
   "id": "ecff6e73",
   "metadata": {},
   "outputs": [
    {
     "name": "stdout",
     "output_type": "stream",
     "text": [
      "5.385164807134504\n"
     ]
    }
   ],
   "source": [
    "#Exercise 1\n",
    "\"\"\"\n",
    "Calculate the norm of this vector and print it to the console.\n",
    "\"\"\"\n",
    "import numpy as np\n",
    "\n",
    "v = np.array([3, 4, -2])\n",
    "v = np.linalg.norm(v)\n",
    "print(v)"
   ]
  },
  {
   "cell_type": "code",
   "execution_count": 371,
   "id": "81245916",
   "metadata": {},
   "outputs": [
    {
     "name": "stdout",
     "output_type": "stream",
     "text": [
      "[[  5   6  10]\n",
      " [-18 -12  -4]\n",
      " [ 20  15  10]]\n"
     ]
    }
   ],
   "source": [
    "#Exercise 2\n",
    "\"\"\"\n",
    "Perform matrix multiplication A x B and print the result to the console.\n",
    "\"\"\"\n",
    "import numpy as np\n",
    "\n",
    "A = np.array([[2, 3], [-4, 2], [5, 0]])\n",
    "B = np.array([[4, 3, 2], [-1, 0, 2]])\n",
    "\n",
    "result = np.dot(A,B) #Perform matrix multiplication\n",
    "print(result)"
   ]
  },
  {
   "cell_type": "code",
   "execution_count": 374,
   "id": "9f484e2a",
   "metadata": {},
   "outputs": [
    {
     "name": "stdout",
     "output_type": "stream",
     "text": [
      "51.999999999999986\n"
     ]
    }
   ],
   "source": [
    "#Exercise 3\n",
    "\"\"\"\n",
    "Calculate the determinant of this matrix and print it to the console.\n",
    "\"\"\"\n",
    "import numpy as np\n",
    "\n",
    "arr = np.array(\n",
    "    [\n",
    "        [-2, 0, 4],\n",
    "        [5, 2, -1],\n",
    "        [-4, 2, 4],\n",
    "    ]\n",
    ")\n",
    "\n",
    "arr = np.linalg.det(arr)\n",
    "print(arr)"
   ]
  },
  {
   "cell_type": "code",
   "execution_count": 378,
   "id": "8cc59cfb",
   "metadata": {},
   "outputs": [
    {
     "name": "stdout",
     "output_type": "stream",
     "text": [
      "[-9.24621125 -3.          7.24621125]\n",
      "[[-0.62616472 -0.89442719  0.89015941]\n",
      " [-0.31308236  0.          0.4450797 ]\n",
      " [ 0.71407086  0.4472136  -0.09757197]]\n"
     ]
    }
   ],
   "source": [
    "#Exercise 4\n",
    "\"\"\"\n",
    "Calculate eigenvalues and their corresponding eigenvectors of \n",
    "this matrix and print them to the console as shown below.\n",
    "\"\"\"\n",
    "import numpy as np\n",
    "\n",
    "arr = np.array(\n",
    "    [\n",
    "        [5, 8, 16],\n",
    "        [4, 1, 8],\n",
    "        [-4, 4, -11],\n",
    "    ]\n",
    ")\n",
    "\"\"\"\n",
    "eigenvalues, eigenvectors = np.linalg.eig(arr)\n",
    "\"\"\"\n",
    "arr = np.linalg.eig(arr) #Compute the eigenvalues and right eigenvectors of a square array.\n",
    "print(arr[0])\n",
    "print(arr[1])"
   ]
  },
  {
   "cell_type": "code",
   "execution_count": 379,
   "id": "29c2bf6a",
   "metadata": {},
   "outputs": [
    {
     "name": "stdout",
     "output_type": "stream",
     "text": [
      "[[-0.21393035  0.75621891  0.23880597]\n",
      " [ 0.05970149  0.04477612  0.11940299]\n",
      " [ 0.09950249 -0.25870647 -0.13432836]]\n"
     ]
    }
   ],
   "source": [
    "#Exercise 5\n",
    "\"\"\"\n",
    "Find the inverse matrix to this matrix and print it to the console.\n",
    "\"\"\"\n",
    "import numpy as np\n",
    "\n",
    "arr = np.array(\n",
    "    [\n",
    "        [5, 8, 16],\n",
    "        [4, 1, 8],\n",
    "        [-4, 4, -11],\n",
    "    ]\n",
    ")\n",
    "\n",
    "arr = np.linalg.inv(arr) #Compute the (multiplicative) inverse of a matrix\n",
    "print(arr)"
   ]
  },
  {
   "cell_type": "code",
   "execution_count": 381,
   "id": "24f10611",
   "metadata": {},
   "outputs": [
    {
     "name": "stdout",
     "output_type": "stream",
     "text": [
      "-5\n"
     ]
    }
   ],
   "source": [
    "#Exercise 6\n",
    "\"\"\"\n",
    "Find the trace of this matrix (sum of elements on the main diagonal) and print it to the console.\n",
    "\"\"\"\n",
    "import numpy as np\n",
    "\n",
    "arr = np.array(\n",
    "    [\n",
    "        [5, 8, 16],\n",
    "        [4, 1, 8],\n",
    "        [-4, 4, -11],\n",
    "    ]\n",
    ")\n",
    "\n",
    "arr = np.trace(arr)\n",
    "print(arr)"
   ]
  },
  {
   "cell_type": "code",
   "execution_count": 383,
   "id": "7e739bb4",
   "metadata": {},
   "outputs": [
    {
     "name": "stdout",
     "output_type": "stream",
     "text": [
      "[[  8   6  -2]\n",
      " [ -4  -3   1]\n",
      " [-20 -15   5]]\n"
     ]
    }
   ],
   "source": [
    "#Exercise 7\n",
    "\"\"\"\n",
    "Perform the matrix multiplication A1 * A2. The result will be an array with the\n",
    "shape (3, 3). In response, print the result to the console.\n",
    "\"\"\"\n",
    "import numpy as np\n",
    "\n",
    "A1 = np.array([[2], [-1], [-5]])\n",
    "A2 = np.array([[4, 3, -1]])\n",
    "\n",
    "result = np.matmul(A1,A2) #Matrix product of two arrays.\n",
    "print(result)"
   ]
  },
  {
   "cell_type": "code",
   "execution_count": 385,
   "id": "79a68db6",
   "metadata": {},
   "outputs": [
    {
     "name": "stdout",
     "output_type": "stream",
     "text": [
      "0.0\n"
     ]
    }
   ],
   "source": [
    "#Exercise 8\n",
    "\"\"\"\n",
    "-matrix A1 with the shape (3, 2)\n",
    "-matrix A2 with the shape (2, 3)\n",
    "\n",
    "Perform the matrix multiplication A1 * A2. The result will be an array with the shape (3, 3) \n",
    "and calculate the determinant of the resulting matrix. \n",
    "In response. print this determinant to the consol\n",
    "\"\"\"\n",
    "import numpy as np\n",
    "\n",
    "A1 = np.array([[2, 3], [-1, 4], [-5, 2]])\n",
    "A2 = np.array([[4, 3, -1], [2, 0, 1]])\n",
    "\n",
    "result = np.linalg.det(np.matmul(A1,A2))\n",
    "print(result)"
   ]
  },
  {
   "cell_type": "markdown",
   "id": "3fcc48d2",
   "metadata": {},
   "source": [
    "***SECTION 29 - LINEAR ALGEBRA***"
   ]
  },
  {
   "cell_type": "code",
   "execution_count": 7,
   "id": "76a962bd",
   "metadata": {},
   "outputs": [
    {
     "name": "stdout",
     "output_type": "stream",
     "text": [
      "[[ 8  0  4  2]\n",
      " [18  0 12 22]\n",
      " [23  0 16 32]\n",
      " [18  0 12 22]]\n"
     ]
    }
   ],
   "source": [
    "#Exercise 1\n",
    "\"\"\"\n",
    "Shapes of these arrays:\n",
    "-A - 4x2\n",
    "-B - 1x8\n",
    "Transform array B to perform the matrix multiplication A x B. \n",
    "Then perform this multiplication and print result to the console.\n",
    "\"\"\"\n",
    "import numpy as np\n",
    "\n",
    "A = np.array(\n",
    "    [\n",
    "        [2, 0],\n",
    "        [4, 2],\n",
    "        [5, 3],\n",
    "        [4, 2],\n",
    "    ]\n",
    ")\n",
    "B = np.array([[4, 0, 2, 1, 1, 0, 2, 9]])\n",
    "B = B.reshape(2,4)\n",
    "\n",
    "result = np.matmul(A, B)\n",
    "print(result)"
   ]
  },
  {
   "cell_type": "code",
   "execution_count": 8,
   "id": "44368c02",
   "metadata": {},
   "outputs": [
    {
     "name": "stdout",
     "output_type": "stream",
     "text": [
      "14\n"
     ]
    }
   ],
   "source": [
    "#Exercise 2\n",
    "\"\"\"\n",
    "Using NumPy, calculate the dot product of v1 and v2 vectors. In response, print the result to the console.\n",
    "\"\"\"\n",
    "import numpy as np\n",
    "\n",
    "v1 = np.array([5, -1, 5])\n",
    "v2 = np.array([3, 1, 0])\n",
    "\n",
    "result = np.dot(v1, v2)\n",
    "print(result)"
   ]
  },
  {
   "cell_type": "code",
   "execution_count": 12,
   "id": "31bd4de0",
   "metadata": {},
   "outputs": [
    {
     "name": "stdout",
     "output_type": "stream",
     "text": [
      "7.14142842854285\n",
      "3.1622776601683795\n"
     ]
    }
   ],
   "source": [
    "#Exercise 3\n",
    "\"\"\"\n",
    "Using NumPy, calculate the norm of v1 and v2 vectors. In response, \n",
    "print the result to the console as shown below.\n",
    "\"\"\"\n",
    "import numpy as np\n",
    "\n",
    "v1 = np.array([5, -1, 5])\n",
    "v2 = np.array([3, 1, 0])\n",
    "\n",
    "v1 = np.linalg.norm(v1)\n",
    "v2 = np.linalg.norm(v2)\n",
    "print(v1)\n",
    "print(v2)"
   ]
  },
  {
   "cell_type": "code",
   "execution_count": 17,
   "id": "aa4a0b7d",
   "metadata": {},
   "outputs": [
    {
     "name": "stdout",
     "output_type": "stream",
     "text": [
      "1.5707963267948966\n"
     ]
    }
   ],
   "source": [
    "#Exercise 4\n",
    "\"\"\"\n",
    "Using NumPy, find the angle measure in radians between v1 and v2 vectors.\n",
    "In response, print the result to the console as shown below.\n",
    "\"\"\"\n",
    "import numpy as np\n",
    "\n",
    "v1 = np.array([1, 0, 0])\n",
    "v2 = np.array([0, 1, 0])\n",
    "\n",
    "result = np.arccos(np.dot(v1,v2))\n",
    "print(result)\n",
    "\n",
    "\"\"\"\n",
    "v1_norm = np.linalg.norm(v1)\n",
    "v2_norm = np.linalg.norm(v2)\n",
    " \n",
    "result = np.arccos(np.dot(v1, v2) / (v1_norm * v2_norm))\n",
    "print(result)\n",
    "\"\"\""
   ]
  },
  {
   "cell_type": "code",
   "execution_count": 21,
   "id": "8a3fcfab",
   "metadata": {},
   "outputs": [
    {
     "name": "stdout",
     "output_type": "stream",
     "text": [
      "90.0\n"
     ]
    }
   ],
   "source": [
    "#Exercise 5\n",
    "\"\"\"\n",
    "Using NumPy, calculate the angle measure in degrees between v1 and v2 vectors. \n",
    "In response, print the result to the console as shown below.\n",
    "\"\"\"\n",
    "import numpy as np\n",
    "\n",
    "v1 = np.array([1, 0, 0])\n",
    "v2 = np.array([0, 1, 0])\n",
    "\n",
    "result = np.arccos(np.dot(v1,v2))\n",
    "result = np.degrees(result)\n",
    "print(result)\n",
    "\"\"\"\n",
    "v1_norm = np.linalg.norm(v1)\n",
    "v2_norm = np.linalg.norm(v2)\n",
    " \n",
    "result = np.degrees(np.arccos(np.dot(v1, v2) / (v1_norm * v2_norm)))\n",
    "print(result)\n",
    "\"\"\""
   ]
  },
  {
   "cell_type": "code",
   "execution_count": 29,
   "id": "7ad7168f",
   "metadata": {},
   "outputs": [
    {
     "name": "stdout",
     "output_type": "stream",
     "text": [
      "True\n"
     ]
    }
   ],
   "source": [
    "#Exercise 6\n",
    "\"\"\"\n",
    "Using NumPy, check if the vectors v1 and v2 satisfy the Pythagorean theorem equation.\n",
    "\n",
    "Where ||u|| stands for the norm of the vector u. In response, print True or False as appropriate.\n",
    "\"\"\"\n",
    "import numpy as np\n",
    "\n",
    "u = np.array([1, 0, 0])\n",
    "v = np.array([0, 1, 0])\n",
    "\n",
    "is_orthogonal = np.dot(u + v, u + v) == np.dot(u, u) + np.dot(v, v)\n",
    "print(is_orthogonal)\n"
   ]
  },
  {
   "cell_type": "code",
   "execution_count": 39,
   "id": "cdec4377",
   "metadata": {},
   "outputs": [
    {
     "name": "stdout",
     "output_type": "stream",
     "text": [
      "[0.63082612 0.50151105 0.4894621 ]\n"
     ]
    }
   ],
   "source": [
    "#Exercise 7\n",
    "\"\"\"\n",
    "Compute the 50-th percentile (median) of the data along the columns and print the result to the console.\n",
    "\"\"\"\n",
    "import numpy as np\n",
    "\n",
    "arr = np.array(\n",
    "    [\n",
    "        [0.94977903, 0.56168686, 0.17878052],\n",
    "        [0.77025193, 0.49238104, 0.63125307],\n",
    "        [0.83949792, 0.4610394, 0.49794007],\n",
    "        [0.67941112, 0.65078591, 0.26879524],\n",
    "        [0.06732467, 0.77144514, 0.48098413],\n",
    "        [0.32920641, 0.51064106, 0.26362883],\n",
    "        [0.31051155, 0.62685344, 0.55744981],\n",
    "        [0.31857956, 0.39484322, 0.25797459],\n",
    "        [0.58224112, 0.16162871, 0.59813382],\n",
    "        [0.82582358, 0.15639172, 0.73430052],\n",
    "    ]\n",
    ")\n",
    "result = np.median(arr, axis = 0)\n",
    "print(result)\n",
    "\n",
    "\"\"\"\n",
    "p = np.percentile(arr, 50, axis=0)\n",
    "print(p)\n",
    "\"\"\""
   ]
  },
  {
   "cell_type": "markdown",
   "id": "5487f98c",
   "metadata": {},
   "source": [
    "***SECTION 30 - POLYOMIALS & SYSTEM OF EQUATIONS***"
   ]
  },
  {
   "cell_type": "code",
   "execution_count": 41,
   "id": "199adb27",
   "metadata": {},
   "outputs": [
    {
     "name": "stdout",
     "output_type": "stream",
     "text": [
      "[-1.   -0.25]\n"
     ]
    }
   ],
   "source": [
    "#Exercise 1\n",
    "\"\"\"\n",
    "Calculate the roots of the following polynomial:\n",
    "w(x) = 4x^2 + 5x + 1\n",
    "\"\"\"\n",
    "import numpy as np\n",
    "\n",
    "coeff = [4,5,1]\n",
    "result = np.roots(coeff) #Return the roots of a polynomial with coefficients given in p.\n",
    "print(result)\n",
    "\n",
    "\"\"\"\n",
    "W = np.array([4, 5, 1])\n",
    "roots = np.roots(W)\n",
    "print(roots)\n",
    "\"\"\""
   ]
  },
  {
   "cell_type": "code",
   "execution_count": 45,
   "id": "b560533f",
   "metadata": {},
   "outputs": [
    {
     "name": "stdout",
     "output_type": "stream",
     "text": [
      "[-2.91610583  0.65388685  0.26221898]\n",
      "[-1.67298165  1.46961743  0.20336421]\n"
     ]
    }
   ],
   "source": [
    "#Exercise 2\n",
    "\"\"\"\n",
    "Calculate the roots of the following polynomials:\n",
    "-Q(x) = 2x^3  + 4x^2 + 5x + 1\n",
    "-R(x) = 2x^3 -5x + 1\n",
    "\"\"\"\n",
    "import numpy as np\n",
    "\n",
    "Q = np.array([2,4,-5,1])\n",
    "R = np.array([2,0,-5,1])\n",
    "\n",
    "Q = np.roots(Q)\n",
    "R = np.roots(R)\n",
    "\n",
    "print(Q)\n",
    "print(R)"
   ]
  },
  {
   "cell_type": "code",
   "execution_count": 56,
   "id": "33281eb1",
   "metadata": {},
   "outputs": [
    {
     "name": "stdout",
     "output_type": "stream",
     "text": [
      "[2 8 0 2]\n",
      "[-2  0 10  0]\n",
      "[  8  26   2 -17   0   1]\n",
      "[ 4 12 -5  3]\n"
     ]
    }
   ],
   "source": [
    "#Exercise 3\n",
    "\"\"\"\n",
    "Perform the following operations and print results to the console as shown below:\n",
    "\"\"\"\n",
    "Q = np.array([4,5,1])\n",
    "R = np.array([2,4,-5,1])\n",
    "\n",
    "result1 = np.polyadd(Q,R)\n",
    "result2 = np.polysub(Q,R)\n",
    "result3 = np.polymul(Q,R)\n",
    "result4 = np.polyadd(Q, (2*R))\n",
    "print(result1)\n",
    "print(result2)\n",
    "print(result3)\n",
    "print(result4)"
   ]
  },
  {
   "cell_type": "code",
   "execution_count": 18,
   "id": "33233c0c",
   "metadata": {},
   "outputs": [
    {
     "name": "stdout",
     "output_type": "stream",
     "text": [
      "x = 3.00\n",
      "y = -2.00\n"
     ]
    }
   ],
   "source": [
    "#Exercise 4\n",
    "\"\"\"\n",
    "Using NumPy, solve the following system of equations:\n",
    "a. 5x - 3y = 21\n",
    "a. x -2y = 7\n",
    "\"\"\"\n",
    "import numpy as np\n",
    "\n",
    "A = np.array(([[5,-3], [1,-2]]), dtype = 'float')\n",
    "B = np.array(([21,7]), dtype = 'float')\n",
    "A, B = np.linalg.solve(A,B)\n",
    "print(f'x = {A:.2f}\\ny = {B:.2f}')"
   ]
  },
  {
   "cell_type": "code",
   "execution_count": 49,
   "id": "158226be",
   "metadata": {},
   "outputs": [
    {
     "name": "stdout",
     "output_type": "stream",
     "text": [
      "x = 0.50\n",
      "y = 0.88\n",
      "z = -0.38\n"
     ]
    }
   ],
   "source": [
    "#Exercise 5\n",
    "import numpy as np\n",
    "\"\"\"\n",
    "Using NumPy, solve the following system of equations:\n",
    "-x + y +z = 1\n",
    "-2x + y + 5z = 0\n",
    "-x - y = z\n",
    "\"\"\"\n",
    "A = np.array([[1,1,1],[2,1,5],[1,-1,-1]])\n",
    "B = np.array([1,0,0])\n",
    "result = np.linalg.solve(A,B).round(2)\n",
    "print(f'x = {result[0]:.2f}\\ny = {result[1]}\\nz = {result[2]}')"
   ]
  },
  {
   "cell_type": "code",
   "execution_count": 41,
   "id": "06711cd4",
   "metadata": {},
   "outputs": [
    {
     "name": "stdout",
     "output_type": "stream",
     "text": [
      "3.0 - 4.0 x**1 + 2.0 x**2\n",
      "10.0 + 0.0 x**1 + 2.0 x**2 + 4.0 x**3\n"
     ]
    }
   ],
   "source": [
    "#Exercise 6\n",
    "from numpy.polynomial import Polynomial as P\n",
    "import numpy as np\n",
    "\"\"\"\n",
    "Using the Polynomial class from the numpy.polymonial package create the following polynomials:\n",
    "-p(x) = 3.0 - 4.0·x¹ + 2.0·x², with default domain [-1, 1]\n",
    "-q(x) = 10.0 + 0.0·x¹ + 2.0·x² + 4.0·x³, with default domain [-1, 1]\n",
    "In response, print these polynomials to the console as shown below.\n",
    "\"\"\"\n",
    "poly1 = np.array([3, -4, 2], dtype = 'float')\n",
    "p1 = np.polynomial.Polynomial(poly1, domain=[-1, 1])\n",
    "\n",
    "poly2 = np.array([10, 0, 2, 4], dtype = 'float')\n",
    "p2 = np.polynomial.Polynomial(poly2, domain=[-1,1])\n",
    "\n",
    "print(p1)\n",
    "print(p2)\n",
    "\n",
    "\"\"\"ANOTHER WAY\n",
    "p = P([3, -4, 2])\n",
    "q = P([10, 0, 2, 4])\n",
    " \n",
    "print(p)\n",
    "print(q)\n",
    "\"\"\"\n"
   ]
  },
  {
   "cell_type": "code",
   "execution_count": 48,
   "id": "4eda8347",
   "metadata": {},
   "outputs": [
    {
     "name": "stdout",
     "output_type": "stream",
     "text": [
      "[-1.   1.5]\n"
     ]
    }
   ],
   "source": [
    "#Exercise 7\n",
    "\"\"\"\n",
    "Using the Polynomial class from the numpy.polymonial package create the following polynomials:\n",
    "-p(x) = 4.0 - 4.0·x¹ + 1.0·x², with default domain [-1, 1]\n",
    "-q(x) = 2.0 + 6.0·x¹ - 5.0·x², with default domain [-1, 1]\n",
    "Find a new polynomial r(x) = p(x) + q(x). Then, calculate the roots of the polynomial r(x) and print result to the console.\n",
    "\"\"\"\n",
    "from numpy.polynomial import Polynomial as P\n",
    "import numpy as np\n",
    "\n",
    "\n",
    "p = P([4,-4,1])\n",
    "q = P([2,6,-5])\n",
    "\n",
    "r = p + q\n",
    "result = P.roots(r)\n",
    "print(result)"
   ]
  },
  {
   "cell_type": "markdown",
   "id": "b52d45d5",
   "metadata": {},
   "source": [
    "***SECTION 31 - ARRAYS WITH CHARACTERS***"
   ]
  },
  {
   "cell_type": "code",
   "execution_count": 61,
   "id": "f57e2415",
   "metadata": {},
   "outputs": [
    {
     "name": "stdout",
     "output_type": "stream",
     "text": [
      "['001XC' '002YC' '003ZC']\n"
     ]
    }
   ],
   "source": [
    "#Exercise 1\n",
    "\"\"\"\n",
    "Merge them together as shown below and print result to the console.\n",
    "\"\"\"\n",
    "import numpy as np\n",
    "\n",
    "A = np.array(['001', '002', '003'], dtype='str')\n",
    "B = np.array(['XC', 'YC', 'ZC'], dtype='str')\n",
    "\n",
    "result = np.char.add(A,B) #Merge two strings arrays\n",
    "print(result) "
   ]
  },
  {
   "cell_type": "code",
   "execution_count": 84,
   "id": "7310d995",
   "metadata": {},
   "outputs": [
    {
     "name": "stdout",
     "output_type": "stream",
     "text": [
      "['0001' '0002' '0003']\n"
     ]
    }
   ],
   "source": [
    "#Exercise 2\n",
    "\"\"\"\n",
    "Add '000' (3 zeros) at the beginning of each element of this array \n",
    "as shown below and print the result to the console.\n",
    "\"\"\"\n",
    "import numpy as np\n",
    "\n",
    "A = np.array(['1', '2', '3'], dtype='str')\n",
    "\n",
    "result = np.char.add(['000'],A)\n",
    "result2 = np.char.rjust(A, 4, '0')\n",
    "result3 = np.char.zfill(A,4)\n",
    "print(result3)\n"
   ]
  },
  {
   "cell_type": "code",
   "execution_count": 86,
   "id": "f217fc7c",
   "metadata": {},
   "outputs": [
    {
     "name": "stdout",
     "output_type": "stream",
     "text": [
      "[[list(['PLW', 'CDR', '11B', 'TEN']) list(['AMC', 'LPP'])]\n",
      " [list(['CDR', 'PKO', 'KGH']) list(['CCC', 'QMK'])]]\n"
     ]
    }
   ],
   "source": [
    "#Exercise 3\n",
    "\"\"\"\n",
    "Split each element of this array by space character as shown below.\n",
    "\"\"\"\n",
    "import numpy as np\n",
    "\n",
    "A = np.array(\n",
    "    [\n",
    "        ['PLW CDR 11B TEN', 'AMC LPP'],\n",
    "        ['CDR PKO KGH', 'CCC QMK'],\n",
    "    ],\n",
    "    dtype='str',\n",
    ")\n",
    "result = np.char.split(A) #For each element in a, return a list of the words in the string, \n",
    "#using sep as the delimiter string.\n",
    "print(result)"
   ]
  },
  {
   "cell_type": "code",
   "execution_count": 92,
   "id": "3c51c0ee",
   "metadata": {},
   "outputs": [
    {
     "name": "stdout",
     "output_type": "stream",
     "text": [
      "[['summer time mood']\n",
      " ['sport time']]\n"
     ]
    }
   ],
   "source": [
    "#Exercise 4\n",
    "\"\"\"\n",
    "Replace all # characters with spaces and then strip all unnecessary white characters around\n",
    "the text as shown below. \n",
    "In response, print this array to the console.\n",
    "\"\"\"\n",
    "import numpy as np\n",
    "\n",
    "A = np.array([['#summer#time#mood'], ['#sport#time']])\n",
    "\n",
    "result = np.char.strip(np.char.replace(A,'#',' '))\n",
    "#For each element in a, return a copy with the leading and trailing characters removed.\n",
    "#For each element in a, return a copy of the string with all occurrences of substring old replaced by new.\n",
    "print(result)"
   ]
  },
  {
   "cell_type": "code",
   "execution_count": 96,
   "id": "cbf5cf65",
   "metadata": {},
   "outputs": [
    {
     "name": "stdout",
     "output_type": "stream",
     "text": [
      "[[1 0]\n",
      " [1 1]\n",
      " [0 0]]\n"
     ]
    }
   ],
   "source": [
    "#Exercise 5\n",
    "\"\"\"\n",
    "Count the number of occurrences of the word 'time' in each element of this array.\n",
    "\"\"\"\n",
    "import numpy as np\n",
    "\n",
    "A = np.array(\n",
    "    [\n",
    "        ['#summer#time#mood', '#vibe'],\n",
    "        ['#sport#time', '#good#time'],\n",
    "        ['#event#summer', '#fast#move'],\n",
    "    ]\n",
    ")\n",
    "\n",
    "result = np.char.count(A, 'time')\n",
    "#Returns an array with the number of non-overlapping occurrences of substring sub in the range [start, end].\n",
    "print(result)"
   ]
  },
  {
   "cell_type": "code",
   "execution_count": 98,
   "id": "376f7526",
   "metadata": {},
   "outputs": [
    {
     "name": "stdout",
     "output_type": "stream",
     "text": [
      "[['00' '01' '02' '03' '04']\n",
      " ['05' '06' '07' '08' '09']\n",
      " ['10' '11' '12' '13' '14']\n",
      " ['15' '16' '17' '18' '19']\n",
      " ['20' '21' '22' '23' '24']\n",
      " ['25' '26' '27' '28' '29']\n",
      " ['30' '31' '32' '33' '34']\n",
      " ['35' '36' '37' '38' '39']\n",
      " ['40' '41' '42' '43' '44']\n",
      " ['45' '46' '47' '48' '49']]\n"
     ]
    }
   ],
   "source": [
    "#Exercise 6\n",
    "import numpy as np\n",
    "\n",
    "A = np.arange(0, 50).reshape(10, -1)\n",
    "A = np.char.rjust(A.astype('str'), width=2, fillchar='0')\n",
    "print(A)"
   ]
  },
  {
   "cell_type": "code",
   "execution_count": 102,
   "id": "60278813",
   "metadata": {},
   "outputs": [
    {
     "name": "stdout",
     "output_type": "stream",
     "text": [
      "['003_image.jpg' '043_image.jpg' '060_image.jpg' '098_image.jpg'\n",
      " '004_image.jpg' '001_image.jpg' '035_image.jpg' '055_image.jpg'\n",
      " '100_image.jpg']\n"
     ]
    }
   ],
   "source": [
    "#Exercise 7\n",
    "\"\"\"\n",
    "Extract all filenames that end with '.jpg' and print it to the console.\n",
    "\"\"\"\n",
    "import numpy as np\n",
    "\n",
    "filenames = np.array(\n",
    "    [\n",
    "        [\n",
    "            '003_image.jpg',\n",
    "            '043_image.jpg',\n",
    "            '060_image.jpg',\n",
    "            '002_image.png',\n",
    "        ],\n",
    "        [\n",
    "            '098_image.jpg',\n",
    "            '023_image.png',\n",
    "            '004_image.jpg',\n",
    "            '001_image.jpg',\n",
    "        ],\n",
    "        [\n",
    "            '035_image.jpg',\n",
    "            '055_image.jpg',\n",
    "            '009_image.png',\n",
    "            '100_image.jpg',\n",
    "        ],\n",
    "    ]\n",
    ")\n",
    "\n",
    "result = filenames[np.char.endswith(filenames, '.jpg')]\n",
    "print(result)\n",
    "#Returns a boolean array which is True where the string element in a ends with suffix, otherwise False.\n",
    "#Calls str.endswith element-wise.\n"
   ]
  },
  {
   "cell_type": "code",
   "execution_count": 117,
   "id": "0209862b",
   "metadata": {},
   "outputs": [
    {
     "name": "stdout",
     "output_type": "stream",
     "text": [
      "[['ALIOR' 'PLALIOR00045' '88860000' '1386216000' '0.891' '2.16' '14']\n",
      " ['CCC' 'PLCCC0000016' '27918000' '1292603400' '0.831' '5.28' '42']\n",
      " ['CDPROJEKT' 'PLOPTTC00011' '67348000' '22864646000' '14.702' '7.39' '7']\n",
      " ['DINOPL' 'PLDINPL00011' '47937000' '8916282000' '5.733' '9.13' '12']\n",
      " ['JSW' 'PLJSW0000015' '52636000' '716902320' '0.461' '1.51' '24']\n",
      " ['KGHM' 'PLKGHM000017' '136410000' '9881540400' '6.354' '4.78' '8']]\n"
     ]
    }
   ],
   "source": [
    "#Exercise 8\n",
    "\"\"\"\n",
    "Remove all spaces from the text and replace all commas with periods. \n",
    "In response, print this array to the console.\n",
    "\"\"\"\n",
    "import numpy as np\n",
    "\n",
    "np.set_printoptions(linewidth=150)\n",
    "stocks = np.array(\n",
    "    [\n",
    "        [\n",
    "            'ALIOR',\n",
    "            'PLALIOR00045',\n",
    "            '88 860 000',\n",
    "            '1 386 216 000',\n",
    "            '0,891',\n",
    "            '2,16',\n",
    "            '14',\n",
    "        ],\n",
    "        [\n",
    "            'CCC',\n",
    "            'PLCCC0000016',\n",
    "            '27 918 000',\n",
    "            '1 292 603 400',\n",
    "            '0,831',\n",
    "            '5,28',\n",
    "            '42',\n",
    "        ],\n",
    "        [\n",
    "            'CDPROJEKT',\n",
    "            'PLOPTTC00011',\n",
    "            '67 348 000',\n",
    "            '22 864 646 000',\n",
    "            '14,702',\n",
    "            '7,39',\n",
    "            '7',\n",
    "        ],\n",
    "        [\n",
    "            'DINOPL',\n",
    "            'PLDINPL00011',\n",
    "            '47 937 000',\n",
    "            '8 916 282 000',\n",
    "            '5,733',\n",
    "            '9,13',\n",
    "            '12',\n",
    "        ],\n",
    "        [\n",
    "            'JSW',\n",
    "            'PLJSW0000015',\n",
    "            '52 636 000',\n",
    "            '716 902 320',\n",
    "            '0,461',\n",
    "            '1,51',\n",
    "            '24',\n",
    "        ],\n",
    "        [\n",
    "            'KGHM',\n",
    "            'PLKGHM000017',\n",
    "            '136 410 000',\n",
    "            '9 881 540 400',\n",
    "            '6,354',\n",
    "            '4,78',\n",
    "            '8',\n",
    "        ],\n",
    "    ],\n",
    "    dtype='<U14',\n",
    ")\n",
    "A = np.char.replace(stocks, ' ', '')\n",
    "B = np.char.replace(A, ',','.')\n",
    "#result = np.char.strip(np.char.replace(stocks, ',', '.'))\n",
    "print(B)"
   ]
  },
  {
   "cell_type": "code",
   "execution_count": 144,
   "id": "61200794",
   "metadata": {},
   "outputs": [
    {
     "name": "stdout",
     "output_type": "stream",
     "text": [
      "[['Date' 'Open' 'High' 'Low' 'Close' 'Volume']\n",
      " ['2020-03-02' '305' '324.5' '283.5' '310' '64081']\n",
      " ['2020-03-03' '325.5' '340.5' '320' '340.5' '55496']\n",
      " ['2020-03-04' '324' '340.5' '315' '330' '36152']\n",
      " ['2020-03-05' '344' '344' '310' '315' '35992']\n",
      " ['2020-03-06' '306.5' '307' '291' '305' '32539']\n",
      " ['2020-03-09' '274' '291' '250' '258' '79402']\n",
      " ['2020-03-10' '278' '284.5' '256' '264' '35700']\n",
      " ['2020-03-11' '270' '270' '238.5' '245' '60445']\n",
      " ['2020-03-12' '218' '228' '196' '197' '94031']\n",
      " ['2020-03-13' '210' '229' '198.8' '211' '100412']\n",
      " ['2020-03-16' '205' '248' '197.8' '240.5' '50659']\n",
      " ['2020-03-17' '245' '269' '232.5' '264' '99480']\n",
      " ['2020-03-18' '264' '280' '251' '270' '70136']\n",
      " ['2020-03-19' '267' '280' '267' '279.5' '30732']\n",
      " ['2020-03-20' '297.5' '307' '280' '280.5' '43426']\n",
      " ['2020-03-23' '274' '289' '258' '285' '37098']\n",
      " ['2020-03-24' '305' '309' '296.5' '309' '31939']\n",
      " ['2020-03-25' '313' '330' '295' '304' '46724']\n",
      " ['2020-03-26' '300' '309' '295.5' '300' '27213']\n",
      " ['2020-03-27' '302' '306.5' '290' '296' '13466']\n",
      " ['2020-03-30' '299' '300' '287' '300' '10316']\n",
      " ['2020-03-31' '302.5' '309' '302' '306.5' '15698']]\n"
     ]
    },
    {
     "name": "stderr",
     "output_type": "stream",
     "text": [
      "C:\\Users\\JUANPABLOGASCA\\AppData\\Local\\Temp\\ipykernel_21916\\836770801.py:38: DeprecationWarning: `np.str` is a deprecated alias for the builtin `str`. To silence this warning, use `str` by itself. Doing this will not modify any behavior and is safe. If you specifically wanted the numpy scalar type, use `np.str_` here.\n",
      "Deprecated in NumPy 1.20; for more details and guidance: https://numpy.org/devdocs/release/1.20.0-notes.html#deprecations\n",
      "  playway = np.array(lines, dtype=np.str)\n"
     ]
    }
   ],
   "source": [
    "#Exercise 9\n",
    "\"\"\"\n",
    "Create an array from this string as shown below and assign to the playway variable. \n",
    "In response, print this array to the console.\n",
    "\"\"\"\n",
    "import numpy as np\n",
    "\n",
    "\n",
    "playway_raw = \"\"\"Date,Open,High,Low,Close,Volume\n",
    "2020-03-02,305,324.5,283.5,310,64081\n",
    "2020-03-03,325.5,340.5,320,340.5,55496\n",
    "2020-03-04,324,340.5,315,330,36152\n",
    "2020-03-05,344,344,310,315,35992\n",
    "2020-03-06,306.5,307,291,305,32539\n",
    "2020-03-09,274,291,250,258,79402\n",
    "2020-03-10,278,284.5,256,264,35700\n",
    "2020-03-11,270,270,238.5,245,60445\n",
    "2020-03-12,218,228,196,197,94031\n",
    "2020-03-13,210,229,198.8,211,100412\n",
    "2020-03-16,205,248,197.8,240.5,50659\n",
    "2020-03-17,245,269,232.5,264,99480\n",
    "2020-03-18,264,280,251,270,70136\n",
    "2020-03-19,267,280,267,279.5,30732\n",
    "2020-03-20,297.5,307,280,280.5,43426\n",
    "2020-03-23,274,289,258,285,37098\n",
    "2020-03-24,305,309,296.5,309,31939\n",
    "2020-03-25,313,330,295,304,46724\n",
    "2020-03-26,300,309,295.5,300,27213\n",
    "2020-03-27,302,306.5,290,296,13466\n",
    "2020-03-30,299,300,287,300,10316\n",
    "2020-03-31,302.5,309,302,306.5,15698\"\"\"\n",
    "\n",
    "lines = playway_raw.splitlines() #splitlines\n",
    "#print(lines)\n",
    "lines = [line.split(',') for line in lines]\n",
    "#comprensión de lista\" y se utiliza para crear una lista nueva a partir de otra lista o iterable.\n",
    "#print(lines)\n",
    "playway = np.array(lines, dtype=np.str)\n",
    "print(playway)"
   ]
  },
  {
   "cell_type": "markdown",
   "id": "b4647d6c",
   "metadata": {},
   "source": [
    "***SECTION 32 - ARRAY'S WITH CHARACTERS***"
   ]
  },
  {
   "cell_type": "code",
   "execution_count": 164,
   "id": "d49c2e25",
   "metadata": {},
   "outputs": [
    {
     "name": "stdout",
     "output_type": "stream",
     "text": [
      "[['PEKAO' '9619710660' '6.185' '5.27' '9']\n",
      " ['PGE' '3561588720' '2.290' '2.88' '18']\n",
      " ['PGNIG' '6072784704' '3.905' '1.56' '12']\n",
      " ['PKNORLEN' '17701360760' '11.382' '12.44' '8']\n",
      " ['PKOBP' '18807014490' '12.093' '10.49' '9']\n",
      " ['PLAY' '3696209380' '2.377' '1.47' '16']\n",
      " ['PZU' '17515160100' '11.262' '6.64' '6']]\n"
     ]
    }
   ],
   "source": [
    "#Exercise 1\n",
    "\"\"\"\n",
    "Extract all rows with the company name starting with the letter 'P' \n",
    "and assign to the results variable. In response, print this variable to the console.\n",
    "\n",
    "\"\"\"\n",
    "import numpy as np\n",
    "np.set_printoptions(linewidth=150)\n",
    "stocks = np.array(\n",
    "    [\n",
    "        ['ALIOR', '1386216000', '0.891', '2.16', '14'],\n",
    "        ['CCC', '1292603400', '0.831', '5.28', '42'],\n",
    "        ['CDPROJEKT', '22864646000', '14.702', '7.39', '7'],\n",
    "        ['CYFRPLSAT', '6854994900', '4.408', '1.17', '14'],\n",
    "        ['DINOPL', '8916282000', '5.733', '9.13', '12'],\n",
    "        ['JSW', '716902320', '0.461', '1.51', '24'],\n",
    "        ['KGHM', '9881540400', '6.354', '4.78', '8'],\n",
    "        ['LOTOS', '5609717260', '3.607', '2.91', '16'],\n",
    "        ['LPP', '7444200000', '4.787', '1.43', '19'],\n",
    "        ['MBANK', '2830746600', '1.820', '0.42', '24'],\n",
    "        ['ORANGEPL', '4285503340', '2.756', '1.16', '13'],\n",
    "        ['PEKAO', '9619710660', '6.185', '5.27', '9'],\n",
    "        ['PGE', '3561588720', '2.290', '2.88', '18'],\n",
    "        ['PGNIG', '6072784704', '3.905', '1.56', '12'],\n",
    "        ['PKNORLEN', '17701360760', '11.382', '12.44', '8'],\n",
    "        ['PKOBP', '18807014490', '12.093', '10.49', '9'],\n",
    "        ['PLAY', '3696209380', '2.377', '1.47', '16'],\n",
    "        ['PZU', '17515160100', '11.262', '6.64', '6'],\n",
    "        ['SANPL', '5213499000', '3.352', '1.91', '18'],\n",
    "        ['TAURONPE', '1252308000', '0.805', '1.21', '33'],\n",
    "    ],\n",
    "    dtype='<U12',\n",
    ")\n",
    "\n",
    "result = stocks[np.char.startswith(stocks[:, 0], 'P')]\n",
    "print(result)"
   ]
  },
  {
   "cell_type": "code",
   "execution_count": 179,
   "id": "dc56bfad",
   "metadata": {},
   "outputs": [
    {
     "name": "stdout",
     "output_type": "stream",
     "text": [
      "76973828814.0\n"
     ]
    }
   ],
   "source": [
    "#Exercise 2\n",
    "\"\"\"\n",
    "Calculate the total trading volume of these companies (second column) and print it to the console.\n",
    "\"\"\"\n",
    "import numpy as np\n",
    "\n",
    "np.set_printoptions(linewidth=150)\n",
    "stocks = np.array(\n",
    "    [\n",
    "        ['PEKAO', '9619710660', '6.185', '5.27', '9'],\n",
    "        ['PGE', '3561588720', '2.290', '2.88', '18'],\n",
    "        ['PGNIG', '6072784704', '3.905', '1.56', '12'],\n",
    "        ['PKNORLEN', '17701360760', '11.382', '12.44', '8'],\n",
    "        ['PKOBP', '18807014490', '12.093', '10.49', '9'],\n",
    "        ['PLAY', '3696209380', '2.377', '1.47', '16'],\n",
    "        ['PZU', '17515160100', '11.262', '6.64', '6'],\n",
    "    ],\n",
    "    dtype='<U12',\n",
    ")\n",
    "result = np.sum(stocks[:,1].astype(float))\n",
    "print(result)"
   ]
  },
  {
   "cell_type": "code",
   "execution_count": 189,
   "id": "f2e19b67",
   "metadata": {},
   "outputs": [
    {
     "name": "stdout",
     "output_type": "stream",
     "text": [
      "[[   305.     324.5    283.5    310.   64081. ]\n",
      " [   325.5    340.5    320.     340.5  55496. ]\n",
      " [   324.     340.5    315.     330.   36152. ]\n",
      " [   344.     344.     310.     315.   35992. ]\n",
      " [   306.5    307.     291.     305.   32539. ]\n",
      " [   274.     291.     250.     258.   79402. ]\n",
      " [   278.     284.5    256.     264.   35700. ]\n",
      " [   270.     270.     238.5    245.   60445. ]\n",
      " [   218.     228.     196.     197.   94031. ]\n",
      " [   210.     229.     198.8    211.  100412. ]\n",
      " [   205.     248.     197.8    240.5  50659. ]\n",
      " [   245.     269.     232.5    264.   99480. ]\n",
      " [   264.     280.     251.     270.   70136. ]\n",
      " [   267.     280.     267.     279.5  30732. ]\n",
      " [   297.5    307.     280.     280.5  43426. ]\n",
      " [   274.     289.     258.     285.   37098. ]\n",
      " [   305.     309.     296.5    309.   31939. ]\n",
      " [   313.     330.     295.     304.   46724. ]\n",
      " [   300.     309.     295.5    300.   27213. ]\n",
      " [   302.     306.5    290.     296.   13466. ]\n",
      " [   299.     300.     287.     300.   10316. ]\n",
      " [   302.5    309.     302.     306.5  15698. ]]\n"
     ]
    }
   ],
   "source": [
    "#Exercise 3\n",
    "\"\"\"\n",
    "Delete the 'Date' column. Then remove the headers and assign result to the playway_values variable. \n",
    "Convert this array to the float data type and print result to the console.\n",
    "\"\"\"\n",
    "import numpy as np\n",
    "\n",
    "playway = np.array(\n",
    "    [\n",
    "        ['Date', 'Open', 'High', 'Low', 'Close', 'Volume'],\n",
    "        ['2020-03-02', '305', '324.5', '283.5', '310', '64081'],\n",
    "        ['2020-03-03', '325.5', '340.5', '320', '340.5', '55496'],\n",
    "        ['2020-03-04', '324', '340.5', '315', '330', '36152'],\n",
    "        ['2020-03-05', '344', '344', '310', '315', '35992'],\n",
    "        ['2020-03-06', '306.5', '307', '291', '305', '32539'],\n",
    "        ['2020-03-09', '274', '291', '250', '258', '79402'],\n",
    "        ['2020-03-10', '278', '284.5', '256', '264', '35700'],\n",
    "        ['2020-03-11', '270', '270', '238.5', '245', '60445'],\n",
    "        ['2020-03-12', '218', '228', '196', '197', '94031'],\n",
    "        ['2020-03-13', '210', '229', '198.8', '211', '100412'],\n",
    "        ['2020-03-16', '205', '248', '197.8', '240.5', '50659'],\n",
    "        ['2020-03-17', '245', '269', '232.5', '264', '99480'],\n",
    "        ['2020-03-18', '264', '280', '251', '270', '70136'],\n",
    "        ['2020-03-19', '267', '280', '267', '279.5', '30732'],\n",
    "        ['2020-03-20', '297.5', '307', '280', '280.5', '43426'],\n",
    "        ['2020-03-23', '274', '289', '258', '285', '37098'],\n",
    "        ['2020-03-24', '305', '309', '296.5', '309', '31939'],\n",
    "        ['2020-03-25', '313', '330', '295', '304', '46724'],\n",
    "        ['2020-03-26', '300', '309', '295.5', '300', '27213'],\n",
    "        ['2020-03-27', '302', '306.5', '290', '296', '13466'],\n",
    "        ['2020-03-30', '299', '300', '287', '300', '10316'],\n",
    "        ['2020-03-31', '302.5', '309', '302', '306.5', '15698'],\n",
    "    ],\n",
    "    dtype='<U10',\n",
    ")\n",
    "result1 = np.delete(playway, 0, 1)\n",
    "result2 = np.delete(result1,0, 0).astype('float')\n",
    "print(result2)"
   ]
  },
  {
   "cell_type": "code",
   "execution_count": 10,
   "id": "59a6ff1c",
   "metadata": {},
   "outputs": [
    {
     "name": "stdout",
     "output_type": "stream",
     "text": [
      "[['00' '01' '02' '03' '04']\n",
      " ['05' '06' '07' '08' '09']\n",
      " ['10' '11' '12' '13' '14']\n",
      " ['15' '16' '17' '18' '19']\n",
      " ['20' '21' '22' '23' '24']\n",
      " ['25' '26' '27' '28' '29']\n",
      " ['30' '31' '32' '33' '34']\n",
      " ['35' '36' '37' '38' '39']\n",
      " ['40' '41' '42' '43' '44']\n",
      " ['45' '46' '47' '48' '49']]\n"
     ]
    }
   ],
   "source": [
    "#Exercise 4\n",
    "\"\"\"\n",
    "which represents the seat numbers on a passenger plane. \n",
    "In response, print this array to the console.\n",
    "\"\"\"\n",
    "\"\"\"\n",
    "\n",
    "A = np.arange(0, 50).reshape(10, -1)\n",
    "A = np.char.rjust(A.astype('str'), width=2, fillchar='0')\n",
    "\"\"\"\n",
    "import numpy as np\n",
    "\n",
    "A = np.arange(0, 50).reshape(10, -1)\n",
    "A = np.char.rjust(A.astype('str'), width=2, fillchar='0')\n",
    "print(A)"
   ]
  },
  {
   "cell_type": "code",
   "execution_count": 13,
   "id": "d142609e",
   "metadata": {},
   "outputs": [
    {
     "name": "stdout",
     "output_type": "stream",
     "text": [
      "[['A1' 'B1' 'C1' 'D1' 'E1' 'F1']\n",
      " ['A2' 'B2' 'C2' 'D2' 'E2' 'F2']\n",
      " ['A3' 'B3' 'C3' 'D3' 'E3' 'F3']\n",
      " ['A4' 'B4' 'C4' 'D4' 'E4' 'F4']\n",
      " ['A5' 'B5' 'C5' 'D5' 'E5' 'F5']\n",
      " ['A6' 'B6' 'C6' 'D6' 'E6' 'F6']\n",
      " ['A7' 'B7' 'C7' 'D7' 'E7' 'F7']\n",
      " ['A8' 'B8' 'C8' 'D8' 'E8' 'F8']\n",
      " ['A9' 'B9' 'C9' 'D9' 'E9' 'F9']\n",
      " ['A10' 'B10' 'C10' 'D10' 'E10' 'F10']\n",
      " ['A11' 'B11' 'C11' 'D11' 'E11' 'F11']\n",
      " ['A12' 'B12' 'C12' 'D12' 'E12' 'F12']\n",
      " ['A13' 'B13' 'C13' 'D13' 'E13' 'F13']\n",
      " ['A14' 'B14' 'C14' 'D14' 'E14' 'F14']\n",
      " ['A15' 'B15' 'C15' 'D15' 'E15' 'F15']\n",
      " ['A16' 'B16' 'C16' 'D16' 'E16' 'F16']\n",
      " ['A17' 'B17' 'C17' 'D17' 'E17' 'F17']\n",
      " ['A18' 'B18' 'C18' 'D18' 'E18' 'F18']\n",
      " ['A19' 'B19' 'C19' 'D19' 'E19' 'F19']\n",
      " ['A20' 'B20' 'C20' 'D20' 'E20' 'F20']\n",
      " ['A21' 'B21' 'C21' 'D21' 'E21' 'F21']\n",
      " ['A22' 'B22' 'C22' 'D22' 'E22' 'F22']\n",
      " ['A23' 'B23' 'C23' 'D23' 'E23' 'F23']\n",
      " ['A24' 'B24' 'C24' 'D24' 'E24' 'F24']\n",
      " ['A25' 'B25' 'C25' 'D25' 'E25' 'F25']\n",
      " ['A26' 'B26' 'C26' 'D26' 'E26' 'F26']\n",
      " ['A27' 'B27' 'C27' 'D27' 'E27' 'F27']\n",
      " ['A28' 'B28' 'C28' 'D28' 'E28' 'F28']\n",
      " ['A29' 'B29' 'C29' 'D29' 'E29' 'F29']\n",
      " ['A30' 'B30' 'C30' 'D30' 'E30' 'F30']\n",
      " ['A31' 'B31' 'C31' 'D31' 'E31' 'F31']\n",
      " ['A32' 'B32' 'C32' 'D32' 'E32' 'F32']\n",
      " ['A33' 'B33' 'C33' 'D33' 'E33' 'F33']]\n"
     ]
    }
   ],
   "source": [
    "#Exercise 5\n",
    "import numpy as np\n",
    "\n",
    "import numpy as np\n",
    " \n",
    " \n",
    "A = np.char.add(\n",
    "    np.full((33, 1), 'A'),\n",
    "    np.arange(1, 34).reshape(-1, 1).astype('str'),\n",
    ")\n",
    "B = np.char.add(\n",
    "    np.full((33, 1), 'B'),\n",
    "    np.arange(1, 34).reshape(-1, 1).astype('str'),\n",
    ")\n",
    "C = np.char.add(\n",
    "    np.full((33, 1), 'C'),\n",
    "    np.arange(1, 34).reshape(-1, 1).astype('str'),\n",
    ")\n",
    "D = np.char.add(\n",
    "    np.full((33, 1), 'D'),\n",
    "    np.arange(1, 34).reshape(-1, 1).astype('str'),\n",
    ")\n",
    "E = np.char.add(\n",
    "    np.full((33, 1), 'E'),\n",
    "    np.arange(1, 34).reshape(-1, 1).astype('str'),\n",
    ")\n",
    "F = np.char.add(\n",
    "    np.full((33, 1), 'F'),\n",
    "    np.arange(1, 34).reshape(-1, 1).astype('str'),\n",
    ")\n",
    " \n",
    "airplane = np.c_[A, B, C, D, E, F]\n",
    "print(airplane)\n"
   ]
  },
  {
   "cell_type": "code",
   "execution_count": 14,
   "id": "bf42889f",
   "metadata": {},
   "outputs": [
    {
     "name": "stdout",
     "output_type": "stream",
     "text": [
      "[['A1' 'B1' 'C1' 'D1' 'E1' 'F1']\n",
      " ['A2' 'B2' 'C2' 'D2' 'E2' 'F2']\n",
      " ['A3' 'B3' 'C3' 'D3' 'E3' 'F3']\n",
      " ['A4' 'B4' 'C4' 'D4' 'E4' 'F4']\n",
      " ['A5' 'B5' 'C5' 'D5' 'E5' 'F5']\n",
      " ['A6' 'B6' 'C6' 'D6' 'E6' 'F6']\n",
      " ['A7' 'B7' 'C7' 'D7' 'E7' 'F7']\n",
      " ['A8' 'B8' 'C8' 'D8' 'E8' 'F8']\n",
      " ['A9' 'B9' 'C9' 'D9' 'E9' 'F9']\n",
      " ['A10' 'B10' 'C10' 'D10' 'E10' 'F10']\n",
      " ['A11' 'B11' 'C11' 'D11' 'E11' 'F11']\n",
      " ['A12' 'B12' 'C12' 'D12' 'E12' 'F12']\n",
      " ['A13' 'B13' 'C13' 'D13' 'E13' 'F13']\n",
      " ['A14' 'B14' 'C14' 'D14' 'E14' 'F14']\n",
      " ['A15' 'B15' 'C15' 'D15' 'E15' 'F15']\n",
      " ['A16' 'B16' 'C16' 'D16' 'E16' 'F16']\n",
      " ['A17' 'B17' 'C17' 'D17' 'E17' 'F17']\n",
      " ['A18' 'B18' 'C18' 'D18' 'E18' 'F18']\n",
      " ['A19' 'B19' 'C19' 'D19' 'E19' 'F19']\n",
      " ['A20' 'B20' 'C20' 'D20' 'E20' 'F20']\n",
      " ['A21' 'B21' 'C21' 'D21' 'E21' 'F21']\n",
      " ['A22' 'B22' 'C22' 'D22' 'E22' 'F22']\n",
      " ['A23' 'B23' 'C23' 'D23' 'E23' 'F23']\n",
      " ['A24' 'B24' 'C24' 'D24' 'E24' 'F24']\n",
      " ['A25' 'B25' 'C25' 'D25' 'E25' 'F25']\n",
      " ['A26' 'B26' 'C26' 'D26' 'E26' 'F26']\n",
      " ['A27' 'B27' 'C27' 'D27' 'E27' 'F27']\n",
      " ['A28' 'B28' 'C28' 'D28' 'E28' 'F28']\n",
      " ['A29' 'B29' 'C29' 'D29' 'E29' 'F29']\n",
      " ['A30' 'B30' 'C30' 'D30' 'E30' 'F30']\n",
      " ['A31' 'B31' 'C31' 'D31' 'E31' 'F31']\n",
      " ['A32' 'B32' 'C32' 'D32' 'E32' 'F32']\n",
      " ['A33' 'B33' 'C33' 'D33' 'E33' 'F33']]\n"
     ]
    }
   ],
   "source": [
    "#LIST COMPREHENSION\n",
    "import numpy as np\n",
    " \n",
    " \n",
    "A = [\n",
    "    np.char.add(\n",
    "        np.full((33, 1), arr),\n",
    "        np.arange(1, 34).reshape(-1, 1).astype('str'),\n",
    "    )\n",
    "    for arr in list('ABCDEF')\n",
    "]\n",
    "airplane = np.concatenate(A, axis=1)\n",
    "print(airplane)"
   ]
  },
  {
   "cell_type": "code",
   "execution_count": 24,
   "id": "242d5e90",
   "metadata": {},
   "outputs": [
    {
     "name": "stdout",
     "output_type": "stream",
     "text": [
      "[['bread' 'eggs' 'nan' 'nan']\n",
      " ['bread' 'eggs' 'milk' 'nan']\n",
      " ['milk' 'cheese' 'nan' 'nan']\n",
      " ['bread' 'butter' 'cheese' 'nan']\n",
      " ['eggs' 'milk' 'nan' 'nan']\n",
      " ['bread' 'milk' 'butter' 'cheese']]\n"
     ]
    }
   ],
   "source": [
    "#Exercise 5\n",
    "import numpy as np\n",
    "\n",
    "data = {\n",
    "    'products': [\n",
    "        'bread eggs',\n",
    "        'bread eggs milk',\n",
    "        'milk cheese',\n",
    "        'bread butter cheese',\n",
    "        'eggs milk',\n",
    "        'bread milk butter cheese',\n",
    "    ]\n",
    "}\n",
    "\n",
    "sales = [transaction.split() for transaction in data['products']]\n",
    "number_of_transactions = len(data['products'])\n",
    "max_len = max(len(items) for items in sales)\n",
    " \n",
    "arr = np.full(\n",
    "    (number_of_transactions, max_len), \n",
    "    fill_value=np.nan, \n",
    "    dtype='<U32'\n",
    ")\n",
    " \n",
    "for idx_tran, transaction in enumerate(sales):\n",
    "    for idx_prod, product in enumerate(transaction):\n",
    "        arr[idx_tran, idx_prod] = product\n",
    " \n",
    "print(arr)"
   ]
  },
  {
   "cell_type": "code",
   "execution_count": 38,
   "id": "bad4ec21",
   "metadata": {},
   "outputs": [
    {
     "name": "stdout",
     "output_type": "stream",
     "text": [
      "[['Profile' 'Time' 'Course' 'Change' 'Change%' 'Ref.' 'Open' 'Low' 'High' 'Volume' 'Turn' 'Share']\n",
      " ['11B(11BIT)' '17kwi17:01' '391.00' '+8.00' '(+2.09%)' '383.00' '383.50' '383.00' '394.00' '12784' '4994874' '19.034%']\n",
      " ['CDR(CDPROJEKT)' '17kwi17:01' '339.50' '+5.30' '(+1.59%)' '334.20' '338.30' '337.00' '344.20' '233059' '79245368' '39.618%']\n",
      " ['CIG(CIGAMES)' '17kwi17:03' '0.742' '-0.012' '(-1.59%)' '0.754' '0.772' '0.730' '0.772' '1311078' '971459' '1.855%']\n",
      " ['PLW(PLAYWAY)' '17kwi17:03' '387.50' '+18.00' '(+4.87%)' '369.50' '374.00' '373.00' '388.00' '33206' '12661786' '10.638%']\n",
      " ['TEN(TSGAMES)' '17kwi17:02' '349.50' '+22.50' '(+6.88%)' '327.00' '332.00' '330.00' '353.50' '39793' '13697060' '28.855%']]\n"
     ]
    }
   ],
   "source": [
    "#Exercise 6\n",
    "\"\"\"\n",
    "The string wig_games_raw is given  - WIG.GAMES index data (see below).\n",
    "Create an array from this string as shown below and assign to the wig_games variable.\n",
    "In response, print this array to the console.\n",
    "\"\"\"\n",
    "import numpy as np\n",
    "\n",
    "\n",
    "np.set_printoptions(linewidth=160, suppress=True)\n",
    "\n",
    "wig_games_raw = \"\"\"Profile\tTime\tCourse\tChange\tChange%\tRef.\tOpen\tLow\tHigh\tVolume\tTurn\tShare\n",
    "11B (11BIT)\t17 kwi 17:01\t391.00\t+8.00\t(+2.09%)\t383.00\t383.50\t383.00\t394.00\t12 784\t4 994 874\t19.034%\n",
    "CDR (CDPROJEKT)\t17 kwi 17:01\t339.50\t+5.30\t(+1.59%)\t334.20\t338.30\t337.00\t344.20\t233 059\t79 245 368\t39.618%\n",
    "CIG (CIGAMES)\t17 kwi 17:03\t0.742\t-0.012\t(-1.59%)\t0.754\t0.772\t0.730\t0.772\t1 311 078\t971 459\t1.855%\n",
    "PLW (PLAYWAY)\t17 kwi 17:03\t387.50\t+18.00\t(+4.87%)\t369.50\t374.00\t373.00\t388.00\t33 206\t12 661 786\t10.638%\n",
    "TEN (TSGAMES)\t17 kwi 17:02\t349.50\t+22.50\t(+6.88%)\t327.00\t332.00\t330.00\t353.50\t39 793\t13 697 060\t28.855%\"\"\"\n",
    "\n",
    "lines = wig_games_raw.splitlines()\n",
    "lines = [line.split('\\t') for line in lines]\n",
    "wig_games = np.array(lines, dtype=str)\n",
    "wig_games = np.char.replace(wig_games, ' ', '')\n",
    "print(wig_games)"
   ]
  },
  {
   "cell_type": "markdown",
   "id": "7f55d298",
   "metadata": {},
   "source": [
    "***SECTION 33 - FUNCTIONAL PROGRAMMING & UNIVERSAL FUNCTIONS***"
   ]
  },
  {
   "cell_type": "code",
   "execution_count": 43,
   "id": "3917f1f3",
   "metadata": {},
   "outputs": [
    {
     "name": "stdout",
     "output_type": "stream",
     "text": [
      "[3 5 7 7]\n"
     ]
    }
   ],
   "source": [
    "#Exercise 1\n",
    "\"\"\"\n",
    "Using the np.apply_along_axis() function, determine the difference between the highest\n",
    "and the smallest value for each row of this array. In response, print \n",
    "the result to the console.\n",
    "\"\"\"\n",
    "\n",
    "import numpy as np\n",
    "\n",
    "A = np.array(\n",
    "    [\n",
    "        [4, 3, 6],\n",
    "        [5, 2, 7],\n",
    "        [8, 3, 10],\n",
    "        [-3, 4, 2],\n",
    "    ]\n",
    ")\n",
    "def max_min(A):\n",
    "    return max(A) - min(A)\n",
    "result = np.apply_along_axis(max_min, 1, A)\n",
    "print(result)"
   ]
  },
  {
   "cell_type": "code",
   "execution_count": 56,
   "id": "c167d811",
   "metadata": {},
   "outputs": [
    {
     "name": "stdout",
     "output_type": "stream",
     "text": [
      "[[0.2   0.5   0.5  ]\n",
      " [0.4   0.    0.625]\n",
      " [1.    0.5   1.   ]\n",
      " [0.    1.    0.   ]]\n"
     ]
    }
   ],
   "source": [
    "#Exercise 2\n",
    "\"\"\"\n",
    "Using the np.apply_along_axis() function and the formula below, standardize this array (along the columns).\n",
    "In response, print the result to the console.\n",
    "\"\"\"\n",
    "import numpy as np\n",
    "\n",
    "A = np.array(\n",
    "    [\n",
    "        [4, 3, 6],\n",
    "        [5, 2, 7],\n",
    "        [8, 3, 10],\n",
    "        [3, 4, 2],\n",
    "    ]\n",
    ")\n",
    "def std(A):\n",
    "    return (A - min(A) )/(max(A) - min(A))\n",
    "result = np.apply_along_axis(std, 0, A)\n",
    "print(result)"
   ]
  },
  {
   "cell_type": "code",
   "execution_count": 103,
   "id": "92ac2e57",
   "metadata": {},
   "outputs": [
    {
     "name": "stdout",
     "output_type": "stream",
     "text": [
      "[[ 6  3  4]\n",
      " [ 7  2  5]\n",
      " [10  3  8]\n",
      " [ 2  4 -3]]\n"
     ]
    }
   ],
   "source": [
    "#Exercise 3\n",
    "\"\"\"\n",
    "Using the np.apply_along_axis() function replace the first element of each line with the last one.\n",
    "In response, print the result to the console.\n",
    "\"\"\"\n",
    "import numpy as np\n",
    "\n",
    "\n",
    "A = np.array(\n",
    "    [\n",
    "        [4, 3, 6],\n",
    "        [5, 2, 7],\n",
    "        [8, 3, 10],\n",
    "        [-3, 4, 2],\n",
    "    ]\n",
    ")\n",
    "def replace(row):\n",
    "    first = row[0]\n",
    "    last = row[-1]\n",
    "    row[0] = last\n",
    "    row[-1] = first\n",
    "    return row\n",
    "\n",
    "result = np.apply_along_axis(replace, 1, A)\n",
    "print(result)"
   ]
  },
  {
   "cell_type": "code",
   "execution_count": 24,
   "id": "259bc7ea",
   "metadata": {},
   "outputs": [
    {
     "name": "stdout",
     "output_type": "stream",
     "text": [
      "[7 8 4 -1]\n",
      "[[6 9 10 12]\n",
      " [2 5 8 7]]\n"
     ]
    }
   ],
   "source": [
    "#Exercise 4\n",
    "\"\"\"\n",
    "Create your own universal function in NumPy called add_three() that takes one argument, \n",
    "adds 3 to it, and returns the result.\n",
    "Then, call this function on the following arrays and print result to the console as shown below.\n",
    "\"\"\"\n",
    "import numpy as np\n",
    " \n",
    " \n",
    "A = np.array([4, 5, 1, -4])\n",
    "B = np.array([[3, 6, 7, 9], [-1, 2, 5, 4]])\n",
    " \n",
    " \n",
    "def add_three(a):\n",
    "    return a + 3\n",
    " \n",
    " \n",
    "add_three = np.frompyfunc(add_three, 1, 1)\n",
    " \n",
    "print(add_three(A))\n",
    "print(add_three(B))"
   ]
  },
  {
   "cell_type": "code",
   "execution_count": 32,
   "id": "16a7d50f",
   "metadata": {},
   "outputs": [
    {
     "name": "stdout",
     "output_type": "stream",
     "text": [
      "[7 11 8 13]\n"
     ]
    }
   ],
   "source": [
    "#Exercise 5\n",
    "\"\"\"\n",
    "Create your own universal function in NumPy called add_abs() that takes two arguments,\n",
    "adds its absolute values, and returns the result.\n",
    "\n",
    "Then, call this function on the following arrays and print result to the console as shown below.\n",
    "\"\"\"\n",
    "import numpy as np\n",
    "\n",
    "A = np.array([4, 5, 1, -4])\n",
    "B = np.array([3, -6, 7, 9])\n",
    "\n",
    "def add_abbs(x,y):\n",
    "    result = np.abs(x) + np.abs(y)\n",
    "    return result\n",
    "\n",
    "add_abbs = np.frompyfunc(add_abbs, 2, 1)\n",
    "print(add_abbs(A,B))\n",
    "#print(add_abbs(B))"
   ]
  },
  {
   "cell_type": "code",
   "execution_count": 50,
   "id": "5fe098c4",
   "metadata": {},
   "outputs": [
    {
     "name": "stdout",
     "output_type": "stream",
     "text": [
      "[54 55 28 38]\n"
     ]
    }
   ],
   "source": [
    "#Exercise 6\n",
    "\"\"\"\n",
    "Use an appropriate universal function to reduce array's dimensions by one,\n",
    "by applying np.add() function along rows of the array.\n",
    "In response, print the result to the console.\n",
    "\"\"\"\n",
    "import numpy as np\n",
    "\n",
    "A = np.array(\n",
    "    [\n",
    "        [9, 7, 8, 6, 1, 8, 7, 0, 3, 5],\n",
    "        [0, 5, 2, 7, 9, 9, 2, 6, 9, 6],\n",
    "        [1, 0, 7, 3, 6, 1, 0, 3, 1, 6],\n",
    "        [2, 6, 4, 2, 3, 6, 2, 1, 6, 6],\n",
    "    ]\n",
    ")\n",
    "result = np.add.reduce(A, axis = 1)\n",
    "print(result)"
   ]
  },
  {
   "cell_type": "code",
   "execution_count": 61,
   "id": "a905d85d",
   "metadata": {},
   "outputs": [
    {
     "name": "stdout",
     "output_type": "stream",
     "text": [
      "[-0.02779126 -1.0659269  -0.84961631 -1.48433242 -0.13956892]\n",
      "[0.81548431 1.63826084 0.73958158 0.88909722 1.05677039]\n"
     ]
    }
   ],
   "source": [
    "#Exercise 7\n",
    "\"\"\"\n",
    "Perform the following calculations:\n",
    "use an appropriate universal function to reduce array's dimensions by one, \n",
    "by applying minimum function along columns of the array\n",
    "use an appropriate universal function to reduce array's dimensions by one, \n",
    "by applying maximum function along columns of the array\n",
    "\"\"\"\n",
    "import numpy as np\n",
    "\n",
    "A = np.array(\n",
    "    [\n",
    "        [0.24398619, 0.14025396, -0.34406837, -0.12594602, 1.05677039],\n",
    "        [-0.02779126, 1.63826084, 0.71438632, -1.48433242, 0.43180597],\n",
    "        [0.81548431, 0.29686715, 0.73958158, -0.30588133, 0.46631347],\n",
    "        [0.75545748, -1.0659269, -0.84961631, 0.88909722, -0.13956892],\n",
    "    ]\n",
    ")\n",
    "\n",
    "result1 = np.min(A, axis = 0)\n",
    "result2 = np.max(A, axis = 0)\n",
    "\"\"\"\n",
    "min_result = np.minimum.reduce(A, axis=0)\n",
    "max_result = np.maximum.reduce(A, axis=0)\n",
    "\"\"\"\n",
    "print(result1)\n",
    "print(result2)"
   ]
  },
  {
   "cell_type": "markdown",
   "id": "bc6327b8",
   "metadata": {},
   "source": [
    "***TEST***"
   ]
  },
  {
   "cell_type": "code",
   "execution_count": 62,
   "id": "97fa851d",
   "metadata": {},
   "outputs": [
    {
     "name": "stdout",
     "output_type": "stream",
     "text": [
      "[[ 9 12]\n",
      " [ 3  4]\n",
      " [18 24]]\n"
     ]
    }
   ],
   "source": [
    "#1\n",
    "A = np.array([[3],[1],[6]])\n",
    "B = np.array([[3,4]])\n",
    "print(np.dot(A,B))"
   ]
  },
  {
   "cell_type": "code",
   "execution_count": 63,
   "id": "5415a700",
   "metadata": {},
   "outputs": [
    {
     "ename": "ValueError",
     "evalue": "shapes (3,1) and (2,2) not aligned: 1 (dim 1) != 2 (dim 0)",
     "output_type": "error",
     "traceback": [
      "\u001b[1;31m---------------------------------------------------------------------------\u001b[0m",
      "\u001b[1;31mValueError\u001b[0m                                Traceback (most recent call last)",
      "Cell \u001b[1;32mIn[63], line 4\u001b[0m\n\u001b[0;32m      2\u001b[0m A \u001b[38;5;241m=\u001b[39m np\u001b[38;5;241m.\u001b[39marray([[\u001b[38;5;241m3\u001b[39m],[\u001b[38;5;241m1\u001b[39m],[\u001b[38;5;241m6\u001b[39m]])\n\u001b[0;32m      3\u001b[0m B \u001b[38;5;241m=\u001b[39m np\u001b[38;5;241m.\u001b[39marray([[\u001b[38;5;241m3\u001b[39m,\u001b[38;5;241m4\u001b[39m], [\u001b[38;5;241m2\u001b[39m,\u001b[38;5;241m1\u001b[39m]])\n\u001b[1;32m----> 4\u001b[0m \u001b[38;5;28mprint\u001b[39m(\u001b[43mnp\u001b[49m\u001b[38;5;241;43m.\u001b[39;49m\u001b[43mdot\u001b[49m\u001b[43m(\u001b[49m\u001b[43mA\u001b[49m\u001b[43m,\u001b[49m\u001b[43mB\u001b[49m\u001b[43m)\u001b[49m)\n",
      "File \u001b[1;32m<__array_function__ internals>:180\u001b[0m, in \u001b[0;36mdot\u001b[1;34m(*args, **kwargs)\u001b[0m\n",
      "\u001b[1;31mValueError\u001b[0m: shapes (3,1) and (2,2) not aligned: 1 (dim 1) != 2 (dim 0)"
     ]
    }
   ],
   "source": [
    "#2\n",
    "A = np.array([[3],[1],[6]])\n",
    "B = np.array([[3,4], [2,1]])\n",
    "print(np.dot(A,B))"
   ]
  },
  {
   "cell_type": "code",
   "execution_count": 64,
   "id": "79ea3545",
   "metadata": {},
   "outputs": [
    {
     "name": "stdout",
     "output_type": "stream",
     "text": [
      "[6 7 8]\n"
     ]
    }
   ],
   "source": [
    "#5\n",
    "print(np.array([1, 2, 3]) + 5)"
   ]
  },
  {
   "cell_type": "code",
   "execution_count": 65,
   "id": "b0ab3cf9",
   "metadata": {},
   "outputs": [
    {
     "name": "stdout",
     "output_type": "stream",
     "text": [
      "[2 4 6]\n"
     ]
    }
   ],
   "source": [
    "#6\n",
    "print(np.array([1, 2, 3]) * 2)"
   ]
  },
  {
   "cell_type": "code",
   "execution_count": 66,
   "id": "8d6fc8f3",
   "metadata": {},
   "outputs": [
    {
     "name": "stdout",
     "output_type": "stream",
     "text": [
      "[[   2   11  101 1001]\n",
      " [   1   10  100 1000]]\n"
     ]
    }
   ],
   "source": [
    "#7\n",
    "arr1 = np.array([[1, 1, 1, 1], [0, 0, 0, 0]])\n",
    "arr2 = np.array([[1, 10, 100, 1000]])\n",
    "\n",
    "print(arr1 + arr2)"
   ]
  },
  {
   "cell_type": "code",
   "execution_count": 67,
   "id": "f6e5f7df",
   "metadata": {},
   "outputs": [
    {
     "ename": "ValueError",
     "evalue": "operands could not be broadcast together with shapes (3,4) (1,3) ",
     "output_type": "error",
     "traceback": [
      "\u001b[1;31m---------------------------------------------------------------------------\u001b[0m",
      "\u001b[1;31mValueError\u001b[0m                                Traceback (most recent call last)",
      "Cell \u001b[1;32mIn[67], line 4\u001b[0m\n\u001b[0;32m      1\u001b[0m arr1 \u001b[38;5;241m=\u001b[39m np\u001b[38;5;241m.\u001b[39marray([[\u001b[38;5;241m1\u001b[39m, \u001b[38;5;241m1\u001b[39m, \u001b[38;5;241m1\u001b[39m, \u001b[38;5;241m1\u001b[39m], [\u001b[38;5;241m0\u001b[39m, \u001b[38;5;241m0\u001b[39m, \u001b[38;5;241m0\u001b[39m, \u001b[38;5;241m0\u001b[39m], [\u001b[38;5;241m-\u001b[39m\u001b[38;5;241m1\u001b[39m, \u001b[38;5;241m-\u001b[39m\u001b[38;5;241m1\u001b[39m, \u001b[38;5;241m-\u001b[39m\u001b[38;5;241m1\u001b[39m, \u001b[38;5;241m-\u001b[39m\u001b[38;5;241m1\u001b[39m]])\n\u001b[0;32m      2\u001b[0m arr2 \u001b[38;5;241m=\u001b[39m np\u001b[38;5;241m.\u001b[39marray([[\u001b[38;5;241m1\u001b[39m, \u001b[38;5;241m10\u001b[39m, \u001b[38;5;241m100\u001b[39m]])\n\u001b[1;32m----> 4\u001b[0m \u001b[38;5;28mprint\u001b[39m(\u001b[43marr1\u001b[49m\u001b[43m \u001b[49m\u001b[38;5;241;43m+\u001b[39;49m\u001b[43m \u001b[49m\u001b[43marr2\u001b[49m)\n",
      "\u001b[1;31mValueError\u001b[0m: operands could not be broadcast together with shapes (3,4) (1,3) "
     ]
    }
   ],
   "source": [
    "#8\n",
    "arr1 = np.array([[1, 1, 1, 1], [0, 0, 0, 0], [-1, -1, -1, -1]])\n",
    "arr2 = np.array([[1, 10, 100]])\n",
    "\n",
    "print(arr1 + arr2)"
   ]
  },
  {
   "cell_type": "code",
   "execution_count": 68,
   "id": "1407577e",
   "metadata": {},
   "outputs": [
    {
     "name": "stdout",
     "output_type": "stream",
     "text": [
      "[6 9]\n"
     ]
    }
   ],
   "source": [
    "#9\n",
    "arr = np.array([[2, 5], [6, 2], [9, 1]])\n",
    "\n",
    "print(arr[arr > 5])"
   ]
  },
  {
   "cell_type": "code",
   "execution_count": 69,
   "id": "d4f69048",
   "metadata": {},
   "outputs": [
    {
     "name": "stdout",
     "output_type": "stream",
     "text": [
      "[[2 0]\n",
      " [6 2]\n",
      " [0 1]]\n"
     ]
    }
   ],
   "source": [
    "#10\n",
    "arr = np.array([[2, 5], [6, 2], [9, 1]])\n",
    "\n",
    "mask = (arr == 5) | (arr > 8)\n",
    "arr[mask] = 0\n",
    "print(arr)"
   ]
  }
 ],
 "metadata": {
  "kernelspec": {
   "display_name": "Python 3 (ipykernel)",
   "language": "python",
   "name": "python3"
  },
  "language_info": {
   "codemirror_mode": {
    "name": "ipython",
    "version": 3
   },
   "file_extension": ".py",
   "mimetype": "text/x-python",
   "name": "python",
   "nbconvert_exporter": "python",
   "pygments_lexer": "ipython3",
   "version": "3.10.9"
  }
 },
 "nbformat": 4,
 "nbformat_minor": 5
}
